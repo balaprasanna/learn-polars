{
 "cells": [
  {
   "cell_type": "markdown",
   "metadata": {},
   "source": [
    "# Polars Expressions & Selectors - Comprehensive Guide\n",
    "\n",
    "Expressions are the heart of Polars. They provide a powerful, flexible way to manipulate data.\n",
    "\n",
    "## What You'll Learn:\n",
    "- Expression basics and chaining\n",
    "- Column selection patterns\n",
    "- Selectors for dtype-based operations  \n",
    "- Conditional expressions\n",
    "- Expression contexts (select, with_columns, filter, etc.)\n",
    "- Advanced expression patterns"
   ]
  },
  {
   "cell_type": "code",
   "execution_count": null,
   "metadata": {},
   "outputs": [],
   "source": [
    "import polars as pl\n",
    "import polars.selectors as cs\n",
    "import numpy as np"
   ]
  },
  {
   "cell_type": "markdown",
   "metadata": {},
   "source": [
    "## Part 1: Expression Basics"
   ]
  },
  {
   "cell_type": "code",
   "execution_count": null,
   "metadata": {},
   "outputs": [],
   "source": [
    "# Sample data\n",
    "df = pl.DataFrame({\n",
    "    'customer_id': [1, 2, 3, 4, 5],\n",
    "    'name': ['Alice', 'Bob', 'Charlie', 'Diana', 'Eve'],\n",
    "    'age': [25, 34, 28, 42, 31],\n",
    "    'income': [50000, 75000, 60000, 95000, 68000],\n",
    "    'city': ['NYC', 'LA', 'Chicago', 'NYC', 'Boston'],\n",
    "    'purchases': [5, 12, 3, 18, 7],\n",
    "    'total_spent': [250.5, 680.2, 120.0, 950.8, 340.5]\n",
    "})\n",
    "\n",
    "print(df)"
   ]
  },
  {
   "cell_type": "markdown",
   "metadata": {},
   "source": [
    "### What is an Expression?\n",
    "\n",
    "An expression is an operation on a column (or columns) that returns a Series."
   ]
  },
  {
   "cell_type": "code",
   "execution_count": null,
   "metadata": {},
   "outputs": [],
   "source": [
    "# Basic expression: select a column\n",
    "expr = pl.col('age')\n",
    "print(f\"Expression type: {type(expr)}\")\n",
    "print(f\"Expression: {expr}\")\n",
    "\n",
    "# Execute expression in select\n",
    "result = df.select(expr)\n",
    "print(\"\\nResult:\")\n",
    "print(result)"
   ]
  },
  {
   "cell_type": "markdown",
   "metadata": {},
   "source": [
    "### Expression Chaining"
   ]
  },
  {
   "cell_type": "code",
   "execution_count": null,
   "metadata": {},
   "outputs": [],
   "source": [
    "# Chain operations on an expression\n",
    "result = df.select([\n",
    "    pl.col('age'),\n",
    "    (pl.col('age') * 2).alias('age_doubled'),\n",
    "    (pl.col('age') + 10).alias('age_plus_10'),\n",
    "    (pl.col('income') / 1000).alias('income_k')\n",
    "])\n",
    "\n",
    "print(result)"
   ]
  },
  {
   "cell_type": "markdown",
   "metadata": {},
   "source": [
    "## Part 2: Column Selection Patterns"
   ]
  },
  {
   "cell_type": "markdown",
   "metadata": {},
   "source": [
    "### pl.col() - Select specific columns"
   ]
  },
  {
   "cell_type": "code",
   "execution_count": null,
   "metadata": {},
   "outputs": [],
   "source": [
    "# Single column\n",
    "print(\"Single column:\")\n",
    "print(df.select(pl.col('name')))\n",
    "\n",
    "# Multiple columns (as list)\n",
    "print(\"\\nMultiple columns (list):\")\n",
    "print(df.select(['name', 'age', 'city']))\n",
    "\n",
    "# Multiple columns (as separate args)\n",
    "print(\"\\nMultiple columns with pl.col():\")\n",
    "print(df.select(pl.col('name'), pl.col('age'), pl.col('city')))"
   ]
  },
  {
   "cell_type": "markdown",
   "metadata": {},
   "source": [
    "### pl.all() - Select all columns"
   ]
  },
  {
   "cell_type": "code",
   "execution_count": null,
   "metadata": {},
   "outputs": [],
   "source": [
    "# Apply operation to all columns\n",
    "result = df.select(pl.all())\n",
    "print(\"All columns:\")\n",
    "print(result)\n",
    "\n",
    "# Apply transformation to all numeric columns\n",
    "result = df.select([\n",
    "    pl.col('customer_id', 'name', 'city'),  # Keep these as-is\n",
    "    (pl.col('age', 'income', 'purchases', 'total_spent') / 2)  # Transform these\n",
    "])\n",
    "print(\"\\nTransform multiple columns:\")\n",
    "print(result)"
   ]
  },
  {
   "cell_type": "markdown",
   "metadata": {},
   "source": [
    "### pl.exclude() - Select all except specified"
   ]
  },
  {
   "cell_type": "code",
   "execution_count": null,
   "metadata": {},
   "outputs": [],
   "source": [
    "# Select all except certain columns\n",
    "result = df.select(pl.exclude('customer_id', 'total_spent'))\n",
    "print(\"All except customer_id and total_spent:\")\n",
    "print(result)\n",
    "\n",
    "# Apply operation to all numeric columns except one\n",
    "result = df.select([\n",
    "    pl.col('name', 'city'),\n",
    "    pl.exclude('name', 'city', 'customer_id') * 2  # Multiply all other numeric cols\n",
    "])\n",
    "print(\"\\nDouble all numeric except customer_id:\")\n",
    "print(result)"
   ]
  },
  {
   "cell_type": "markdown",
   "metadata": {},
   "source": [
    "### Regex patterns for column selection"
   ]
  },
  {
   "cell_type": "code",
   "execution_count": null,
   "metadata": {},
   "outputs": [],
   "source": [
    "# Select columns matching regex\n",
    "result = df.select(pl.col('^.*_id$'))  # Columns ending with '_id'\n",
    "print(\"Columns ending with '_id':\")\n",
    "print(result)\n",
    "\n",
    "# Multiple patterns\n",
    "result = df.select(pl.col('^(name|city)$'))\n",
    "print(\"\\nColumns matching 'name' or 'city':\")\n",
    "print(result)"
   ]
  },
  {
   "cell_type": "markdown",
   "metadata": {},
   "source": [
    "## Part 3: Selectors (dtype-based selection)"
   ]
  },
  {
   "cell_type": "code",
   "execution_count": null,
   "metadata": {},
   "outputs": [],
   "source": [
    "# Create DataFrame with mixed types\n",
    "mixed_df = pl.DataFrame({\n",
    "    'int_col': [1, 2, 3, 4, 5],\n",
    "    'float_col': [1.1, 2.2, 3.3, 4.4, 5.5],\n",
    "    'str_col': ['a', 'b', 'c', 'd', 'e'],\n",
    "    'bool_col': [True, False, True, False, True],\n",
    "    'date_col': pl.date_range(pl.date(2023, 1, 1), pl.date(2023, 1, 5), '1d', eager=True)\n",
    "})\n",
    "\n",
    "print(mixed_df)\n",
    "print(\"\\nSchema:\")\n",
    "print(mixed_df.schema)"
   ]
  },
  {
   "cell_type": "markdown",
   "metadata": {},
   "source": [
    "### cs.numeric() - Select numeric columns"
   ]
  },
  {
   "cell_type": "code",
   "execution_count": null,
   "metadata": {},
   "outputs": [],
   "source": [
    "# Select all numeric columns\n",
    "result = mixed_df.select(cs.numeric())\n",
    "print(\"Numeric columns:\")\n",
    "print(result)\n",
    "\n",
    "# Apply operation to all numeric columns\n",
    "result = mixed_df.select([\n",
    "    cs.numeric() * 2  # Double all numeric columns\n",
    "])\n",
    "print(\"\\nAll numeric columns doubled:\")\n",
    "print(result)"
   ]
  },
  {
   "cell_type": "markdown",
   "metadata": {},
   "source": [
    "### cs.string() - Select string columns"
   ]
  },
  {
   "cell_type": "code",
   "execution_count": null,
   "metadata": {},
   "outputs": [],
   "source": [
    "# Select string columns\n",
    "result = mixed_df.select(cs.string())\n",
    "print(\"String columns:\")\n",
    "print(result)\n",
    "\n",
    "# Apply string operation to all string columns\n",
    "result = mixed_df.select([\n",
    "    cs.string().str.to_uppercase()\n",
    "])\n",
    "print(\"\\nUppercase all string columns:\")\n",
    "print(result)"
   ]
  },
  {
   "cell_type": "markdown",
   "metadata": {},
   "source": [
    "### Other useful selectors"
   ]
  },
  {
   "cell_type": "code",
   "execution_count": null,
   "metadata": {},
   "outputs": [],
   "source": [
    "# cs.integer() - integer columns only\n",
    "print(\"Integer columns:\")\n",
    "print(mixed_df.select(cs.integer()))\n",
    "\n",
    "# cs.float() - float columns only\n",
    "print(\"\\nFloat columns:\")\n",
    "print(mixed_df.select(cs.float()))\n",
    "\n",
    "# cs.temporal() - date/datetime columns\n",
    "print(\"\\nTemporal columns:\")\n",
    "print(mixed_df.select(cs.temporal()))\n",
    "\n",
    "# cs.boolean() - boolean columns\n",
    "print(\"\\nBoolean columns:\")\n",
    "print(mixed_df.select(cs.boolean()))"
   ]
  },
  {
   "cell_type": "markdown",
   "metadata": {},
   "source": [
    "### Combining selectors"
   ]
  },
  {
   "cell_type": "code",
   "execution_count": null,
   "metadata": {},
   "outputs": [],
   "source": [
    "# Union: numeric OR string\n",
    "result = mixed_df.select(cs.numeric() | cs.string())\n",
    "print(\"Numeric OR string columns:\")\n",
    "print(result)\n",
    "\n",
    "# Intersection: (not common, but possible with by_dtype)\n",
    "# Negation: NOT numeric\n",
    "result = mixed_df.select(~cs.numeric())\n",
    "print(\"\\nNOT numeric columns:\")\n",
    "print(result)\n",
    "\n",
    "# Difference: all columns except numeric\n",
    "result = mixed_df.select(cs.all() - cs.numeric())\n",
    "print(\"\\nAll except numeric:\")\n",
    "print(result)"
   ]
  },
  {
   "cell_type": "markdown",
   "metadata": {},
   "source": [
    "## Part 4: Expression Contexts\n",
    "\n",
    "Expressions can be used in different contexts:\n",
    "- `select()`: Return specific columns\n",
    "- `with_columns()`: Add/modify columns\n",
    "- `filter()`: Filter rows\n",
    "- `group_by().agg()`: Aggregate"
   ]
  },
  {
   "cell_type": "markdown",
   "metadata": {},
   "source": [
    "### Context 1: select()"
   ]
  },
  {
   "cell_type": "code",
   "execution_count": null,
   "metadata": {},
   "outputs": [],
   "source": [
    "# Select returns only specified columns\n",
    "result = df.select([\n",
    "    pl.col('name'),\n",
    "    (pl.col('income') / 1000).alias('income_k'),\n",
    "    (pl.col('total_spent') / pl.col('purchases')).alias('avg_per_purchase')\n",
    "])\n",
    "\n",
    "print(\"select() - Only return specified columns:\")\n",
    "print(result)"
   ]
  },
  {
   "cell_type": "markdown",
   "metadata": {},
   "source": [
    "### Context 2: with_columns()"
   ]
  },
  {
   "cell_type": "code",
   "execution_count": null,
   "metadata": {},
   "outputs": [],
   "source": [
    "# with_columns keeps all original columns and adds new ones\n",
    "result = df.with_columns([\n",
    "    (pl.col('income') / 1000).alias('income_k'),\n",
    "    (pl.col('total_spent') / pl.col('purchases')).alias('avg_per_purchase'),\n",
    "    (pl.col('age') > 30).alias('is_over_30')\n",
    "])\n",
    "\n",
    "print(\"with_columns() - Keep all + add new:\")\n",
    "print(result)"
   ]
  },
  {
   "cell_type": "markdown",
   "metadata": {},
   "source": [
    "### Context 3: filter()"
   ]
  },
  {
   "cell_type": "code",
   "execution_count": null,
   "metadata": {},
   "outputs": [],
   "source": [
    "# filter uses expressions as boolean masks\n",
    "result = df.filter(\n",
    "    (pl.col('age') > 30) & (pl.col('income') > 70000)\n",
    ")\n",
    "\n",
    "print(\"filter() - Keep rows where condition is True:\")\n",
    "print(result)\n",
    "\n",
    "# Multiple conditions\n",
    "result = df.filter(\n",
    "    pl.col('city').is_in(['NYC', 'LA']),\n",
    "    pl.col('purchases') > 5  # Multiple args are AND'ed\n",
    ")\n",
    "print(\"\\nMultiple filter conditions:\")\n",
    "print(result)"
   ]
  },
  {
   "cell_type": "markdown",
   "metadata": {},
   "source": [
    "### Context 4: group_by().agg()"
   ]
  },
  {
   "cell_type": "code",
   "execution_count": null,
   "metadata": {},
   "outputs": [],
   "source": [
    "# Aggregation expressions\n",
    "result = df.group_by('city').agg([\n",
    "    pl.col('age').mean().alias('avg_age'),\n",
    "    pl.col('income').sum().alias('total_income'),\n",
    "    pl.col('purchases').count().alias('num_customers')\n",
    "])\n",
    "\n",
    "print(\"group_by().agg() - Aggregate expressions:\")\n",
    "print(result)"
   ]
  },
  {
   "cell_type": "markdown",
   "metadata": {},
   "source": [
    "## Part 5: Conditional Expressions (when/then/otherwise)"
   ]
  },
  {
   "cell_type": "code",
   "execution_count": null,
   "metadata": {},
   "outputs": [],
   "source": [
    "# Simple if-else\n",
    "result = df.select([\n",
    "    pl.col('name'),\n",
    "    pl.col('age'),\n",
    "    pl.when(pl.col('age') >= 35)\n",
    "      .then(pl.lit('Senior'))\n",
    "      .otherwise(pl.lit('Junior'))\n",
    "      .alias('category')\n",
    "])\n",
    "\n",
    "print(\"Simple when/then/otherwise:\")\n",
    "print(result)"
   ]
  },
  {
   "cell_type": "code",
   "execution_count": null,
   "metadata": {},
   "outputs": [],
   "source": [
    "# Multiple conditions (if/elif/else)\n",
    "result = df.select([\n",
    "    pl.col('name'),\n",
    "    pl.col('income'),\n",
    "    pl.when(pl.col('income') >= 90000)\n",
    "      .then(pl.lit('High'))\n",
    "      .when(pl.col('income') >= 60000)\n",
    "      .then(pl.lit('Medium'))\n",
    "      .otherwise(pl.lit('Low'))\n",
    "      .alias('income_bracket')\n",
    "])\n",
    "\n",
    "print(\"Multiple conditions:\")\n",
    "print(result)"
   ]
  },
  {
   "cell_type": "code",
   "execution_count": null,
   "metadata": {},
   "outputs": [],
   "source": [
    "# Complex conditions\n",
    "result = df.select([\n",
    "    pl.col('name'),\n",
    "    pl.col('age'),\n",
    "    pl.col('income'),\n",
    "    pl.when((pl.col('age') > 30) & (pl.col('income') > 70000))\n",
    "      .then(pl.lit('Premium'))\n",
    "      .when((pl.col('age') <= 30) & (pl.col('income') > 60000))\n",
    "      .then(pl.lit('Young Professional'))\n",
    "      .when(pl.col('age') > 35)\n",
    "      .then(pl.lit('Senior'))\n",
    "      .otherwise(pl.lit('Standard'))\n",
    "      .alias('segment')\n",
    "])\n",
    "\n",
    "print(\"Complex conditions:\")\n",
    "print(result)"
   ]
  },
  {
   "cell_type": "markdown",
   "metadata": {},
   "source": [
    "## Part 6: Common Expression Operations"
   ]
  },
  {
   "cell_type": "markdown",
   "metadata": {},
   "source": [
    "### Arithmetic operations"
   ]
  },
  {
   "cell_type": "code",
   "execution_count": null,
   "metadata": {},
   "outputs": [],
   "source": [
    "result = df.select([\n",
    "    pl.col('name'),\n",
    "    pl.col('income'),\n",
    "    (pl.col('income') + 5000).alias('income_plus_5k'),\n",
    "    (pl.col('income') * 1.1).alias('income_10pct_raise'),\n",
    "    (pl.col('income') / 12).alias('monthly_income'),\n",
    "    (pl.col('income') % 10000).alias('income_mod_10k')\n",
    "])\n",
    "\n",
    "print(result)"
   ]
  },
  {
   "cell_type": "markdown",
   "metadata": {},
   "source": [
    "### Comparison operations"
   ]
  },
  {
   "cell_type": "code",
   "execution_count": null,
   "metadata": {},
   "outputs": [],
   "source": [
    "result = df.select([\n",
    "    pl.col('name'),\n",
    "    pl.col('age'),\n",
    "    (pl.col('age') > 30).alias('over_30'),\n",
    "    (pl.col('age') == 28).alias('exactly_28'),\n",
    "    (pl.col('age') >= 30).alias('at_least_30'),\n",
    "    (pl.col('age').is_between(25, 35)).alias('age_25_to_35')\n",
    "])\n",
    "\n",
    "print(result)"
   ]
  },
  {
   "cell_type": "markdown",
   "metadata": {},
   "source": [
    "### Logical operations"
   ]
  },
  {
   "cell_type": "code",
   "execution_count": null,
   "metadata": {},
   "outputs": [],
   "source": [
    "result = df.select([\n",
    "    pl.col('name'),\n",
    "    pl.col('age'),\n",
    "    pl.col('income'),\n",
    "    ((pl.col('age') > 30) & (pl.col('income') > 70000)).alias('senior_and_high_income'),\n",
    "    ((pl.col('age') < 30) | (pl.col('income') < 60000)).alias('young_or_low_income'),\n",
    "    (~(pl.col('age') > 30)).alias('not_over_30')\n",
    "])\n",
    "\n",
    "print(result)"
   ]
  },
  {
   "cell_type": "markdown",
   "metadata": {},
   "source": [
    "### String operations"
   ]
  },
  {
   "cell_type": "code",
   "execution_count": null,
   "metadata": {},
   "outputs": [],
   "source": [
    "result = df.select([\n",
    "    pl.col('name'),\n",
    "    pl.col('name').str.to_lowercase().alias('name_lower'),\n",
    "    pl.col('name').str.to_uppercase().alias('name_upper'),\n",
    "    pl.col('name').str.len_chars().alias('name_length'),\n",
    "    pl.col('name').str.starts_with('A').alias('starts_with_A'),\n",
    "    pl.col('name').str.contains('li').alias('contains_li')\n",
    "])\n",
    "\n",
    "print(result)"
   ]
  },
  {
   "cell_type": "markdown",
   "metadata": {},
   "source": [
    "### Null handling"
   ]
  },
  {
   "cell_type": "code",
   "execution_count": null,
   "metadata": {},
   "outputs": [],
   "source": [
    "# Create DataFrame with nulls\n",
    "df_nulls = pl.DataFrame({\n",
    "    'id': [1, 2, 3, 4, 5],\n",
    "    'value': [10, None, 30, None, 50],\n",
    "    'category': ['A', 'B', None, 'D', 'E']\n",
    "})\n",
    "\n",
    "print(\"Original with nulls:\")\n",
    "print(df_nulls)\n",
    "\n",
    "result = df_nulls.select([\n",
    "    pl.col('id'),\n",
    "    pl.col('value'),\n",
    "    pl.col('value').is_null().alias('value_is_null'),\n",
    "    pl.col('value').is_not_null().alias('value_is_not_null'),\n",
    "    pl.col('value').fill_null(0).alias('value_filled'),\n",
    "    pl.col('category').fill_null('Unknown').alias('category_filled')\n",
    "])\n",
    "\n",
    "print(\"\\nNull handling:\")\n",
    "print(result)"
   ]
  },
  {
   "cell_type": "markdown",
   "metadata": {},
   "source": [
    "## Part 7: Advanced Expression Patterns"
   ]
  },
  {
   "cell_type": "markdown",
   "metadata": {},
   "source": [
    "### Pattern 1: Apply same operation to multiple columns"
   ]
  },
  {
   "cell_type": "code",
   "execution_count": null,
   "metadata": {},
   "outputs": [],
   "source": [
    "# Normalize multiple columns (z-score)\n",
    "result = df.select([\n",
    "    pl.col('name'),\n",
    "    ((pl.col('age') - pl.col('age').mean()) / pl.col('age').std()).alias('age_normalized'),\n",
    "    ((pl.col('income') - pl.col('income').mean()) / pl.col('income').std()).alias('income_normalized'),\n",
    "])\n",
    "\n",
    "print(\"Normalized values:\")\n",
    "print(result)"
   ]
  },
  {
   "cell_type": "code",
   "execution_count": null,
   "metadata": {},
   "outputs": [],
   "source": [
    "# Better: Use a helper to avoid repetition\n",
    "def normalize(col_name):\n",
    "    return ((pl.col(col_name) - pl.col(col_name).mean()) / pl.col(col_name).std()).alias(f'{col_name}_norm')\n",
    "\n",
    "result = df.select([\n",
    "    pl.col('name'),\n",
    "    normalize('age'),\n",
    "    normalize('income'),\n",
    "    normalize('purchases')\n",
    "])\n",
    "\n",
    "print(\"Normalized using helper:\")\n",
    "print(result)"
   ]
  },
  {
   "cell_type": "markdown",
   "metadata": {},
   "source": [
    "### Pattern 2: Multiple aggregations per column"
   ]
  },
  {
   "cell_type": "code",
   "execution_count": null,
   "metadata": {},
   "outputs": [],
   "source": [
    "result = df.group_by('city').agg([\n",
    "    pl.col('age').mean().alias('avg_age'),\n",
    "    pl.col('age').min().alias('min_age'),\n",
    "    pl.col('age').max().alias('max_age'),\n",
    "    pl.col('income').mean().alias('avg_income'),\n",
    "    pl.col('income').sum().alias('total_income'),\n",
    "    pl.len().alias('count')\n",
    "])\n",
    "\n",
    "print(result)"
   ]
  },
  {
   "cell_type": "markdown",
   "metadata": {},
   "source": [
    "### Pattern 3: Creating multiple derived columns at once"
   ]
  },
  {
   "cell_type": "code",
   "execution_count": null,
   "metadata": {},
   "outputs": [],
   "source": [
    "# Create several related columns\n",
    "result = df.with_columns([\n",
    "    # Income tiers\n",
    "    (pl.col('income') / 1000).alias('income_k'),\n",
    "    (pl.col('income') * 0.25).alias('estimated_tax'),\n",
    "    (pl.col('income') * 0.75).alias('after_tax_income'),\n",
    "    \n",
    "    # Purchase metrics\n",
    "    (pl.col('total_spent') / pl.col('purchases')).alias('avg_per_purchase'),\n",
    "    (pl.col('total_spent') / pl.col('income') * 100).alias('spending_pct_of_income'),\n",
    "    \n",
    "    # Categories\n",
    "    pl.when(pl.col('purchases') >= 10)\n",
    "      .then(pl.lit('High Frequency'))\n",
    "      .when(pl.col('purchases') >= 5)\n",
    "      .then(pl.lit('Medium Frequency'))\n",
    "      .otherwise(pl.lit('Low Frequency'))\n",
    "      .alias('purchase_frequency')\n",
    "])\n",
    "\n",
    "print(result)"
   ]
  },
  {
   "cell_type": "markdown",
   "metadata": {},
   "source": [
    "### Pattern 4: Chained string operations"
   ]
  },
  {
   "cell_type": "code",
   "execution_count": null,
   "metadata": {},
   "outputs": [],
   "source": [
    "df_text = pl.DataFrame({\n",
    "    'text': ['  Hello World  ', 'PYTHON  ', '  data science', 'Machine Learning']\n",
    "})\n",
    "\n",
    "result = df_text.select([\n",
    "    pl.col('text'),\n",
    "    pl.col('text').str.strip_chars().alias('trimmed'),\n",
    "    pl.col('text').str.strip_chars().str.to_lowercase().alias('cleaned'),\n",
    "    pl.col('text').str.strip_chars().str.to_lowercase().str.replace(' ', '_').alias('snake_case')\n",
    "])\n",
    "\n",
    "print(result)"
   ]
  },
  {
   "cell_type": "markdown",
   "metadata": {},
   "source": [
    "### Pattern 5: Expression over expression (nested)"
   ]
  },
  {
   "cell_type": "code",
   "execution_count": null,
   "metadata": {},
   "outputs": [],
   "source": [
    "# Calculate percentile rank\n",
    "result = df.select([\n",
    "    pl.col('name'),\n",
    "    pl.col('income'),\n",
    "    pl.col('income').rank().alias('income_rank'),\n",
    "    (pl.col('income').rank() / pl.len() * 100).alias('income_percentile')\n",
    "])\n",
    "\n",
    "print(result)"
   ]
  },
  {
   "cell_type": "markdown",
   "metadata": {},
   "source": [
    "## Part 8: Working with Lists/Arrays in Expressions"
   ]
  },
  {
   "cell_type": "code",
   "execution_count": null,
   "metadata": {},
   "outputs": [],
   "source": [
    "# DataFrame with list columns\n",
    "df_lists = pl.DataFrame({\n",
    "    'customer': ['Alice', 'Bob', 'Charlie'],\n",
    "    'purchase_amounts': [[100, 200, 150], [50, 75], [300, 250, 400, 100]],\n",
    "    'product_ids': [[1, 2, 3], [4, 5], [6, 7, 8, 9]]\n",
    "})\n",
    "\n",
    "print(\"DataFrame with lists:\")\n",
    "print(df_lists)"
   ]
  },
  {
   "cell_type": "code",
   "execution_count": null,
   "metadata": {},
   "outputs": [],
   "source": [
    "# List operations\n",
    "result = df_lists.select([\n",
    "    pl.col('customer'),\n",
    "    pl.col('purchase_amounts').list.len().alias('num_purchases'),\n",
    "    pl.col('purchase_amounts').list.sum().alias('total_spent'),\n",
    "    pl.col('purchase_amounts').list.mean().alias('avg_purchase'),\n",
    "    pl.col('purchase_amounts').list.max().alias('max_purchase'),\n",
    "    pl.col('purchase_amounts').list.first().alias('first_purchase')\n",
    "])\n",
    "\n",
    "print(\"\\nList aggregations:\")\n",
    "print(result)"
   ]
  },
  {
   "cell_type": "markdown",
   "metadata": {},
   "source": [
    "## Part 9: Expression Aliases and Naming"
   ]
  },
  {
   "cell_type": "code",
   "execution_count": null,
   "metadata": {},
   "outputs": [],
   "source": [
    "# Different ways to name columns\n",
    "\n",
    "# 1. Using .alias()\n",
    "result1 = df.select([\n",
    "    (pl.col('income') / 1000).alias('income_k')\n",
    "])\n",
    "\n",
    "# 2. Using name.suffix() / name.prefix()\n",
    "result2 = df.select([\n",
    "    pl.col('age', 'income').name.suffix('_original')\n",
    "])\n",
    "\n",
    "# 3. Using name.map()\n",
    "result3 = df.select([\n",
    "    pl.col('age', 'income').name.map(lambda x: f'renamed_{x}')\n",
    "])\n",
    "\n",
    "print(\"With .alias():\")\n",
    "print(result1)\n",
    "\n",
    "print(\"\\nWith .name.suffix():\")\n",
    "print(result2)\n",
    "\n",
    "print(\"\\nWith .name.map():\")\n",
    "print(result3)"
   ]
  },
  {
   "cell_type": "markdown",
   "metadata": {},
   "source": [
    "## Part 10: Performance Tips"
   ]
  },
  {
   "cell_type": "markdown",
   "metadata": {},
   "source": [
    "### Tip 1: Use expressions instead of apply/map when possible"
   ]
  },
  {
   "cell_type": "code",
   "execution_count": null,
   "metadata": {},
   "outputs": [],
   "source": [
    "import time\n",
    "\n",
    "large_df = pl.DataFrame({\n",
    "    'value': range(100000)\n",
    "})\n",
    "\n",
    "# SLOW: Using apply\n",
    "start = time.time()\n",
    "result1 = large_df.select([\n",
    "    pl.col('value').map_elements(lambda x: x * 2, return_dtype=pl.Int64).alias('doubled')\n",
    "])\n",
    "time1 = time.time() - start\n",
    "\n",
    "# FAST: Using expression\n",
    "start = time.time()\n",
    "result2 = large_df.select([\n",
    "    (pl.col('value') * 2).alias('doubled')\n",
    "])\n",
    "time2 = time.time() - start\n",
    "\n",
    "print(f\"map_elements: {time1:.4f}s\")\n",
    "print(f\"Expression: {time2:.4f}s\")\n",
    "print(f\"Expression is {time1/time2:.1f}x faster!\")"
   ]
  },
  {
   "cell_type": "markdown",
   "metadata": {},
   "source": [
    "### Tip 2: Combine operations to reduce passes over data"
   ]
  },
  {
   "cell_type": "code",
   "execution_count": null,
   "metadata": {},
   "outputs": [],
   "source": [
    "# LESS EFFICIENT: Multiple passes\n",
    "result = df.with_columns([\n",
    "    (pl.col('income') / 1000).alias('income_k')\n",
    "]).with_columns([\n",
    "    (pl.col('total_spent') / pl.col('purchases')).alias('avg_purchase')\n",
    "]).with_columns([\n",
    "    (pl.col('age') > 30).alias('is_senior')\n",
    "])\n",
    "\n",
    "# MORE EFFICIENT: Single pass\n",
    "result = df.with_columns([\n",
    "    (pl.col('income') / 1000).alias('income_k'),\n",
    "    (pl.col('total_spent') / pl.col('purchases')).alias('avg_purchase'),\n",
    "    (pl.col('age') > 30).alias('is_senior')\n",
    "])\n",
    "\n",
    "print(\"Combine operations in a single with_columns()!\")"
   ]
  },
  {
   "cell_type": "markdown",
   "metadata": {},
   "source": [
    "## Summary\n",
    "\n",
    "### Key Concepts:\n",
    "1. **Expressions** are operations on columns that return Series\n",
    "2. **pl.col()** selects columns, supports regex patterns\n",
    "3. **Selectors (cs.*)** enable dtype-based operations\n",
    "4. **when/then/otherwise** for conditional logic\n",
    "5. **Contexts**: select, with_columns, filter, group_by().agg()\n",
    "6. **Chaining** expressions creates powerful transformations\n",
    "\n",
    "### Best Practices:\n",
    "- Use expressions instead of Python functions (much faster)\n",
    "- Combine multiple operations in single pass\n",
    "- Use selectors for operations across many columns\n",
    "- Chain operations for readability\n",
    "- Use .alias() for clear column naming"
   ]
  }
 ],
 "metadata": {
  "kernelspec": {
   "display_name": "Python 3",
   "language": "python",
   "name": "python3"
  },
  "language_info": {
   "codemirror_mode": {
    "name": "ipython",
    "version": 3
   },
   "file_extension": ".py",
   "mimetype": "text/x-python",
   "name": "python",
   "nbconvert_exporter": "python",
   "pygments_lexer": "ipython3",
   "version": "3.8.0"
  }
 },
 "nbformat": 4,
 "nbformat_minor": 4
}
