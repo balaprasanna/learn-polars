{
 "cells": [
  {
   "cell_type": "markdown",
   "metadata": {},
   "source": [
    "# Polars String Operations - Comprehensive Guide\n",
    "\n",
    "Master string manipulation in Polars using the `.str` namespace.\n",
    "\n",
    "## Topics:\n",
    "- Basic string operations\n",
    "- Case conversion\n",
    "- String searching and pattern matching\n",
    "- String extraction and replacement\n",
    "- String splitting and joining\n",
    "- Regex operations\n",
    "- String cleaning and normalization"
   ]
  },
  {
   "cell_type": "code",
   "execution_count": null,
   "metadata": {},
   "outputs": [],
   "source": [
    "import polars as pl"
   ]
  },
  {
   "cell_type": "code",
   "execution_count": null,
   "metadata": {},
   "outputs": [],
   "source": [
    "# Sample data\n",
    "df = pl.DataFrame({\n",
    "    'name': ['Alice Smith', 'bob jones', 'CHARLIE BROWN', 'Diana Lee', 'eve DAVIS'],\n",
    "    'email': ['alice@email.com', 'bob.jones@company.org', 'charlie@MAIL.COM', 'diana_lee@test.net', 'eve123@domain.co.uk'],\n",
    "    'phone': ['(123) 456-7890', '123-456-7890', '1234567890', '+1-123-456-7890', '123.456.7890'],\n",
    "    'address': ['  123 Main St  ', '456 Oak Ave', '789 Pine Rd', '  321 Elm St', '654 Maple Dr  ']\n",
    "})\n",
    "\n",
    "print(df)"
   ]
  },
  {
   "cell_type": "markdown",
   "metadata": {},
   "source": [
    "## Part 1: Basic String Operations"
   ]
  },
  {
   "cell_type": "markdown",
   "metadata": {},
   "source": [
    "### Length and character count"
   ]
  },
  {
   "cell_type": "code",
   "execution_count": null,
   "metadata": {},
   "outputs": [],
   "source": [
    "result = df.select([\n",
    "    pl.col('name'),\n",
    "    pl.col('name').str.len_chars().alias('length'),\n",
    "    pl.col('name').str.len_bytes().alias('bytes')\n",
    "])\n",
    "\n",
    "print(result)"
   ]
  },
  {
   "cell_type": "markdown",
   "metadata": {},
   "source": [
    "### Case conversion"
   ]
  },
  {
   "cell_type": "code",
   "execution_count": null,
   "metadata": {},
   "outputs": [],
   "source": [
    "result = df.select([\n",
    "    pl.col('name'),\n",
    "    pl.col('name').str.to_lowercase().alias('lowercase'),\n",
    "    pl.col('name').str.to_uppercase().alias('uppercase'),\n",
    "    pl.col('name').str.to_titlecase().alias('titlecase')\n",
    "])\n",
    "\n",
    "print(result)"
   ]
  },
  {
   "cell_type": "markdown",
   "metadata": {},
   "source": [
    "### Trimming whitespace"
   ]
  },
  {
   "cell_type": "code",
   "execution_count": null,
   "metadata": {},
   "outputs": [],
   "source": [
    "result = df.select([\n",
    "    pl.col('address'),\n",
    "    pl.col('address').str.strip_chars().alias('trimmed'),\n",
    "    pl.col('address').str.strip_chars_start().alias('left_trim'),\n",
    "    pl.col('address').str.strip_chars_end().alias('right_trim')\n",
    "])\n",
    "\n",
    "print(result)"
   ]
  },
  {
   "cell_type": "markdown",
   "metadata": {},
   "source": [
    "## Part 2: String Searching"
   ]
  },
  {
   "cell_type": "markdown",
   "metadata": {},
   "source": [
    "### Contains, starts_with, ends_with"
   ]
  },
  {
   "cell_type": "code",
   "execution_count": null,
   "metadata": {},
   "outputs": [],
   "source": [
    "result = df.select([\n",
    "    pl.col('name'),\n",
    "    pl.col('name').str.contains('li').alias('has_li'),\n",
    "    pl.col('name').str.starts_with('A').alias('starts_A'),\n",
    "    pl.col('name').str.ends_with('n').alias('ends_n'),\n",
    "    pl.col('email').str.contains('@').alias('has_at')\n",
    "])\n",
    "\n",
    "print(result)"
   ]
  },
  {
   "cell_type": "markdown",
   "metadata": {},
   "source": [
    "### Case-insensitive search"
   ]
  },
  {
   "cell_type": "code",
   "execution_count": null,
   "metadata": {},
   "outputs": [],
   "source": [
    "# Convert to lowercase first for case-insensitive search\n",
    "result = df.select([\n",
    "    pl.col('name'),\n",
    "    pl.col('name').str.to_lowercase().str.contains('smith').alias('has_smith_ci')\n",
    "])\n",
    "\n",
    "print(result)"
   ]
  },
  {
   "cell_type": "markdown",
   "metadata": {},
   "source": [
    "## Part 3: String Extraction"
   ]
  },
  {
   "cell_type": "markdown",
   "metadata": {},
   "source": [
    "### Slicing strings"
   ]
  },
  {
   "cell_type": "code",
   "execution_count": null,
   "metadata": {},
   "outputs": [],
   "source": [
    "result = df.select([\n",
    "    pl.col('name'),\n",
    "    pl.col('name').str.slice(0, 5).alias('first_5'),\n",
    "    pl.col('name').str.slice(-5).alias('last_5'),\n",
    "    pl.col('name').str.head(3).alias('head_3'),\n",
    "    pl.col('name').str.tail(3).alias('tail_3')\n",
    "])\n",
    "\n",
    "print(result)"
   ]
  },
  {
   "cell_type": "markdown",
   "metadata": {},
   "source": [
    "### Regex extraction"
   ]
  },
  {
   "cell_type": "code",
   "execution_count": null,
   "metadata": {},
   "outputs": [],
   "source": [
    "# Extract domain from email\n",
    "result = df.select([\n",
    "    pl.col('email'),\n",
    "    pl.col('email').str.extract(r'@(.+)', 1).alias('domain'),\n",
    "    pl.col('email').str.extract(r'(.+)@', 1).alias('username')\n",
    "])\n",
    "\n",
    "print(result)"
   ]
  },
  {
   "cell_type": "markdown",
   "metadata": {},
   "source": [
    "### Extract all matches"
   ]
  },
  {
   "cell_type": "code",
   "execution_count": null,
   "metadata": {},
   "outputs": [],
   "source": [
    "# Extract all numbers from phone\n",
    "result = df.select([\n",
    "    pl.col('phone'),\n",
    "    pl.col('phone').str.extract_all(r'\\d').alias('all_digits')\n",
    "])\n",
    "\n",
    "print(result)"
   ]
  },
  {
   "cell_type": "markdown",
   "metadata": {},
   "source": [
    "## Part 4: String Replacement"
   ]
  },
  {
   "cell_type": "markdown",
   "metadata": {},
   "source": [
    "### Simple replacement"
   ]
  },
  {
   "cell_type": "code",
   "execution_count": null,
   "metadata": {},
   "outputs": [],
   "source": [
    "result = df.select([\n",
    "    pl.col('phone'),\n",
    "    pl.col('phone').str.replace_all('-', '').alias('no_dash'),\n",
    "    pl.col('phone').str.replace_all(r'[^0-9]', '').alias('digits_only')\n",
    "])\n",
    "\n",
    "print(result)"
   ]
  },
  {
   "cell_type": "markdown",
   "metadata": {},
   "source": [
    "### Multiple replacements"
   ]
  },
  {
   "cell_type": "code",
   "execution_count": null,
   "metadata": {},
   "outputs": [],
   "source": [
    "# Clean phone numbers\n",
    "result = df.select([\n",
    "    pl.col('phone'),\n",
    "    pl.col('phone')\n",
    "      .str.replace_all(r'[()\\s-.]', '')\n",
    "      .str.replace(r'^\\+1', '')\n",
    "      .alias('cleaned_phone')\n",
    "])\n",
    "\n",
    "print(result)"
   ]
  },
  {
   "cell_type": "markdown",
   "metadata": {},
   "source": [
    "## Part 5: Splitting and Joining"
   ]
  },
  {
   "cell_type": "markdown",
   "metadata": {},
   "source": [
    "### Split into list"
   ]
  },
  {
   "cell_type": "code",
   "execution_count": null,
   "metadata": {},
   "outputs": [],
   "source": [
    "result = df.select([\n",
    "    pl.col('name'),\n",
    "    pl.col('name').str.split(' ').alias('name_parts'),\n",
    "    pl.col('email').str.split('@').alias('email_parts')\n",
    "])\n",
    "\n",
    "print(result)"
   ]
  },
  {
   "cell_type": "markdown",
   "metadata": {},
   "source": [
    "### Extract from split"
   ]
  },
  {
   "cell_type": "code",
   "execution_count": null,
   "metadata": {},
   "outputs": [],
   "source": [
    "# Extract first and last name\n",
    "result = df.select([\n",
    "    pl.col('name'),\n",
    "    pl.col('name').str.split(' ').list.get(0).alias('first_name'),\n",
    "    pl.col('name').str.split(' ').list.get(-1).alias('last_name')\n",
    "])\n",
    "\n",
    "print(result)"
   ]
  },
  {
   "cell_type": "markdown",
   "metadata": {},
   "source": [
    "### Concatenation"
   ]
  },
  {
   "cell_type": "code",
   "execution_count": null,
   "metadata": {},
   "outputs": [],
   "source": [
    "# Combine columns\n",
    "result = df.select([\n",
    "    pl.col('name'),\n",
    "    pl.col('email'),\n",
    "    (pl.col('name') + ' <' + pl.col('email') + '>').alias('name_with_email'),\n",
    "    pl.concat_str([pl.col('name'), pl.col('email')], separator=' | ').alias('combined')\n",
    "])\n",
    "\n",
    "print(result)"
   ]
  },
  {
   "cell_type": "markdown",
   "metadata": {},
   "source": [
    "## Part 6: Padding and Formatting"
   ]
  },
  {
   "cell_type": "code",
   "execution_count": null,
   "metadata": {},
   "outputs": [],
   "source": [
    "df_pad = pl.DataFrame({\n",
    "    'id': ['1', '42', '123'],\n",
    "    'value': ['5', '100', '9999']\n",
    "})\n",
    "\n",
    "result = df_pad.select([\n",
    "    pl.col('id'),\n",
    "    pl.col('id').str.pad_start(5, '0').alias('id_padded'),\n",
    "    pl.col('value').str.pad_end(6, ' ').alias('value_padded')\n",
    "])\n",
    "\n",
    "print(result)"
   ]
  },
  {
   "cell_type": "markdown",
   "metadata": {},
   "source": [
    "## Part 7: Real-World Examples"
   ]
  },
  {
   "cell_type": "markdown",
   "metadata": {},
   "source": [
    "### Example 1: Email validation and parsing"
   ]
  },
  {
   "cell_type": "code",
   "execution_count": null,
   "metadata": {},
   "outputs": [],
   "source": [
    "email_analysis = df.select([\n",
    "    pl.col('email'),\n",
    "    pl.col('email').str.contains(r'^[\\w.-]+@[\\w.-]+\\.[a-zA-Z]{2,}$').alias('valid_format'),\n",
    "    pl.col('email').str.extract(r'(.+)@', 1).alias('username'),\n",
    "    pl.col('email').str.extract(r'@(.+)', 1).alias('domain'),\n",
    "    pl.col('email').str.extract(r'\\.([a-zA-Z]{2,})$', 1).alias('tld')\n",
    "])\n",
    "\n",
    "print(\"Email parsing:\")\n",
    "print(email_analysis)"
   ]
  },
  {
   "cell_type": "markdown",
   "metadata": {},
   "source": [
    "### Example 2: Phone number standardization"
   ]
  },
  {
   "cell_type": "code",
   "execution_count": null,
   "metadata": {},
   "outputs": [],
   "source": [
    "phone_clean = df.select([\n",
    "    pl.col('phone'),\n",
    "    # Extract only digits\n",
    "    pl.col('phone').str.replace_all(r'[^0-9]', '').alias('digits'),\n",
    "    # Standardize format\n",
    "    pl.col('phone')\n",
    "      .str.replace_all(r'[^0-9]', '')\n",
    "      .str.replace(r'^1?', '')\n",
    "      .str.replace(r'^(\\d{3})(\\d{3})(\\d{4})$', '($1) $2-$3')\n",
    "      .alias('formatted')\n",
    "])\n",
    "\n",
    "print(\"Phone standardization:\")\n",
    "print(phone_clean)"
   ]
  },
  {
   "cell_type": "markdown",
   "metadata": {},
   "source": [
    "### Example 3: Text cleaning pipeline"
   ]
  },
  {
   "cell_type": "code",
   "execution_count": null,
   "metadata": {},
   "outputs": [],
   "source": [
    "text_df = pl.DataFrame({\n",
    "    'text': [\n",
    "        '  Hello, World!  ',\n",
    "        'URGENT: Buy NOW!!!',\n",
    "        'Contact: john.doe@email.com',\n",
    "        'Price: $19.99'\n",
    "    ]\n",
    "})\n",
    "\n",
    "cleaned = text_df.select([\n",
    "    pl.col('text'),\n",
    "    pl.col('text')\n",
    "      .str.strip_chars()  # Remove whitespace\n",
    "      .str.to_lowercase()  # Lowercase\n",
    "      .str.replace_all(r'[^a-z0-9\\s@.]', '')  # Remove special chars\n",
    "      .str.replace_all(r'\\s+', ' ')  # Normalize spaces\n",
    "      .alias('cleaned')\n",
    "])\n",
    "\n",
    "print(\"Text cleaning:\")\n",
    "print(cleaned)"
   ]
  },
  {
   "cell_type": "markdown",
   "metadata": {},
   "source": [
    "### Example 4: URL parsing"
   ]
  },
  {
   "cell_type": "code",
   "execution_count": null,
   "metadata": {},
   "outputs": [],
   "source": [
    "url_df = pl.DataFrame({\n",
    "    'url': [\n",
    "        'https://www.example.com/path/page.html',\n",
    "        'http://api.test.org/v1/users',\n",
    "        'https://subdomain.site.co.uk/products?id=123'\n",
    "    ]\n",
    "})\n",
    "\n",
    "url_parsed = url_df.select([\n",
    "    pl.col('url'),\n",
    "    pl.col('url').str.extract(r'(https?)://', 1).alias('protocol'),\n",
    "    pl.col('url').str.extract(r'://([^/]+)', 1).alias('domain'),\n",
    "    pl.col('url').str.extract(r'://[^/]+(.+?)(?:\\?|$)', 1).alias('path')\n",
    "])\n",
    "\n",
    "print(\"URL parsing:\")\n",
    "print(url_parsed)"
   ]
  },
  {
   "cell_type": "markdown",
   "metadata": {},
   "source": [
    "## Summary\n",
    "\n",
    "### Key Operations:\n",
    "- **Case**: to_lowercase, to_uppercase, to_titlecase\n",
    "- **Trim**: strip_chars, strip_chars_start, strip_chars_end\n",
    "- **Search**: contains, starts_with, ends_with\n",
    "- **Extract**: slice, extract, extract_all\n",
    "- **Replace**: replace, replace_all\n",
    "- **Split**: split (returns list)\n",
    "- **Combine**: + operator, concat_str\n",
    "- **Regex**: All operations support regex patterns\n",
    "\n",
    "### Best Practices:\n",
    "- Chain operations for complex transformations\n",
    "- Use regex for flexible pattern matching\n",
    "- Normalize before comparison (lowercase, trim)\n",
    "- Extract structured data with regex groups"
   ]
  }
 ],
 "metadata": {
  "kernelspec": {
   "display_name": "Python 3",
   "language": "python",
   "name": "python3"
  },
  "language_info": {
   "name": "python",
   "version": "3.8.0"
  }
 },
 "nbformat": 4,
 "nbformat_minor": 4
}
