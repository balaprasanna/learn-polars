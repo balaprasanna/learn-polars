{
 "cells": [
  {
   "cell_type": "markdown",
   "metadata": {},
   "source": [
    "# Polars Pivoting & Reshaping - Comprehensive Guide\n",
    "\n",
    "Master data reshaping operations in Polars.\n",
    "\n",
    "## Topics:\n",
    "- Pivot (wide format)\n",
    "- Unpivot/Melt (long format)\n",
    "- Transpose\n",
    "- Explode (lists to rows)\n",
    "- Stack and unstack\n",
    "- Real-world reshaping examples"
   ]
  },
  {
   "cell_type": "code",
   "execution_count": null,
   "metadata": {},
   "outputs": [],
   "source": [
    "import polars as pl\n",
    "import numpy as np"
   ]
  },
  {
   "cell_type": "markdown",
   "metadata": {},
   "source": [
    "## Part 1: Pivot (Long to Wide)"
   ]
  },
  {
   "cell_type": "code",
   "execution_count": null,
   "metadata": {},
   "outputs": [],
   "source": [
    "# Long format data\n",
    "long_df = pl.DataFrame({\n",
    "    'date': ['2023-01-01', '2023-01-01', '2023-01-02', '2023-01-02', '2023-01-03', '2023-01-03'],\n",
    "    'product': ['A', 'B', 'A', 'B', 'A', 'B'],\n",
    "    'sales': [100, 150, 110, 160, 105, 155]\n",
    "})\n",
    "\n",
    "print(\"Long format (original):\")\n",
    "print(long_df)"
   ]
  },
  {
   "cell_type": "markdown",
   "metadata": {},
   "source": [
    "### Basic pivot"
   ]
  },
  {
   "cell_type": "code",
   "execution_count": null,
   "metadata": {},
   "outputs": [],
   "source": [
    "# Pivot: products as columns\n",
    "wide_df = long_df.pivot(\n",
    "    index='date',\n",
    "    columns='product',\n",
    "    values='sales'\n",
    ")\n",
    "\n",
    "print(\"\\nWide format (pivoted):\")\n",
    "print(wide_df)"
   ]
  },
  {
   "cell_type": "markdown",
   "metadata": {},
   "source": [
    "### Pivot with aggregation"
   ]
  },
  {
   "cell_type": "code",
   "execution_count": null,
   "metadata": {},
   "outputs": [],
   "source": [
    "# Data with duplicates\n",
    "dup_df = pl.DataFrame({\n",
    "    'region': ['North', 'North', 'North', 'South', 'South', 'South'],\n",
    "    'product': ['A', 'A', 'B', 'A', 'B', 'B'],\n",
    "    'sales': [100, 110, 150, 120, 140, 145]\n",
    "})\n",
    "\n",
    "print(\"Data with duplicates:\")\n",
    "print(dup_df)\n",
    "\n",
    "# Pivot with aggregation (sum)\n",
    "pivoted = dup_df.pivot(\n",
    "    index='region',\n",
    "    columns='product',\n",
    "    values='sales',\n",
    "    aggregate_function='sum'\n",
    ")\n",
    "\n",
    "print(\"\\nPivoted with sum:\")\n",
    "print(pivoted)"
   ]
  },
  {
   "cell_type": "markdown",
   "metadata": {},
   "source": [
    "### Multiple aggregations"
   ]
  },
  {
   "cell_type": "code",
   "execution_count": null,
   "metadata": {},
   "outputs": [],
   "source": [
    "# Pivot with mean\n",
    "pivot_mean = dup_df.pivot(\n",
    "    index='region',\n",
    "    columns='product',\n",
    "    values='sales',\n",
    "    aggregate_function='mean'\n",
    ")\n",
    "\n",
    "print(\"Pivoted with mean:\")\n",
    "print(pivot_mean)"
   ]
  },
  {
   "cell_type": "markdown",
   "metadata": {},
   "source": [
    "## Part 2: Unpivot/Melt (Wide to Long)"
   ]
  },
  {
   "cell_type": "code",
   "execution_count": null,
   "metadata": {},
   "outputs": [],
   "source": [
    "# Wide format data\n",
    "wide_sales = pl.DataFrame({\n",
    "    'date': ['2023-01-01', '2023-01-02', '2023-01-03'],\n",
    "    'product_A': [100, 110, 105],\n",
    "    'product_B': [150, 160, 155],\n",
    "    'product_C': [200, 210, 205]\n",
    "})\n",
    "\n",
    "print(\"Wide format (original):\")\n",
    "print(wide_sales)"
   ]
  },
  {
   "cell_type": "markdown",
   "metadata": {},
   "source": [
    "### Basic unpivot"
   ]
  },
  {
   "cell_type": "code",
   "execution_count": null,
   "metadata": {},
   "outputs": [],
   "source": [
    "# Unpivot to long format\n",
    "long_sales = wide_sales.unpivot(\n",
    "    index='date',\n",
    "    on=['product_A', 'product_B', 'product_C']\n",
    ")\n",
    "\n",
    "print(\"\\nLong format (unpivoted):\")\n",
    "print(long_sales)"
   ]
  },
  {
   "cell_type": "markdown",
   "metadata": {},
   "source": [
    "### Custom column names"
   ]
  },
  {
   "cell_type": "code",
   "execution_count": null,
   "metadata": {},
   "outputs": [],
   "source": [
    "# Unpivot with custom names\n",
    "long_custom = wide_sales.unpivot(\n",
    "    index='date',\n",
    "    on=['product_A', 'product_B', 'product_C'],\n",
    "    variable_name='product',\n",
    "    value_name='sales'\n",
    ")\n",
    "\n",
    "print(\"With custom column names:\")\n",
    "print(long_custom)"
   ]
  },
  {
   "cell_type": "markdown",
   "metadata": {},
   "source": [
    "### Clean up after unpivot"
   ]
  },
  {
   "cell_type": "code",
   "execution_count": null,
   "metadata": {},
   "outputs": [],
   "source": [
    "# Clean product names\n",
    "cleaned = long_custom.with_columns([\n",
    "    pl.col('product').str.replace('product_', '').alias('product')\n",
    "])\n",
    "\n",
    "print(\"Cleaned:\")\n",
    "print(cleaned)"
   ]
  },
  {
   "cell_type": "markdown",
   "metadata": {},
   "source": [
    "## Part 3: Explode (Lists to Rows)"
   ]
  },
  {
   "cell_type": "code",
   "execution_count": null,
   "metadata": {},
   "outputs": [],
   "source": [
    "# Data with lists\n",
    "list_df = pl.DataFrame({\n",
    "    'customer': ['Alice', 'Bob', 'Charlie'],\n",
    "    'orders': [[101, 102, 103], [201, 202], [301]],\n",
    "    'amounts': [[100, 200, 150], [300, 250], [175]]\n",
    "})\n",
    "\n",
    "print(\"Data with lists:\")\n",
    "print(list_df)"
   ]
  },
  {
   "cell_type": "markdown",
   "metadata": {},
   "source": [
    "### Explode single column"
   ]
  },
  {
   "cell_type": "code",
   "execution_count": null,
   "metadata": {},
   "outputs": [],
   "source": [
    "# Explode orders\n",
    "exploded = list_df.explode('orders')\n",
    "\n",
    "print(\"\\nExploded orders:\")\n",
    "print(exploded)"
   ]
  },
  {
   "cell_type": "markdown",
   "metadata": {},
   "source": [
    "### Explode multiple columns"
   ]
  },
  {
   "cell_type": "code",
   "execution_count": null,
   "metadata": {},
   "outputs": [],
   "source": [
    "# Explode both orders and amounts together\n",
    "exploded_both = list_df.explode(['orders', 'amounts'])\n",
    "\n",
    "print(\"Exploded orders and amounts:\")\n",
    "print(exploded_both)"
   ]
  },
  {
   "cell_type": "markdown",
   "metadata": {},
   "source": [
    "## Part 4: Transpose"
   ]
  },
  {
   "cell_type": "code",
   "execution_count": null,
   "metadata": {},
   "outputs": [],
   "source": [
    "# Sample data\n",
    "metrics_df = pl.DataFrame({\n",
    "    'metric': ['Revenue', 'Cost', 'Profit'],\n",
    "    'Q1': [1000, 600, 400],\n",
    "    'Q2': [1200, 650, 550],\n",
    "    'Q3': [1100, 620, 480],\n",
    "    'Q4': [1300, 680, 620]\n",
    "})\n",
    "\n",
    "print(\"Original:\")\n",
    "print(metrics_df)"
   ]
  },
  {
   "cell_type": "code",
   "execution_count": null,
   "metadata": {},
   "outputs": [],
   "source": [
    "# Transpose\n",
    "transposed = metrics_df.transpose(\n",
    "    include_header=True,\n",
    "    header_name='quarter',\n",
    "    column_names='metric'\n",
    ")\n",
    "\n",
    "print(\"\\nTransposed:\")\n",
    "print(transposed)"
   ]
  },
  {
   "cell_type": "markdown",
   "metadata": {},
   "source": [
    "## Part 5: Stack/Concat Operations"
   ]
  },
  {
   "cell_type": "markdown",
   "metadata": {},
   "source": [
    "### Vertical stacking (concat rows)"
   ]
  },
  {
   "cell_type": "code",
   "execution_count": null,
   "metadata": {},
   "outputs": [],
   "source": [
    "df1 = pl.DataFrame({\n",
    "    'id': [1, 2, 3],\n",
    "    'value': [10, 20, 30]\n",
    "})\n",
    "\n",
    "df2 = pl.DataFrame({\n",
    "    'id': [4, 5, 6],\n",
    "    'value': [40, 50, 60]\n",
    "})\n",
    "\n",
    "# Stack vertically\n",
    "stacked = pl.concat([df1, df2], how='vertical')\n",
    "\n",
    "print(\"Vertical stack:\")\n",
    "print(stacked)"
   ]
  },
  {
   "cell_type": "markdown",
   "metadata": {},
   "source": [
    "### Horizontal concatenation (concat columns)"
   ]
  },
  {
   "cell_type": "code",
   "execution_count": null,
   "metadata": {},
   "outputs": [],
   "source": [
    "df_left = pl.DataFrame({\n",
    "    'id': [1, 2, 3],\n",
    "    'name': ['Alice', 'Bob', 'Charlie']\n",
    "})\n",
    "\n",
    "df_right = pl.DataFrame({\n",
    "    'age': [25, 30, 35],\n",
    "    'city': ['NYC', 'LA', 'Chicago']\n",
    "})\n",
    "\n",
    "# Concat horizontally\n",
    "combined = pl.concat([df_left, df_right], how='horizontal')\n",
    "\n",
    "print(\"Horizontal concat:\")\n",
    "print(combined)"
   ]
  },
  {
   "cell_type": "markdown",
   "metadata": {},
   "source": [
    "## Part 6: Real-World Examples"
   ]
  },
  {
   "cell_type": "markdown",
   "metadata": {},
   "source": [
    "### Example 1: Sales report transformation"
   ]
  },
  {
   "cell_type": "code",
   "execution_count": null,
   "metadata": {},
   "outputs": [],
   "source": [
    "# Wide format sales report\n",
    "sales_report = pl.DataFrame({\n",
    "    'region': ['North', 'South', 'East', 'West'],\n",
    "    'Jan': [1000, 1200, 1100, 1300],\n",
    "    'Feb': [1100, 1250, 1150, 1320],\n",
    "    'Mar': [1050, 1180, 1120, 1280]\n",
    "})\n",
    "\n",
    "print(\"Sales report (wide):\")\n",
    "print(sales_report)\n",
    "\n",
    "# Transform to long for analysis\n",
    "sales_long = (\n",
    "    sales_report\n",
    "    .unpivot(index='region', variable_name='month', value_name='sales')\n",
    "    .with_columns([\n",
    "        pl.when(pl.col('month') == 'Jan').then(1)\n",
    "          .when(pl.col('month') == 'Feb').then(2)\n",
    "          .when(pl.col('month') == 'Mar').then(3)\n",
    "          .alias('month_num')\n",
    "    ])\n",
    "    .sort(['region', 'month_num'])\n",
    ")\n",
    "\n",
    "print(\"\\nSales report (long):\")\n",
    "print(sales_long)"
   ]
  },
  {
   "cell_type": "markdown",
   "metadata": {},
   "source": [
    "### Example 2: Survey data reshaping"
   ]
  },
  {
   "cell_type": "code",
   "execution_count": null,
   "metadata": {},
   "outputs": [],
   "source": [
    "# Survey responses in wide format\n",
    "survey = pl.DataFrame({\n",
    "    'respondent_id': [1, 2, 3],\n",
    "    'age': [25, 30, 35],\n",
    "    'q1_satisfaction': [5, 4, 5],\n",
    "    'q2_recommend': [5, 5, 4],\n",
    "    'q3_support': [4, 3, 5]\n",
    "})\n",
    "\n",
    "print(\"Survey (wide):\")\n",
    "print(survey)\n",
    "\n",
    "# Reshape to long for analysis\n",
    "survey_long = (\n",
    "    survey\n",
    "    .unpivot(\n",
    "        index=['respondent_id', 'age'],\n",
    "        on=['q1_satisfaction', 'q2_recommend', 'q3_support'],\n",
    "        variable_name='question',\n",
    "        value_name='rating'\n",
    "    )\n",
    "    .with_columns([\n",
    "        pl.col('question').str.replace('q\\d+_', '').alias('question')\n",
    "    ])\n",
    ")\n",
    "\n",
    "print(\"\\nSurvey (long):\")\n",
    "print(survey_long)"
   ]
  },
  {
   "cell_type": "markdown",
   "metadata": {},
   "source": [
    "### Example 3: Multi-level data flattening"
   ]
  },
  {
   "cell_type": "code",
   "execution_count": null,
   "metadata": {},
   "outputs": [],
   "source": [
    "# Nested data structure\n",
    "nested = pl.DataFrame({\n",
    "    'order_id': [1, 2],\n",
    "    'customer': ['Alice', 'Bob'],\n",
    "    'items': [['Laptop', 'Mouse'], ['Keyboard', 'Monitor', 'Cable']],\n",
    "    'prices': [[1200, 25], [75, 350, 15]]\n",
    "})\n",
    "\n",
    "print(\"Nested structure:\")\n",
    "print(nested)\n",
    "\n",
    "# Flatten\n",
    "flattened = (\n",
    "    nested\n",
    "    .explode(['items', 'prices'])\n",
    "    .with_columns([\n",
    "        pl.col('items').alias('product'),\n",
    "        pl.col('prices').alias('price')\n",
    "    ])\n",
    "    .select(['order_id', 'customer', 'product', 'price'])\n",
    ")\n",
    "\n",
    "print(\"\\nFlattened:\")\n",
    "print(flattened)"
   ]
  },
  {
   "cell_type": "markdown",
   "metadata": {},
   "source": [
    "### Example 4: Creating cross-tabulation"
   ]
  },
  {
   "cell_type": "code",
   "execution_count": null,
   "metadata": {},
   "outputs": [],
   "source": [
    "# Transaction data\n",
    "transactions = pl.DataFrame({\n",
    "    'customer': ['Alice', 'Alice', 'Bob', 'Bob', 'Charlie', 'Charlie', 'Alice', 'Bob'],\n",
    "    'product': ['A', 'B', 'A', 'C', 'B', 'C', 'A', 'B'],\n",
    "    'amount': [100, 150, 120, 200, 160, 180, 110, 130]\n",
    "})\n",
    "\n",
    "print(\"Transactions:\")\n",
    "print(transactions)\n",
    "\n",
    "# Create cross-tab (customer vs product)\n",
    "crosstab = (\n",
    "    transactions\n",
    "    .group_by(['customer', 'product'])\n",
    "    .agg(pl.col('amount').sum())\n",
    "    .pivot(\n",
    "        index='customer',\n",
    "        columns='product',\n",
    "        values='amount'\n",
    "    )\n",
    ")\n",
    "\n",
    "print(\"\\nCross-tabulation:\")\n",
    "print(crosstab)"
   ]
  },
  {
   "cell_type": "markdown",
   "metadata": {},
   "source": [
    "## Part 7: Complex Reshaping Pipeline"
   ]
  },
  {
   "cell_type": "code",
   "execution_count": null,
   "metadata": {},
   "outputs": [],
   "source": [
    "# Complex dataset\n",
    "complex_df = pl.DataFrame({\n",
    "    'date': ['2023-01', '2023-02', '2023-03'],\n",
    "    'region': ['North', 'North', 'North'],\n",
    "    'sales_A': [1000, 1100, 1050],\n",
    "    'sales_B': [1500, 1600, 1550],\n",
    "    'units_A': [50, 55, 52],\n",
    "    'units_B': [75, 80, 77]\n",
    "})\n",
    "\n",
    "print(\"Complex wide format:\")\n",
    "print(complex_df)\n",
    "\n",
    "# Reshape to long format with separate sales and units\n",
    "reshaped = (\n",
    "    complex_df\n",
    "    # Unpivot sales columns\n",
    "    .unpivot(\n",
    "        index=['date', 'region'],\n",
    "        on=['sales_A', 'sales_B', 'units_A', 'units_B'],\n",
    "        variable_name='metric',\n",
    "        value_name='value'\n",
    "    )\n",
    "    # Extract product and measure type\n",
    "    .with_columns([\n",
    "        pl.col('metric').str.extract(r'_(\\w)$', 1).alias('product'),\n",
    "        pl.col('metric').str.extract(r'^(\\w+)_', 1).alias('measure')\n",
    "    ])\n",
    "    # Pivot to get sales and units as separate columns\n",
    "    .pivot(\n",
    "        index=['date', 'region', 'product'],\n",
    "        columns='measure',\n",
    "        values='value'\n",
    "    )\n",
    ")\n",
    "\n",
    "print(\"\\nReshaped to normalized format:\")\n",
    "print(reshaped)"
   ]
  },
  {
   "cell_type": "markdown",
   "metadata": {},
   "source": [
    "## Summary\n",
    "\n",
    "### Key Operations:\n",
    "- **pivot()**: Long to wide (columns from values)\n",
    "- **unpivot()/melt()**: Wide to long (values from columns)\n",
    "- **explode()**: Lists to separate rows\n",
    "- **transpose()**: Swap rows and columns\n",
    "- **concat()**: Stack DataFrames vertically or horizontally\n",
    "\n",
    "### When to Use:\n",
    "- **Pivot**: Create summary tables, cross-tabs, reports\n",
    "- **Unpivot**: Prepare data for analysis, normalize structure\n",
    "- **Explode**: Flatten nested/list columns\n",
    "- **Transpose**: Switch perspective (rows ↔ columns)\n",
    "\n",
    "### Best Practices:\n",
    "- Understand your target format before reshaping\n",
    "- Use unpivot → process → pivot for transformations\n",
    "- Clean column names after unpivot\n",
    "- Consider performance with large datasets"
   ]
  }
 ],
 "metadata": {
  "kernelspec": {
   "display_name": "Python 3",
   "language": "python",
   "name": "python3"
  },
  "language_info": {
   "name": "python",
   "version": "3.8.0"
  }
 },
 "nbformat": 4,
 "nbformat_minor": 4
}
