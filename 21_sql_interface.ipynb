{
 "cells": [
  {
   "cell_type": "markdown",
   "metadata": {},
   "source": [
    "# Polars SQL Interface - Comprehensive Workshop\n",
    "\n",
    "Use SQL syntax with Polars DataFrames through `pl.SQLContext()`.\n",
    "\n",
    "## What You'll Learn:\n",
    "- Creating SQL contexts and registering DataFrames\n",
    "- Basic SQL queries (SELECT, WHERE, ORDER BY)\n",
    "- Joins with SQL syntax\n",
    "- Aggregations and GROUP BY\n",
    "- Subqueries and CTEs (Common Table Expressions)\n",
    "- Window functions in SQL\n",
    "- Mixing SQL and Polars expressions\n",
    "- When to use SQL vs native Polars API\n",
    "\n",
    "## Why Use SQL with Polars?\n",
    "- ✅ Familiar syntax for SQL users\n",
    "- ✅ Great for complex joins and subqueries\n",
    "- ✅ Easy data exploration\n",
    "- ✅ Portable queries across databases\n",
    "- ✅ Still leverages Polars' speed!\n",
    "\n",
    "## Note:\n",
    "SQL queries are converted to Polars LazyFrames internally, so you get the same performance!"
   ]
  },
  {
   "cell_type": "code",
   "execution_count": null,
   "metadata": {},
   "outputs": [],
   "source": [
    "import polars as pl\n",
    "import numpy as np\n",
    "from datetime import date, datetime, timedelta\n",
    "\n",
    "print(f\"Polars version: {pl.__version__}\")"
   ]
  },
  {
   "cell_type": "markdown",
   "metadata": {},
   "source": [
    "---\n",
    "# Part 1: Getting Started with SQLContext"
   ]
  },
  {
   "cell_type": "markdown",
   "metadata": {},
   "source": [
    "## 1.1 Creating a SQL Context"
   ]
  },
  {
   "cell_type": "code",
   "execution_count": null,
   "metadata": {},
   "outputs": [],
   "source": [
    "# Create sample data\n",
    "df_employees = pl.DataFrame({\n",
    "    'employee_id': [1, 2, 3, 4, 5],\n",
    "    'name': ['Alice', 'Bob', 'Charlie', 'Diana', 'Eve'],\n",
    "    'department': ['Sales', 'Engineering', 'Sales', 'Engineering', 'HR'],\n",
    "    'salary': [50000, 75000, 55000, 80000, 60000],\n",
    "    'hire_date': [date(2020, 1, 15), date(2019, 3, 10), date(2021, 6, 1), date(2018, 11, 20), date(2022, 2, 14)]\n",
    "})\n",
    "\n",
    "print(\"Employees DataFrame:\")\n",
    "print(df_employees)"
   ]
  },
  {
   "cell_type": "code",
   "execution_count": null,
   "metadata": {},
   "outputs": [],
   "source": [
    "# Method 1: Create SQLContext and register DataFrame explicitly\n",
    "ctx = pl.SQLContext()\n",
    "ctx.register(\"employees\", df_employees)\n",
    "\n",
    "# Execute SQL query\n",
    "result = ctx.execute(\"SELECT * FROM employees\")\n",
    "\n",
    "print(\"Query result:\")\n",
    "print(result.collect())  # SQLContext returns LazyFrame, use .collect()"
   ]
  },
  {
   "cell_type": "code",
   "execution_count": null,
   "metadata": {},
   "outputs": [],
   "source": [
    "# Method 2: Create SQLContext with DataFrames in constructor\n",
    "ctx = pl.SQLContext(employees=df_employees)\n",
    "\n",
    "result = ctx.execute(\"SELECT name, department, salary FROM employees\")\n",
    "\n",
    "print(result.collect())"
   ]
  },
  {
   "cell_type": "code",
   "execution_count": null,
   "metadata": {},
   "outputs": [],
   "source": [
    "# Method 3: Register multiple DataFrames\n",
    "df_departments = pl.DataFrame({\n",
    "    'department': ['Sales', 'Engineering', 'HR'],\n",
    "    'location': ['NYC', 'San Francisco', 'Boston'],\n",
    "    'budget': [500000, 1000000, 300000]\n",
    "})\n",
    "\n",
    "ctx = pl.SQLContext(\n",
    "    employees=df_employees,\n",
    "    departments=df_departments\n",
    ")\n",
    "\n",
    "print(\"Registered tables:\")\n",
    "print(ctx.tables())"
   ]
  },
  {
   "cell_type": "markdown",
   "metadata": {},
   "source": [
    "---\n",
    "# Part 2: Basic SQL Queries"
   ]
  },
  {
   "cell_type": "markdown",
   "metadata": {},
   "source": [
    "## 2.1 SELECT and Column Selection"
   ]
  },
  {
   "cell_type": "code",
   "execution_count": null,
   "metadata": {},
   "outputs": [],
   "source": [
    "ctx = pl.SQLContext(employees=df_employees)\n",
    "\n",
    "# Select all columns\n",
    "result = ctx.execute(\"\"\"\n",
    "    SELECT * FROM employees\n",
    "\"\"\")\n",
    "\n",
    "print(\"All columns:\")\n",
    "print(result.collect())"
   ]
  },
  {
   "cell_type": "code",
   "execution_count": null,
   "metadata": {},
   "outputs": [],
   "source": [
    "# Select specific columns\n",
    "result = ctx.execute(\"\"\"\n",
    "    SELECT name, salary FROM employees\n",
    "\"\"\")\n",
    "\n",
    "print(\"Specific columns:\")\n",
    "print(result.collect())"
   ]
  },
  {
   "cell_type": "code",
   "execution_count": null,
   "metadata": {},
   "outputs": [],
   "source": [
    "# Column aliases\n",
    "result = ctx.execute(\"\"\"\n",
    "    SELECT \n",
    "        name AS employee_name,\n",
    "        salary AS annual_salary,\n",
    "        salary / 12 AS monthly_salary\n",
    "    FROM employees\n",
    "\"\"\")\n",
    "\n",
    "print(\"With aliases and calculated columns:\")\n",
    "print(result.collect())"
   ]
  },
  {
   "cell_type": "markdown",
   "metadata": {},
   "source": [
    "## 2.2 WHERE Clause - Filtering"
   ]
  },
  {
   "cell_type": "code",
   "execution_count": null,
   "metadata": {},
   "outputs": [],
   "source": [
    "# Basic WHERE\n",
    "result = ctx.execute(\"\"\"\n",
    "    SELECT name, department, salary\n",
    "    FROM employees\n",
    "    WHERE salary > 60000\n",
    "\"\"\")\n",
    "\n",
    "print(\"Salary > 60000:\")\n",
    "print(result.collect())"
   ]
  },
  {
   "cell_type": "code",
   "execution_count": null,
   "metadata": {},
   "outputs": [],
   "source": [
    "# Multiple conditions with AND\n",
    "result = ctx.execute(\"\"\"\n",
    "    SELECT name, department, salary\n",
    "    FROM employees\n",
    "    WHERE department = 'Sales' AND salary > 52000\n",
    "\"\"\")\n",
    "\n",
    "print(\"Sales dept with salary > 52000:\")\n",
    "print(result.collect())"
   ]
  },
  {
   "cell_type": "code",
   "execution_count": null,
   "metadata": {},
   "outputs": [],
   "source": [
    "# OR conditions\n",
    "result = ctx.execute(\"\"\"\n",
    "    SELECT name, department, salary\n",
    "    FROM employees\n",
    "    WHERE department = 'Sales' OR department = 'HR'\n",
    "\"\"\")\n",
    "\n",
    "print(\"Sales or HR departments:\")\n",
    "print(result.collect())"
   ]
  },
  {
   "cell_type": "code",
   "execution_count": null,
   "metadata": {},
   "outputs": [],
   "source": [
    "# IN clause\n",
    "result = ctx.execute(\"\"\"\n",
    "    SELECT name, department, salary\n",
    "    FROM employees\n",
    "    WHERE department IN ('Sales', 'HR')\n",
    "\"\"\")\n",
    "\n",
    "print(\"Using IN clause:\")\n",
    "print(result.collect())"
   ]
  },
  {
   "cell_type": "code",
   "execution_count": null,
   "metadata": {},
   "outputs": [],
   "source": [
    "# BETWEEN\n",
    "result = ctx.execute(\"\"\"\n",
    "    SELECT name, salary\n",
    "    FROM employees\n",
    "    WHERE salary BETWEEN 55000 AND 75000\n",
    "\"\"\")\n",
    "\n",
    "print(\"Salary between 55k and 75k:\")\n",
    "print(result.collect())"
   ]
  },
  {
   "cell_type": "code",
   "execution_count": null,
   "metadata": {},
   "outputs": [],
   "source": [
    "# LIKE pattern matching\n",
    "result = ctx.execute(\"\"\"\n",
    "    SELECT name, department\n",
    "    FROM employees\n",
    "    WHERE name LIKE '%e%'\n",
    "\"\"\")\n",
    "\n",
    "print(\"Names containing 'e':\")\n",
    "print(result.collect())"
   ]
  },
  {
   "cell_type": "markdown",
   "metadata": {},
   "source": [
    "## 2.3 ORDER BY - Sorting"
   ]
  },
  {
   "cell_type": "code",
   "execution_count": null,
   "metadata": {},
   "outputs": [],
   "source": [
    "# Sort ascending\n",
    "result = ctx.execute(\"\"\"\n",
    "    SELECT name, salary\n",
    "    FROM employees\n",
    "    ORDER BY salary ASC\n",
    "\"\"\")\n",
    "\n",
    "print(\"Sorted by salary (ascending):\")\n",
    "print(result.collect())"
   ]
  },
  {
   "cell_type": "code",
   "execution_count": null,
   "metadata": {},
   "outputs": [],
   "source": [
    "# Sort descending\n",
    "result = ctx.execute(\"\"\"\n",
    "    SELECT name, salary\n",
    "    FROM employees\n",
    "    ORDER BY salary DESC\n",
    "\"\"\")\n",
    "\n",
    "print(\"Sorted by salary (descending):\")\n",
    "print(result.collect())"
   ]
  },
  {
   "cell_type": "code",
   "execution_count": null,
   "metadata": {},
   "outputs": [],
   "source": [
    "# Multiple sort columns\n",
    "result = ctx.execute(\"\"\"\n",
    "    SELECT name, department, salary\n",
    "    FROM employees\n",
    "    ORDER BY department ASC, salary DESC\n",
    "\"\"\")\n",
    "\n",
    "print(\"Sorted by department, then salary:\")\n",
    "print(result.collect())"
   ]
  },
  {
   "cell_type": "markdown",
   "metadata": {},
   "source": [
    "## 2.4 LIMIT and OFFSET"
   ]
  },
  {
   "cell_type": "code",
   "execution_count": null,
   "metadata": {},
   "outputs": [],
   "source": [
    "# LIMIT - Top N results\n",
    "result = ctx.execute(\"\"\"\n",
    "    SELECT name, salary\n",
    "    FROM employees\n",
    "    ORDER BY salary DESC\n",
    "    LIMIT 3\n",
    "\"\"\")\n",
    "\n",
    "print(\"Top 3 highest salaries:\")\n",
    "print(result.collect())"
   ]
  },
  {
   "cell_type": "code",
   "execution_count": null,
   "metadata": {},
   "outputs": [],
   "source": [
    "# LIMIT with OFFSET (pagination)\n",
    "result = ctx.execute(\"\"\"\n",
    "    SELECT name, salary\n",
    "    FROM employees\n",
    "    ORDER BY salary DESC\n",
    "    LIMIT 2 OFFSET 2\n",
    "\"\"\")\n",
    "\n",
    "print(\"Rows 3-4 (offset 2, limit 2):\")\n",
    "print(result.collect())"
   ]
  },
  {
   "cell_type": "markdown",
   "metadata": {},
   "source": [
    "---\n",
    "# Part 3: Aggregations and GROUP BY"
   ]
  },
  {
   "cell_type": "markdown",
   "metadata": {},
   "source": [
    "## 3.1 Basic Aggregation Functions"
   ]
  },
  {
   "cell_type": "code",
   "execution_count": null,
   "metadata": {},
   "outputs": [],
   "source": [
    "# COUNT, SUM, AVG, MIN, MAX\n",
    "result = ctx.execute(\"\"\"\n",
    "    SELECT \n",
    "        COUNT(*) AS total_employees,\n",
    "        SUM(salary) AS total_salary,\n",
    "        AVG(salary) AS avg_salary,\n",
    "        MIN(salary) AS min_salary,\n",
    "        MAX(salary) AS max_salary\n",
    "    FROM employees\n",
    "\"\"\")\n",
    "\n",
    "print(\"Overall statistics:\")\n",
    "print(result.collect())"
   ]
  },
  {
   "cell_type": "markdown",
   "metadata": {},
   "source": [
    "## 3.2 GROUP BY"
   ]
  },
  {
   "cell_type": "code",
   "execution_count": null,
   "metadata": {},
   "outputs": [],
   "source": [
    "# Group by department\n",
    "result = ctx.execute(\"\"\"\n",
    "    SELECT \n",
    "        department,\n",
    "        COUNT(*) AS num_employees,\n",
    "        AVG(salary) AS avg_salary,\n",
    "        SUM(salary) AS total_salary\n",
    "    FROM employees\n",
    "    GROUP BY department\n",
    "\"\"\")\n",
    "\n",
    "print(\"Statistics by department:\")\n",
    "print(result.collect())"
   ]
  },
  {
   "cell_type": "code",
   "execution_count": null,
   "metadata": {},
   "outputs": [],
   "source": [
    "# GROUP BY with ORDER BY\n",
    "result = ctx.execute(\"\"\"\n",
    "    SELECT \n",
    "        department,\n",
    "        AVG(salary) AS avg_salary\n",
    "    FROM employees\n",
    "    GROUP BY department\n",
    "    ORDER BY avg_salary DESC\n",
    "\"\"\")\n",
    "\n",
    "print(\"Average salary by department (sorted):\")\n",
    "print(result.collect())"
   ]
  },
  {
   "cell_type": "markdown",
   "metadata": {},
   "source": [
    "## 3.3 HAVING - Filtering Groups"
   ]
  },
  {
   "cell_type": "code",
   "execution_count": null,
   "metadata": {},
   "outputs": [],
   "source": [
    "# HAVING clause (filter after aggregation)\n",
    "result = ctx.execute(\"\"\"\n",
    "    SELECT \n",
    "        department,\n",
    "        COUNT(*) AS num_employees,\n",
    "        AVG(salary) AS avg_salary\n",
    "    FROM employees\n",
    "    GROUP BY department\n",
    "    HAVING COUNT(*) > 1\n",
    "\"\"\")\n",
    "\n",
    "print(\"Departments with more than 1 employee:\")\n",
    "print(result.collect())"
   ]
  },
  {
   "cell_type": "code",
   "execution_count": null,
   "metadata": {},
   "outputs": [],
   "source": [
    "# HAVING with multiple conditions\n",
    "result = ctx.execute(\"\"\"\n",
    "    SELECT \n",
    "        department,\n",
    "        COUNT(*) AS num_employees,\n",
    "        AVG(salary) AS avg_salary\n",
    "    FROM employees\n",
    "    GROUP BY department\n",
    "    HAVING COUNT(*) >= 2 AND AVG(salary) > 50000\n",
    "\"\"\")\n",
    "\n",
    "print(\"Departments with 2+ employees and avg salary > 50k:\")\n",
    "print(result.collect())"
   ]
  },
  {
   "cell_type": "markdown",
   "metadata": {},
   "source": [
    "---\n",
    "# Part 4: Joins"
   ]
  },
  {
   "cell_type": "code",
   "execution_count": null,
   "metadata": {},
   "outputs": [],
   "source": [
    "# Create related tables\n",
    "df_employees = pl.DataFrame({\n",
    "    'employee_id': [1, 2, 3, 4, 5],\n",
    "    'name': ['Alice', 'Bob', 'Charlie', 'Diana', 'Eve'],\n",
    "    'department_id': [1, 2, 1, 2, 3]\n",
    "})\n",
    "\n",
    "df_departments = pl.DataFrame({\n",
    "    'department_id': [1, 2, 3, 4],\n",
    "    'department_name': ['Sales', 'Engineering', 'HR', 'Marketing'],\n",
    "    'location': ['NYC', 'San Francisco', 'Boston', 'Chicago']\n",
    "})\n",
    "\n",
    "ctx = pl.SQLContext(\n",
    "    employees=df_employees,\n",
    "    departments=df_departments\n",
    ")\n",
    "\n",
    "print(\"Employees:\")\n",
    "print(df_employees)\n",
    "print(\"\\nDepartments:\")\n",
    "print(df_departments)"
   ]
  },
  {
   "cell_type": "markdown",
   "metadata": {},
   "source": [
    "## 4.1 INNER JOIN"
   ]
  },
  {
   "cell_type": "code",
   "execution_count": null,
   "metadata": {},
   "outputs": [],
   "source": [
    "# INNER JOIN\n",
    "result = ctx.execute(\"\"\"\n",
    "    SELECT \n",
    "        e.name,\n",
    "        d.department_name,\n",
    "        d.location\n",
    "    FROM employees e\n",
    "    INNER JOIN departments d ON e.department_id = d.department_id\n",
    "\"\"\")\n",
    "\n",
    "print(\"INNER JOIN (matching records only):\")\n",
    "print(result.collect())"
   ]
  },
  {
   "cell_type": "markdown",
   "metadata": {},
   "source": [
    "## 4.2 LEFT JOIN"
   ]
  },
  {
   "cell_type": "code",
   "execution_count": null,
   "metadata": {},
   "outputs": [],
   "source": [
    "# LEFT JOIN\n",
    "result = ctx.execute(\"\"\"\n",
    "    SELECT \n",
    "        e.name,\n",
    "        d.department_name,\n",
    "        d.location\n",
    "    FROM employees e\n",
    "    LEFT JOIN departments d ON e.department_id = d.department_id\n",
    "\"\"\")\n",
    "\n",
    "print(\"LEFT JOIN (all employees):\")\n",
    "print(result.collect())"
   ]
  },
  {
   "cell_type": "markdown",
   "metadata": {},
   "source": [
    "## 4.3 RIGHT JOIN"
   ]
  },
  {
   "cell_type": "code",
   "execution_count": null,
   "metadata": {},
   "outputs": [],
   "source": [
    "# RIGHT JOIN\n",
    "result = ctx.execute(\"\"\"\n",
    "    SELECT \n",
    "        e.name,\n",
    "        d.department_name,\n",
    "        d.location\n",
    "    FROM employees e\n",
    "    RIGHT JOIN departments d ON e.department_id = d.department_id\n",
    "\"\"\")\n",
    "\n",
    "print(\"RIGHT JOIN (all departments, including Marketing with no employees):\")\n",
    "print(result.collect())"
   ]
  },
  {
   "cell_type": "markdown",
   "metadata": {},
   "source": [
    "## 4.4 Multiple Joins"
   ]
  },
  {
   "cell_type": "code",
   "execution_count": null,
   "metadata": {},
   "outputs": [],
   "source": [
    "# Add projects table\n",
    "df_projects = pl.DataFrame({\n",
    "    'project_id': [101, 102, 103, 104],\n",
    "    'project_name': ['Website Redesign', 'Mobile App', 'Data Pipeline', 'ML Model'],\n",
    "    'employee_id': [1, 2, 2, 4]\n",
    "})\n",
    "\n",
    "ctx.register('projects', df_projects)\n",
    "\n",
    "# Join all three tables\n",
    "result = ctx.execute(\"\"\"\n",
    "    SELECT \n",
    "        e.name,\n",
    "        d.department_name,\n",
    "        p.project_name\n",
    "    FROM employees e\n",
    "    INNER JOIN departments d ON e.department_id = d.department_id\n",
    "    INNER JOIN projects p ON e.employee_id = p.employee_id\n",
    "\"\"\")\n",
    "\n",
    "print(\"Three-way join:\")\n",
    "print(result.collect())"
   ]
  },
  {
   "cell_type": "markdown",
   "metadata": {},
   "source": [
    "---\n",
    "# Part 5: Subqueries"
   ]
  },
  {
   "cell_type": "code",
   "execution_count": null,
   "metadata": {},
   "outputs": [],
   "source": [
    "# Setup data\n",
    "df_employees = pl.DataFrame({\n",
    "    'employee_id': [1, 2, 3, 4, 5],\n",
    "    'name': ['Alice', 'Bob', 'Charlie', 'Diana', 'Eve'],\n",
    "    'department': ['Sales', 'Engineering', 'Sales', 'Engineering', 'HR'],\n",
    "    'salary': [50000, 75000, 55000, 80000, 60000]\n",
    "})\n",
    "\n",
    "ctx = pl.SQLContext(employees=df_employees)"
   ]
  },
  {
   "cell_type": "markdown",
   "metadata": {},
   "source": [
    "## 5.1 Subquery in WHERE Clause"
   ]
  },
  {
   "cell_type": "code",
   "execution_count": null,
   "metadata": {},
   "outputs": [],
   "source": [
    "# Find employees with above-average salary\n",
    "result = ctx.execute(\"\"\"\n",
    "    SELECT name, salary\n",
    "    FROM employees\n",
    "    WHERE salary > (SELECT AVG(salary) FROM employees)\n",
    "\"\"\")\n",
    "\n",
    "print(\"Employees with above-average salary:\")\n",
    "print(result.collect())"
   ]
  },
  {
   "cell_type": "markdown",
   "metadata": {},
   "source": [
    "## 5.2 Subquery in FROM Clause"
   ]
  },
  {
   "cell_type": "code",
   "execution_count": null,
   "metadata": {},
   "outputs": [],
   "source": [
    "# Use subquery as derived table\n",
    "result = ctx.execute(\"\"\"\n",
    "    SELECT \n",
    "        department,\n",
    "        avg_salary\n",
    "    FROM (\n",
    "        SELECT \n",
    "            department,\n",
    "            AVG(salary) AS avg_salary\n",
    "        FROM employees\n",
    "        GROUP BY department\n",
    "    )\n",
    "    WHERE avg_salary > 60000\n",
    "\"\"\")\n",
    "\n",
    "print(\"Departments with average salary > 60000:\")\n",
    "print(result.collect())"
   ]
  },
  {
   "cell_type": "markdown",
   "metadata": {},
   "source": [
    "## 5.3 Common Table Expressions (CTEs) with WITH"
   ]
  },
  {
   "cell_type": "code",
   "execution_count": null,
   "metadata": {},
   "outputs": [],
   "source": [
    "# CTE - More readable than nested subqueries\n",
    "result = ctx.execute(\"\"\"\n",
    "    WITH dept_stats AS (\n",
    "        SELECT \n",
    "            department,\n",
    "            AVG(salary) AS avg_salary,\n",
    "            COUNT(*) AS num_employees\n",
    "        FROM employees\n",
    "        GROUP BY department\n",
    "    )\n",
    "    SELECT \n",
    "        department,\n",
    "        avg_salary,\n",
    "        num_employees\n",
    "    FROM dept_stats\n",
    "    WHERE num_employees >= 2\n",
    "    ORDER BY avg_salary DESC\n",
    "\"\"\")\n",
    "\n",
    "print(\"Using CTE:\")\n",
    "print(result.collect())"
   ]
  },
  {
   "cell_type": "code",
   "execution_count": null,
   "metadata": {},
   "outputs": [],
   "source": [
    "# Multiple CTEs\n",
    "result = ctx.execute(\"\"\"\n",
    "    WITH \n",
    "        high_earners AS (\n",
    "            SELECT *\n",
    "            FROM employees\n",
    "            WHERE salary > 60000\n",
    "        ),\n",
    "        dept_counts AS (\n",
    "            SELECT \n",
    "                department,\n",
    "                COUNT(*) AS num_high_earners\n",
    "            FROM high_earners\n",
    "            GROUP BY department\n",
    "        )\n",
    "    SELECT *\n",
    "    FROM dept_counts\n",
    "    ORDER BY num_high_earners DESC\n",
    "\"\"\")\n",
    "\n",
    "print(\"Multiple CTEs:\")\n",
    "print(result.collect())"
   ]
  },
  {
   "cell_type": "markdown",
   "metadata": {},
   "source": [
    "---\n",
    "# Part 6: Window Functions"
   ]
  },
  {
   "cell_type": "markdown",
   "metadata": {},
   "source": [
    "## 6.1 ROW_NUMBER, RANK, DENSE_RANK"
   ]
  },
  {
   "cell_type": "code",
   "execution_count": null,
   "metadata": {},
   "outputs": [],
   "source": [
    "# Window functions for ranking\n",
    "result = ctx.execute(\"\"\"\n",
    "    SELECT \n",
    "        name,\n",
    "        department,\n",
    "        salary,\n",
    "        ROW_NUMBER() OVER (ORDER BY salary DESC) AS row_num,\n",
    "        RANK() OVER (ORDER BY salary DESC) AS rank,\n",
    "        DENSE_RANK() OVER (ORDER BY salary DESC) AS dense_rank\n",
    "    FROM employees\n",
    "\"\"\")\n",
    "\n",
    "print(\"Window functions for ranking:\")\n",
    "print(result.collect())"
   ]
  },
  {
   "cell_type": "markdown",
   "metadata": {},
   "source": [
    "## 6.2 PARTITION BY"
   ]
  },
  {
   "cell_type": "code",
   "execution_count": null,
   "metadata": {},
   "outputs": [],
   "source": [
    "# Rank within each department\n",
    "result = ctx.execute(\"\"\"\n",
    "    SELECT \n",
    "        name,\n",
    "        department,\n",
    "        salary,\n",
    "        ROW_NUMBER() OVER (PARTITION BY department ORDER BY salary DESC) AS dept_rank\n",
    "    FROM employees\n",
    "    ORDER BY department, dept_rank\n",
    "\"\"\")\n",
    "\n",
    "print(\"Ranking within each department:\")\n",
    "print(result.collect())"
   ]
  },
  {
   "cell_type": "markdown",
   "metadata": {},
   "source": [
    "## 6.3 Aggregate Window Functions"
   ]
  },
  {
   "cell_type": "code",
   "execution_count": null,
   "metadata": {},
   "outputs": [],
   "source": [
    "# Running totals and averages\n",
    "result = ctx.execute(\"\"\"\n",
    "    SELECT \n",
    "        name,\n",
    "        department,\n",
    "        salary,\n",
    "        AVG(salary) OVER (PARTITION BY department) AS dept_avg_salary,\n",
    "        salary - AVG(salary) OVER (PARTITION BY department) AS diff_from_dept_avg\n",
    "    FROM employees\n",
    "    ORDER BY department, name\n",
    "\"\"\")\n",
    "\n",
    "print(\"Compare to department average:\")\n",
    "print(result.collect())"
   ]
  },
  {
   "cell_type": "markdown",
   "metadata": {},
   "source": [
    "---\n",
    "# Part 7: Advanced SQL Features"
   ]
  },
  {
   "cell_type": "markdown",
   "metadata": {},
   "source": [
    "## 7.1 CASE WHEN - Conditional Logic"
   ]
  },
  {
   "cell_type": "code",
   "execution_count": null,
   "metadata": {},
   "outputs": [],
   "source": [
    "# CASE statement\n",
    "result = ctx.execute(\"\"\"\n",
    "    SELECT \n",
    "        name,\n",
    "        salary,\n",
    "        CASE \n",
    "            WHEN salary >= 75000 THEN 'High'\n",
    "            WHEN salary >= 55000 THEN 'Medium'\n",
    "            ELSE 'Low'\n",
    "        END AS salary_bracket\n",
    "    FROM employees\n",
    "\"\"\")\n",
    "\n",
    "print(\"Salary brackets:\")\n",
    "print(result.collect())"
   ]
  },
  {
   "cell_type": "markdown",
   "metadata": {},
   "source": [
    "## 7.2 DISTINCT"
   ]
  },
  {
   "cell_type": "code",
   "execution_count": null,
   "metadata": {},
   "outputs": [],
   "source": [
    "# Get unique departments\n",
    "result = ctx.execute(\"\"\"\n",
    "    SELECT DISTINCT department\n",
    "    FROM employees\n",
    "    ORDER BY department\n",
    "\"\"\")\n",
    "\n",
    "print(\"Unique departments:\")\n",
    "print(result.collect())"
   ]
  },
  {
   "cell_type": "markdown",
   "metadata": {},
   "source": [
    "## 7.3 UNION"
   ]
  },
  {
   "cell_type": "code",
   "execution_count": null,
   "metadata": {},
   "outputs": [],
   "source": [
    "# UNION to combine results\n",
    "result = ctx.execute(\"\"\"\n",
    "    SELECT name, 'High Earner' AS category\n",
    "    FROM employees\n",
    "    WHERE salary > 70000\n",
    "    \n",
    "    UNION ALL\n",
    "    \n",
    "    SELECT name, 'Low Earner' AS category\n",
    "    FROM employees\n",
    "    WHERE salary < 55000\n",
    "\"\"\")\n",
    "\n",
    "print(\"Union of high and low earners:\")\n",
    "print(result.collect())"
   ]
  },
  {
   "cell_type": "markdown",
   "metadata": {},
   "source": [
    "---\n",
    "# Part 8: Real-World Examples"
   ]
  },
  {
   "cell_type": "markdown",
   "metadata": {},
   "source": [
    "## 8.1 Example: Sales Analysis"
   ]
  },
  {
   "cell_type": "code",
   "execution_count": null,
   "metadata": {},
   "outputs": [],
   "source": [
    "# Create sales data\n",
    "df_sales = pl.DataFrame({\n",
    "    'order_id': range(1, 11),\n",
    "    'customer_id': [1, 2, 1, 3, 2, 1, 4, 3, 2, 5],\n",
    "    'product': ['Laptop', 'Mouse', 'Keyboard', 'Monitor', 'Laptop', 'Mouse', 'Keyboard', 'Laptop', 'Monitor', 'Mouse'],\n",
    "    'amount': [1200, 25, 75, 300, 1200, 25, 75, 1200, 300, 25],\n",
    "    'order_date': [\n",
    "        date(2024, 1, 15), date(2024, 1, 16), date(2024, 1, 17),\n",
    "        date(2024, 1, 18), date(2024, 1, 19), date(2024, 1, 20),\n",
    "        date(2024, 1, 21), date(2024, 1, 22), date(2024, 1, 23),\n",
    "        date(2024, 1, 24)\n",
    "    ]\n",
    "})\n",
    "\n",
    "ctx = pl.SQLContext(sales=df_sales)\n",
    "\n",
    "print(\"Sales data:\")\n",
    "print(df_sales)"
   ]
  },
  {
   "cell_type": "code",
   "execution_count": null,
   "metadata": {},
   "outputs": [],
   "source": [
    "# Complex analysis with multiple CTEs\n",
    "result = ctx.execute(\"\"\"\n",
    "    WITH \n",
    "        -- Customer totals\n",
    "        customer_totals AS (\n",
    "            SELECT \n",
    "                customer_id,\n",
    "                COUNT(*) AS num_orders,\n",
    "                SUM(amount) AS total_spent\n",
    "            FROM sales\n",
    "            GROUP BY customer_id\n",
    "        ),\n",
    "        -- Product stats\n",
    "        product_stats AS (\n",
    "            SELECT \n",
    "                product,\n",
    "                COUNT(*) AS times_sold,\n",
    "                SUM(amount) AS product_revenue\n",
    "            FROM sales\n",
    "            GROUP BY product\n",
    "        )\n",
    "    SELECT \n",
    "        'Customer' AS entity_type,\n",
    "        CAST(customer_id AS VARCHAR) AS entity_name,\n",
    "        total_spent AS revenue\n",
    "    FROM customer_totals\n",
    "    WHERE total_spent > 100\n",
    "    \n",
    "    UNION ALL\n",
    "    \n",
    "    SELECT \n",
    "        'Product' AS entity_type,\n",
    "        product AS entity_name,\n",
    "        product_revenue AS revenue\n",
    "    FROM product_stats\n",
    "    WHERE times_sold >= 3\n",
    "    \n",
    "    ORDER BY revenue DESC\n",
    "\"\"\")\n",
    "\n",
    "print(\"Top customers and products:\")\n",
    "print(result.collect())"
   ]
  },
  {
   "cell_type": "markdown",
   "metadata": {},
   "source": [
    "## 8.2 Example: Time Series Analysis"
   ]
  },
  {
   "cell_type": "code",
   "execution_count": null,
   "metadata": {},
   "outputs": [],
   "source": [
    "# Running totals and moving averages\n",
    "result = ctx.execute(\"\"\"\n",
    "    SELECT \n",
    "        order_date,\n",
    "        amount,\n",
    "        SUM(amount) OVER (\n",
    "            ORDER BY order_date \n",
    "            ROWS BETWEEN UNBOUNDED PRECEDING AND CURRENT ROW\n",
    "        ) AS cumulative_revenue,\n",
    "        AVG(amount) OVER (\n",
    "            ORDER BY order_date \n",
    "            ROWS BETWEEN 2 PRECEDING AND CURRENT ROW\n",
    "        ) AS moving_avg_3day\n",
    "    FROM sales\n",
    "    ORDER BY order_date\n",
    "\"\"\")\n",
    "\n",
    "print(\"Time series with cumulative and moving averages:\")\n",
    "print(result.collect())"
   ]
  },
  {
   "cell_type": "markdown",
   "metadata": {},
   "source": [
    "---\n",
    "# Part 9: Mixing SQL and Polars Expressions"
   ]
  },
  {
   "cell_type": "code",
   "execution_count": null,
   "metadata": {},
   "outputs": [],
   "source": [
    "# Execute SQL, then continue with Polars methods\n",
    "lazy_result = ctx.execute(\"\"\"\n",
    "    SELECT \n",
    "        customer_id,\n",
    "        SUM(amount) AS total_spent\n",
    "    FROM sales\n",
    "    GROUP BY customer_id\n",
    "\"\"\")\n",
    "\n",
    "# Continue with Polars expressions\n",
    "final_result = (\n",
    "    lazy_result\n",
    "    .filter(pl.col('total_spent') > 500)\n",
    "    .with_columns([\n",
    "        (pl.col('total_spent') * 0.1).alias('estimated_profit'),\n",
    "        pl.when(pl.col('total_spent') > 2000)\n",
    "          .then(pl.lit('VIP'))\n",
    "          .otherwise(pl.lit('Regular'))\n",
    "          .alias('customer_tier')\n",
    "    ])\n",
    "    .collect()\n",
    ")\n",
    "\n",
    "print(\"SQL query + Polars expressions:\")\n",
    "print(final_result)"
   ]
  },
  {
   "cell_type": "code",
   "execution_count": null,
   "metadata": {},
   "outputs": [],
   "source": [
    "# Start with Polars, then use SQL\n",
    "df_filtered = df_sales.filter(pl.col('amount') > 50)\n",
    "\n",
    "ctx_mixed = pl.SQLContext(filtered_sales=df_filtered)\n",
    "\n",
    "result = ctx_mixed.execute(\"\"\"\n",
    "    SELECT \n",
    "        product,\n",
    "        COUNT(*) AS num_sales,\n",
    "        AVG(amount) AS avg_amount\n",
    "    FROM filtered_sales\n",
    "    GROUP BY product\n",
    "\"\"\")\n",
    "\n",
    "print(\"Polars filter + SQL aggregation:\")\n",
    "print(result.collect())"
   ]
  },
  {
   "cell_type": "markdown",
   "metadata": {},
   "source": [
    "---\n",
    "# Part 10: SQL vs Native Polars - When to Use Each"
   ]
  },
  {
   "cell_type": "markdown",
   "metadata": {},
   "source": [
    "## Comparison Table\n",
    "\n",
    "| Task | SQL | Native Polars | Recommendation |\n",
    "|------|-----|---------------|----------------|\n",
    "| **Complex Joins** | ✅ Clear syntax | ❌ Verbose | Use SQL |\n",
    "| **Subqueries & CTEs** | ✅ Readable | ❌ Harder to nest | Use SQL |\n",
    "| **Quick exploration** | ✅ Fast to write | ❌ More typing | Use SQL |\n",
    "| **Method chaining** | ❌ Not possible | ✅ Fluent API | Use Polars |\n",
    "| **Type safety** | ❌ String-based | ✅ IDE support | Use Polars |\n",
    "| **Dynamic queries** | ❌ String concat | ✅ Programmatic | Use Polars |\n",
    "| **Expressions** | ❌ Limited | ✅ Very powerful | Use Polars |\n",
    "| **For SQL users** | ✅ Familiar | ❌ Learning curve | Use SQL |"
   ]
  },
  {
   "cell_type": "markdown",
   "metadata": {},
   "source": [
    "## Example: Same Query in Both Styles"
   ]
  },
  {
   "cell_type": "code",
   "execution_count": null,
   "metadata": {},
   "outputs": [],
   "source": [
    "# SQL version\n",
    "sql_result = ctx.execute(\"\"\"\n",
    "    SELECT \n",
    "        product,\n",
    "        COUNT(*) AS num_sales,\n",
    "        SUM(amount) AS total_revenue,\n",
    "        AVG(amount) AS avg_sale\n",
    "    FROM sales\n",
    "    WHERE amount > 50\n",
    "    GROUP BY product\n",
    "    HAVING COUNT(*) >= 2\n",
    "    ORDER BY total_revenue DESC\n",
    "\"\"\")\n",
    "\n",
    "print(\"SQL version:\")\n",
    "print(sql_result.collect())"
   ]
  },
  {
   "cell_type": "code",
   "execution_count": null,
   "metadata": {},
   "outputs": [],
   "source": [
    "# Native Polars version\n",
    "polars_result = (\n",
    "    df_sales\n",
    "    .filter(pl.col('amount') > 50)\n",
    "    .group_by('product')\n",
    "    .agg([\n",
    "        pl.len().alias('num_sales'),\n",
    "        pl.col('amount').sum().alias('total_revenue'),\n",
    "        pl.col('amount').mean().alias('avg_sale')\n",
    "    ])\n",
    "    .filter(pl.col('num_sales') >= 2)\n",
    "    .sort('total_revenue', descending=True)\n",
    ")\n",
    "\n",
    "print(\"Native Polars version:\")\n",
    "print(polars_result)"
   ]
  },
  {
   "cell_type": "markdown",
   "metadata": {},
   "source": [
    "---\n",
    "# Summary\n",
    "\n",
    "## Key Takeaways:\n",
    "\n",
    "### 1. **SQLContext Basics**\n",
    "   - Create with `pl.SQLContext()`\n",
    "   - Register DataFrames with `ctx.register()` or in constructor\n",
    "   - Execute queries with `ctx.execute()`\n",
    "   - Returns LazyFrame - use `.collect()` to materialize\n",
    "\n",
    "### 2. **Supported SQL Features**\n",
    "   - ✅ SELECT, WHERE, GROUP BY, HAVING, ORDER BY\n",
    "   - ✅ JOINS (INNER, LEFT, RIGHT)\n",
    "   - ✅ Subqueries and CTEs (WITH)\n",
    "   - ✅ Window functions (ROW_NUMBER, RANK, etc.)\n",
    "   - ✅ Aggregations (COUNT, SUM, AVG, MIN, MAX)\n",
    "   - ✅ CASE WHEN, DISTINCT, UNION\n",
    "\n",
    "### 3. **Best Practices**\n",
    "   - Use SQL for complex joins and readable queries\n",
    "   - Use native Polars for method chaining and type safety\n",
    "   - Mix both: SQL for exploration, Polars for production\n",
    "   - CTEs make complex queries more readable\n",
    "   - Leverage window functions for analytics\n",
    "\n",
    "### 4. **Common Patterns**\n",
    "\n",
    "```python\n",
    "# Create context\n",
    "ctx = pl.SQLContext(table_name=df)\n",
    "\n",
    "# Execute query\n",
    "result = ctx.execute(\"SELECT * FROM table_name\")\n",
    "\n",
    "# Materialize\n",
    "df_result = result.collect()\n",
    "\n",
    "# Mix with Polars\n",
    "final = result.filter(pl.col('x') > 10).collect()\n",
    "```\n",
    "\n",
    "### 5. **When to Use SQL**\n",
    "   - ✅ You already know SQL well\n",
    "   - ✅ Complex multi-table joins\n",
    "   - ✅ Quick data exploration\n",
    "   - ✅ Porting queries from other databases\n",
    "   - ❌ Need dynamic query building\n",
    "   - ❌ Want IDE autocomplete and type safety\n",
    "\n",
    "## Performance Note:\n",
    "> SQL queries in Polars are converted to LazyFrame operations internally, so performance is **identical** to native Polars expressions!\n",
    "\n",
    "## Remember:\n",
    "> Use the approach that makes your code **most readable** and **maintainable** for your use case. Polars SQL gives you the best of both worlds!"
   ]
  },
  {
   "cell_type": "markdown",
   "metadata": {},
   "source": [
    "---\n",
    "# Practice Exercises"
   ]
  },
  {
   "cell_type": "code",
   "execution_count": null,
   "metadata": {},
   "outputs": [],
   "source": [
    "# Exercise data\n",
    "df_orders = pl.DataFrame({\n",
    "    'order_id': range(1, 11),\n",
    "    'customer_id': [101, 102, 101, 103, 102, 104, 101, 103, 105, 102],\n",
    "    'product': ['A', 'B', 'A', 'C', 'B', 'A', 'C', 'B', 'A', 'C'],\n",
    "    'quantity': [2, 1, 3, 1, 2, 1, 2, 3, 1, 2],\n",
    "    'price': [100, 200, 100, 150, 200, 100, 150, 200, 100, 150],\n",
    "    'order_date': [\n",
    "        date(2024, 1, i) for i in range(1, 11)\n",
    "    ]\n",
    "})\n",
    "\n",
    "ctx_exercise = pl.SQLContext(orders=df_orders)\n",
    "print(\"Exercise data:\")\n",
    "print(df_orders)"
   ]
  },
  {
   "cell_type": "code",
   "execution_count": null,
   "metadata": {},
   "outputs": [],
   "source": [
    "# Exercise 1: Find total revenue (quantity * price) by product\n",
    "# Your SQL here:\n"
   ]
  },
  {
   "cell_type": "code",
   "execution_count": null,
   "metadata": {},
   "outputs": [],
   "source": [
    "# Exercise 2: Find customers who ordered more than 2 times\n",
    "# Your SQL here:\n"
   ]
  },
  {
   "cell_type": "code",
   "execution_count": null,
   "metadata": {},
   "outputs": [],
   "source": [
    "# Exercise 3: Calculate running total of revenue over time\n",
    "# Hint: Use window function with ORDER BY order_date\n",
    "# Your SQL here:\n"
   ]
  },
  {
   "cell_type": "code",
   "execution_count": null,
   "metadata": {},
   "outputs": [],
   "source": [
    "# Exercise 4: Using CTE, find products with above-average revenue\n",
    "# Your SQL here:\n"
   ]
  },
  {
   "cell_type": "code",
   "execution_count": null,
   "metadata": {},
   "outputs": [],
   "source": [
    "# Exercise 5: Rank customers by total spending within each product category\n",
    "# Your SQL here:\n"
   ]
  }
 ],
 "metadata": {
  "kernelspec": {
   "display_name": "Python 3",
   "language": "python",
   "name": "python3"
  },
  "language_info": {
   "name": "python",
   "version": "3.11.0"
  }
 },
 "nbformat": 4,
 "nbformat_minor": 2
}
