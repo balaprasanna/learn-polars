{
 "cells": [
  {
   "cell_type": "markdown",
   "metadata": {},
   "source": [
    "# Polars Joins - Comprehensive Guide\n",
    "\n",
    "This notebook covers all 7 types of joins in Polars with practical examples.\n",
    "\n",
    "## Join Types:\n",
    "- **inner**: Returns rows that have matching values in both tables\n",
    "- **left**: Returns all rows from left table + matched rows from right\n",
    "- **right**: Returns all rows from right table + matched rows from left\n",
    "- **full/outer**: Returns all rows when there is a match in either table\n",
    "- **cross**: Returns the Cartesian product of rows from both tables\n",
    "- **semi**: Returns rows from left that have a match in right (no right columns)\n",
    "- **anti**: Returns rows from left that have NO match in right"
   ]
  },
  {
   "cell_type": "code",
   "execution_count": 1,
   "metadata": {},
   "outputs": [],
   "source": [
    "import polars as pl\n",
    "import numpy as np\n",
    "from datetime import datetime, timedelta"
   ]
  },
  {
   "cell_type": "markdown",
   "metadata": {},
   "source": [
    "## Setup: Create Sample DataFrames\n",
    "\n",
    "We'll use a realistic e-commerce scenario with customers and orders."
   ]
  },
  {
   "cell_type": "code",
   "execution_count": 2,
   "metadata": {},
   "outputs": [
    {
     "name": "stdout",
     "output_type": "stream",
     "text": [
      "CUSTOMERS:\n",
      "shape: (5, 4)\n",
      "┌─────────────┬─────────┬─────────────┬─────────────┐\n",
      "│ customer_id ┆ name    ┆ city        ┆ signup_date │\n",
      "│ ---         ┆ ---     ┆ ---         ┆ ---         │\n",
      "│ i64         ┆ str     ┆ str         ┆ str         │\n",
      "╞═════════════╪═════════╪═════════════╪═════════════╡\n",
      "│ 1           ┆ Alice   ┆ New York    ┆ 2023-01-15  │\n",
      "│ 2           ┆ Bob     ┆ Los Angeles ┆ 2023-02-20  │\n",
      "│ 3           ┆ Charlie ┆ Chicago     ┆ 2023-03-10  │\n",
      "│ 4           ┆ Diana   ┆ Houston     ┆ 2023-04-05  │\n",
      "│ 5           ┆ Eve     ┆ Phoenix     ┆ 2023-05-12  │\n",
      "└─────────────┴─────────┴─────────────┴─────────────┘\n",
      "\n",
      "ORDERS:\n",
      "shape: (6, 5)\n",
      "┌──────────┬─────────────┬──────────┬────────┬────────────┐\n",
      "│ order_id ┆ customer_id ┆ product  ┆ amount ┆ order_date │\n",
      "│ ---      ┆ ---         ┆ ---      ┆ ---    ┆ ---        │\n",
      "│ i64      ┆ i64         ┆ str      ┆ f64    ┆ str        │\n",
      "╞══════════╪═════════════╪══════════╪════════╪════════════╡\n",
      "│ 101      ┆ 1           ┆ Laptop   ┆ 1200.0 ┆ 2023-06-01 │\n",
      "│ 102      ┆ 1           ┆ Mouse    ┆ 25.0   ┆ 2023-06-05 │\n",
      "│ 103      ┆ 2           ┆ Keyboard ┆ 75.0   ┆ 2023-06-03 │\n",
      "│ 104      ┆ 3           ┆ Monitor  ┆ 350.0  ┆ 2023-06-07 │\n",
      "│ 105      ┆ 6           ┆ Webcam   ┆ 89.99  ┆ 2023-06-10 │\n",
      "│ 106      ┆ 7           ┆ Headset  ┆ 120.0  ┆ 2023-06-12 │\n",
      "└──────────┴─────────────┴──────────┴────────┴────────────┘\n"
     ]
    }
   ],
   "source": [
    "# Customers DataFrame\n",
    "customers = pl.DataFrame({\n",
    "    'customer_id': [1, 2, 3, 4, 5],\n",
    "    'name': ['Alice', 'Bob', 'Charlie', 'Diana', 'Eve'],\n",
    "    'city': ['New York', 'Los Angeles', 'Chicago', 'Houston', 'Phoenix'],\n",
    "    'signup_date': ['2023-01-15', '2023-02-20', '2023-03-10', '2023-04-05', '2023-05-12']\n",
    "})\n",
    "\n",
    "# Orders DataFrame (not all customers have orders, and some orders from customers not in our list)\n",
    "orders = pl.DataFrame({\n",
    "    'order_id': [101, 102, 103, 104, 105, 106],\n",
    "    'customer_id': [1, 1, 2, 3, 6, 7],  # Note: customer_id 6 and 7 don't exist in customers\n",
    "    'product': ['Laptop', 'Mouse', 'Keyboard', 'Monitor', 'Webcam', 'Headset'],\n",
    "    'amount': [1200.00, 25.00, 75.00, 350.00, 89.99, 120.00],\n",
    "    'order_date': ['2023-06-01', '2023-06-05', '2023-06-03', '2023-06-07', '2023-06-10', '2023-06-12']\n",
    "})\n",
    "\n",
    "print(\"CUSTOMERS:\")\n",
    "print(customers)\n",
    "print(\"\\nORDERS:\")\n",
    "print(orders)"
   ]
  },
  {
   "cell_type": "markdown",
   "metadata": {},
   "source": [
    "## 1. INNER JOIN\n",
    "\n",
    "**Use Case**: When you only want rows where there's a match in BOTH tables.\n",
    "\n",
    "**Example**: Find all customers who have placed orders (ignore customers without orders and orders without matching customers)"
   ]
  },
  {
   "cell_type": "code",
   "execution_count": 3,
   "metadata": {},
   "outputs": [
    {
     "name": "stdout",
     "output_type": "stream",
     "text": [
      "INNER JOIN - Only customers with orders:\n",
      "shape: (4, 8)\n",
      "┌─────────────┬─────────┬─────────────┬─────────────┬──────────┬──────────┬────────┬────────────┐\n",
      "│ customer_id ┆ name    ┆ city        ┆ signup_date ┆ order_id ┆ product  ┆ amount ┆ order_date │\n",
      "│ ---         ┆ ---     ┆ ---         ┆ ---         ┆ ---      ┆ ---      ┆ ---    ┆ ---        │\n",
      "│ i64         ┆ str     ┆ str         ┆ str         ┆ i64      ┆ str      ┆ f64    ┆ str        │\n",
      "╞═════════════╪═════════╪═════════════╪═════════════╪══════════╪══════════╪════════╪════════════╡\n",
      "│ 1           ┆ Alice   ┆ New York    ┆ 2023-01-15  ┆ 101      ┆ Laptop   ┆ 1200.0 ┆ 2023-06-01 │\n",
      "│ 1           ┆ Alice   ┆ New York    ┆ 2023-01-15  ┆ 102      ┆ Mouse    ┆ 25.0   ┆ 2023-06-05 │\n",
      "│ 2           ┆ Bob     ┆ Los Angeles ┆ 2023-02-20  ┆ 103      ┆ Keyboard ┆ 75.0   ┆ 2023-06-03 │\n",
      "│ 3           ┆ Charlie ┆ Chicago     ┆ 2023-03-10  ┆ 104      ┆ Monitor  ┆ 350.0  ┆ 2023-06-07 │\n",
      "└─────────────┴─────────┴─────────────┴─────────────┴──────────┴──────────┴────────┴────────────┘\n",
      "\n",
      "Rows: 4\n",
      "\n",
      "Note: Diana (4) and Eve (5) are excluded (no orders)\n",
      "Note: Orders from customer_id 6 and 7 are excluded (customers don't exist)\n"
     ]
    }
   ],
   "source": [
    "inner_result = customers.join(orders, on='customer_id', how='inner')\n",
    "\n",
    "print(\"INNER JOIN - Only customers with orders:\")\n",
    "print(inner_result)\n",
    "print(f\"\\nRows: {len(inner_result)}\")\n",
    "print(\"\\nNote: Diana (4) and Eve (5) are excluded (no orders)\")\n",
    "print(\"Note: Orders from customer_id 6 and 7 are excluded (customers don't exist)\")"
   ]
  },
  {
   "cell_type": "markdown",
   "metadata": {},
   "source": [
    "## 2. LEFT JOIN\n",
    "\n",
    "**Use Case**: When you want ALL rows from the left table, regardless of matches.\n",
    "\n",
    "**Example**: List all customers and their orders (if any). Customers without orders will have null values in order columns."
   ]
  },
  {
   "cell_type": "code",
   "execution_count": 4,
   "metadata": {},
   "outputs": [
    {
     "name": "stdout",
     "output_type": "stream",
     "text": [
      "LEFT JOIN - All customers, with their orders if any:\n",
      "shape: (6, 8)\n",
      "┌─────────────┬─────────┬─────────────┬─────────────┬──────────┬──────────┬────────┬────────────┐\n",
      "│ customer_id ┆ name    ┆ city        ┆ signup_date ┆ order_id ┆ product  ┆ amount ┆ order_date │\n",
      "│ ---         ┆ ---     ┆ ---         ┆ ---         ┆ ---      ┆ ---      ┆ ---    ┆ ---        │\n",
      "│ i64         ┆ str     ┆ str         ┆ str         ┆ i64      ┆ str      ┆ f64    ┆ str        │\n",
      "╞═════════════╪═════════╪═════════════╪═════════════╪══════════╪══════════╪════════╪════════════╡\n",
      "│ 1           ┆ Alice   ┆ New York    ┆ 2023-01-15  ┆ 101      ┆ Laptop   ┆ 1200.0 ┆ 2023-06-01 │\n",
      "│ 1           ┆ Alice   ┆ New York    ┆ 2023-01-15  ┆ 102      ┆ Mouse    ┆ 25.0   ┆ 2023-06-05 │\n",
      "│ 2           ┆ Bob     ┆ Los Angeles ┆ 2023-02-20  ┆ 103      ┆ Keyboard ┆ 75.0   ┆ 2023-06-03 │\n",
      "│ 3           ┆ Charlie ┆ Chicago     ┆ 2023-03-10  ┆ 104      ┆ Monitor  ┆ 350.0  ┆ 2023-06-07 │\n",
      "│ 4           ┆ Diana   ┆ Houston     ┆ 2023-04-05  ┆ null     ┆ null     ┆ null   ┆ null       │\n",
      "│ 5           ┆ Eve     ┆ Phoenix     ┆ 2023-05-12  ┆ null     ┆ null     ┆ null   ┆ null       │\n",
      "└─────────────┴─────────┴─────────────┴─────────────┴──────────┴──────────┴────────┴────────────┘\n",
      "\n",
      "Rows: 6\n",
      "\n",
      "Note: Diana and Eve appear with null order values\n",
      "Note: Orders from customer_id 6 and 7 are still excluded\n"
     ]
    }
   ],
   "source": [
    "left_result = customers.join(orders, on='customer_id', how='left')\n",
    "\n",
    "print(\"LEFT JOIN - All customers, with their orders if any:\")\n",
    "print(left_result)\n",
    "print(f\"\\nRows: {len(left_result)}\")\n",
    "print(\"\\nNote: Diana and Eve appear with null order values\")\n",
    "print(\"Note: Orders from customer_id 6 and 7 are still excluded\")"
   ]
  },
  {
   "cell_type": "markdown",
   "metadata": {},
   "source": [
    "### Left Join - Finding Customers Without Orders"
   ]
  },
  {
   "cell_type": "code",
   "execution_count": 5,
   "metadata": {},
   "outputs": [
    {
     "name": "stdout",
     "output_type": "stream",
     "text": [
      "Customers without orders (target for marketing):\n",
      "shape: (2, 3)\n",
      "┌─────────────┬───────┬─────────┐\n",
      "│ customer_id ┆ name  ┆ city    │\n",
      "│ ---         ┆ ---   ┆ ---     │\n",
      "│ i64         ┆ str   ┆ str     │\n",
      "╞═════════════╪═══════╪═════════╡\n",
      "│ 4           ┆ Diana ┆ Houston │\n",
      "│ 5           ┆ Eve   ┆ Phoenix │\n",
      "└─────────────┴───────┴─────────┘\n"
     ]
    }
   ],
   "source": [
    "# Practical use: Find customers who haven't ordered yet (for marketing campaign)\n",
    "customers_no_orders = left_result.filter(pl.col('order_id').is_null())\n",
    "\n",
    "print(\"Customers without orders (target for marketing):\")\n",
    "print(customers_no_orders.select(['customer_id', 'name', 'city']))"
   ]
  },
  {
   "cell_type": "markdown",
   "metadata": {},
   "source": [
    "## 3. RIGHT JOIN\n",
    "\n",
    "**Use Case**: When you want ALL rows from the right table, regardless of matches.\n",
    "\n",
    "**Example**: List all orders with customer information (if available). Orders without matching customers will have null customer values."
   ]
  },
  {
   "cell_type": "code",
   "execution_count": 6,
   "metadata": {},
   "outputs": [
    {
     "name": "stdout",
     "output_type": "stream",
     "text": [
      "RIGHT JOIN - All orders, with customer info if available:\n",
      "shape: (6, 8)\n",
      "┌─────────┬─────────────┬─────────────┬──────────┬─────────────┬──────────┬────────┬────────────┐\n",
      "│ name    ┆ city        ┆ signup_date ┆ order_id ┆ customer_id ┆ product  ┆ amount ┆ order_date │\n",
      "│ ---     ┆ ---         ┆ ---         ┆ ---      ┆ ---         ┆ ---      ┆ ---    ┆ ---        │\n",
      "│ str     ┆ str         ┆ str         ┆ i64      ┆ i64         ┆ str      ┆ f64    ┆ str        │\n",
      "╞═════════╪═════════════╪═════════════╪══════════╪═════════════╪══════════╪════════╪════════════╡\n",
      "│ Alice   ┆ New York    ┆ 2023-01-15  ┆ 101      ┆ 1           ┆ Laptop   ┆ 1200.0 ┆ 2023-06-01 │\n",
      "│ Alice   ┆ New York    ┆ 2023-01-15  ┆ 102      ┆ 1           ┆ Mouse    ┆ 25.0   ┆ 2023-06-05 │\n",
      "│ Bob     ┆ Los Angeles ┆ 2023-02-20  ┆ 103      ┆ 2           ┆ Keyboard ┆ 75.0   ┆ 2023-06-03 │\n",
      "│ Charlie ┆ Chicago     ┆ 2023-03-10  ┆ 104      ┆ 3           ┆ Monitor  ┆ 350.0  ┆ 2023-06-07 │\n",
      "│ null    ┆ null        ┆ null        ┆ 105      ┆ 6           ┆ Webcam   ┆ 89.99  ┆ 2023-06-10 │\n",
      "│ null    ┆ null        ┆ null        ┆ 106      ┆ 7           ┆ Headset  ┆ 120.0  ┆ 2023-06-12 │\n",
      "└─────────┴─────────────┴─────────────┴──────────┴─────────────┴──────────┴────────┴────────────┘\n",
      "\n",
      "Rows: 6\n",
      "\n",
      "Note: Orders from customer_id 6 and 7 appear with null customer info\n",
      "Note: Diana and Eve don't appear (they have no orders)\n"
     ]
    }
   ],
   "source": [
    "right_result = customers.join(orders, on='customer_id', how='right')\n",
    "\n",
    "print(\"RIGHT JOIN - All orders, with customer info if available:\")\n",
    "print(right_result)\n",
    "print(f\"\\nRows: {len(right_result)}\")\n",
    "print(\"\\nNote: Orders from customer_id 6 and 7 appear with null customer info\")\n",
    "print(\"Note: Diana and Eve don't appear (they have no orders)\")"
   ]
  },
  {
   "cell_type": "markdown",
   "metadata": {},
   "source": [
    "### Right Join - Finding Orphaned Orders"
   ]
  },
  {
   "cell_type": "code",
   "execution_count": 7,
   "metadata": {},
   "outputs": [
    {
     "name": "stdout",
     "output_type": "stream",
     "text": [
      "Orders with invalid customer_ids (data issue):\n",
      "shape: (2, 4)\n",
      "┌──────────┬─────────────┬─────────┬────────┐\n",
      "│ order_id ┆ customer_id ┆ product ┆ amount │\n",
      "│ ---      ┆ ---         ┆ ---     ┆ ---    │\n",
      "│ i64      ┆ i64         ┆ str     ┆ f64    │\n",
      "╞══════════╪═════════════╪═════════╪════════╡\n",
      "│ 105      ┆ 6           ┆ Webcam  ┆ 89.99  │\n",
      "│ 106      ┆ 7           ┆ Headset ┆ 120.0  │\n",
      "└──────────┴─────────────┴─────────┴────────┘\n"
     ]
    }
   ],
   "source": [
    "# Practical use: Find orders with invalid customer_ids (data quality issue)\n",
    "orphaned_orders = right_result.filter(pl.col('name').is_null())\n",
    "\n",
    "print(\"Orders with invalid customer_ids (data issue):\")\n",
    "print(orphaned_orders.select(['order_id', 'customer_id', 'product', 'amount']))"
   ]
  },
  {
   "cell_type": "markdown",
   "metadata": {},
   "source": [
    "## 4. FULL/OUTER JOIN\n",
    "\n",
    "**Use Case**: When you want ALL rows from BOTH tables, with nulls where there's no match.\n",
    "\n",
    "**Example**: Complete view of customers and orders - see everyone and everything."
   ]
  },
  {
   "cell_type": "code",
   "execution_count": 8,
   "metadata": {},
   "outputs": [
    {
     "name": "stdout",
     "output_type": "stream",
     "text": [
      "FULL/OUTER JOIN - All customers and all orders:\n",
      "shape: (8, 9)\n",
      "┌────────────┬─────────┬────────────┬────────────┬───┬────────────┬──────────┬────────┬────────────┐\n",
      "│ customer_i ┆ name    ┆ city       ┆ signup_dat ┆ … ┆ customer_i ┆ product  ┆ amount ┆ order_date │\n",
      "│ d          ┆ ---     ┆ ---        ┆ e          ┆   ┆ d_right    ┆ ---      ┆ ---    ┆ ---        │\n",
      "│ ---        ┆ str     ┆ str        ┆ ---        ┆   ┆ ---        ┆ str      ┆ f64    ┆ str        │\n",
      "│ i64        ┆         ┆            ┆ str        ┆   ┆ i64        ┆          ┆        ┆            │\n",
      "╞════════════╪═════════╪════════════╪════════════╪═══╪════════════╪══════════╪════════╪════════════╡\n",
      "│ 1          ┆ Alice   ┆ New York   ┆ 2023-01-15 ┆ … ┆ 1          ┆ Laptop   ┆ 1200.0 ┆ 2023-06-01 │\n",
      "│ 1          ┆ Alice   ┆ New York   ┆ 2023-01-15 ┆ … ┆ 1          ┆ Mouse    ┆ 25.0   ┆ 2023-06-05 │\n",
      "│ 2          ┆ Bob     ┆ Los        ┆ 2023-02-20 ┆ … ┆ 2          ┆ Keyboard ┆ 75.0   ┆ 2023-06-03 │\n",
      "│            ┆         ┆ Angeles    ┆            ┆   ┆            ┆          ┆        ┆            │\n",
      "│ 3          ┆ Charlie ┆ Chicago    ┆ 2023-03-10 ┆ … ┆ 3          ┆ Monitor  ┆ 350.0  ┆ 2023-06-07 │\n",
      "│ null       ┆ null    ┆ null       ┆ null       ┆ … ┆ 6          ┆ Webcam   ┆ 89.99  ┆ 2023-06-10 │\n",
      "│ null       ┆ null    ┆ null       ┆ null       ┆ … ┆ 7          ┆ Headset  ┆ 120.0  ┆ 2023-06-12 │\n",
      "│ 5          ┆ Eve     ┆ Phoenix    ┆ 2023-05-12 ┆ … ┆ null       ┆ null     ┆ null   ┆ null       │\n",
      "│ 4          ┆ Diana   ┆ Houston    ┆ 2023-04-05 ┆ … ┆ null       ┆ null     ┆ null   ┆ null       │\n",
      "└────────────┴─────────┴────────────┴────────────┴───┴────────────┴──────────┴────────┴────────────┘\n",
      "\n",
      "Rows: 8\n",
      "\n",
      "Note: Includes customers without orders (Diana, Eve)\n",
      "Note: Includes orders without valid customers (customer_id 6, 7)\n"
     ]
    }
   ],
   "source": [
    "full_result = customers.join(orders, on='customer_id', how='full')\n",
    "\n",
    "print(\"FULL/OUTER JOIN - All customers and all orders:\")\n",
    "print(full_result)\n",
    "print(f\"\\nRows: {len(full_result)}\")\n",
    "print(\"\\nNote: Includes customers without orders (Diana, Eve)\")\n",
    "print(\"Note: Includes orders without valid customers (customer_id 6, 7)\")"
   ]
  },
  {
   "cell_type": "markdown",
   "metadata": {},
   "source": [
    "### Full Join - Analysis"
   ]
  },
  {
   "cell_type": "code",
   "execution_count": 18,
   "metadata": {},
   "outputs": [
    {
     "name": "stdout",
     "output_type": "stream",
     "text": [
      "Summary of Full Join:\n",
      "Total rows: 8\n",
      "Customers without orders: 2\n",
      "Orders without valid customers: 2\n",
      "Valid customer-order pairs: 4\n"
     ]
    }
   ],
   "source": [
    "# Analyze the full join results\n",
    "print(\"Summary of Full Join:\")\n",
    "print(f\"Total rows: {len(full_result)}\")\n",
    "print(f\"Customers without orders: {full_result.filter(pl.col('order_id').is_null()).height}\")\n",
    "print(f\"Orders without valid customers: {full_result.filter(pl.col('name').is_null()).height}\")\n",
    "print(f\"Valid customer-order pairs: {full_result.filter(pl.col('name').is_not_null() & pl.col('order_id').is_not_null()).height}\")"
   ]
  },
  {
   "cell_type": "markdown",
   "metadata": {},
   "source": [
    "## 5. CROSS JOIN (Cartesian Product)\n",
    "\n",
    "**Use Case**: When you need every possible combination of rows from both tables.\n",
    "\n",
    "**Example**: Generate all possible customer-product combinations (for recommendation system)."
   ]
  },
  {
   "cell_type": "code",
   "execution_count": 19,
   "metadata": {},
   "outputs": [
    {
     "name": "stdout",
     "output_type": "stream",
     "text": [
      "Customers:\n",
      "shape: (3, 2)\n",
      "┌─────────────┬─────────┐\n",
      "│ customer_id ┆ name    │\n",
      "│ ---         ┆ ---     │\n",
      "│ i64         ┆ str     │\n",
      "╞═════════════╪═════════╡\n",
      "│ 1           ┆ Alice   │\n",
      "│ 2           ┆ Bob     │\n",
      "│ 3           ┆ Charlie │\n",
      "└─────────────┴─────────┘\n",
      "\n",
      "Products:\n",
      "shape: (3, 3)\n",
      "┌──────────────┬────────┬─────────────┐\n",
      "│ product_name ┆ price  ┆ category    │\n",
      "│ ---          ┆ ---    ┆ ---         │\n",
      "│ str          ┆ f64    ┆ str         │\n",
      "╞══════════════╪════════╪═════════════╡\n",
      "│ Laptop       ┆ 1200.0 ┆ Electronics │\n",
      "│ Mouse        ┆ 25.0   ┆ Accessories │\n",
      "│ Keyboard     ┆ 75.0   ┆ Accessories │\n",
      "└──────────────┴────────┴─────────────┘\n"
     ]
    }
   ],
   "source": [
    "# Create a products catalog\n",
    "products = pl.DataFrame({\n",
    "    'product_name': ['Laptop', 'Mouse', 'Keyboard'],\n",
    "    'price': [1200.00, 25.00, 75.00],\n",
    "    'category': ['Electronics', 'Accessories', 'Accessories']\n",
    "})\n",
    "\n",
    "# Create smaller customer list for cross join demo\n",
    "customers_small = customers.head(3).select(['customer_id', 'name'])\n",
    "\n",
    "print(\"Customers:\")\n",
    "print(customers_small)\n",
    "print(\"\\nProducts:\")\n",
    "print(products)"
   ]
  },
  {
   "cell_type": "code",
   "execution_count": 20,
   "metadata": {},
   "outputs": [
    {
     "name": "stdout",
     "output_type": "stream",
     "text": [
      "\n",
      "CROSS JOIN - All possible customer-product combinations:\n",
      "shape: (9, 5)\n",
      "┌─────────────┬─────────┬──────────────┬────────┬─────────────┐\n",
      "│ customer_id ┆ name    ┆ product_name ┆ price  ┆ category    │\n",
      "│ ---         ┆ ---     ┆ ---          ┆ ---    ┆ ---         │\n",
      "│ i64         ┆ str     ┆ str          ┆ f64    ┆ str         │\n",
      "╞═════════════╪═════════╪══════════════╪════════╪═════════════╡\n",
      "│ 1           ┆ Alice   ┆ Laptop       ┆ 1200.0 ┆ Electronics │\n",
      "│ 1           ┆ Alice   ┆ Mouse        ┆ 25.0   ┆ Accessories │\n",
      "│ 1           ┆ Alice   ┆ Keyboard     ┆ 75.0   ┆ Accessories │\n",
      "│ 2           ┆ Bob     ┆ Laptop       ┆ 1200.0 ┆ Electronics │\n",
      "│ 2           ┆ Bob     ┆ Mouse        ┆ 25.0   ┆ Accessories │\n",
      "│ 2           ┆ Bob     ┆ Keyboard     ┆ 75.0   ┆ Accessories │\n",
      "│ 3           ┆ Charlie ┆ Laptop       ┆ 1200.0 ┆ Electronics │\n",
      "│ 3           ┆ Charlie ┆ Mouse        ┆ 25.0   ┆ Accessories │\n",
      "│ 3           ┆ Charlie ┆ Keyboard     ┆ 75.0   ┆ Accessories │\n",
      "└─────────────┴─────────┴──────────────┴────────┴─────────────┘\n",
      "\n",
      "Rows: 9 = 3 customers × 3 products\n"
     ]
    }
   ],
   "source": [
    "# Cross join: every customer with every product\n",
    "cross_result = customers_small.join(products, how='cross')\n",
    "\n",
    "print(\"\\nCROSS JOIN - All possible customer-product combinations:\")\n",
    "print(cross_result)\n",
    "print(f\"\\nRows: {len(cross_result)} = {len(customers_small)} customers × {len(products)} products\")"
   ]
  },
  {
   "cell_type": "markdown",
   "metadata": {},
   "source": [
    "### Cross Join - Practical Example: Product Recommendations"
   ]
  },
  {
   "cell_type": "code",
   "execution_count": 22,
   "metadata": {},
   "outputs": [
    {
     "name": "stdout",
     "output_type": "stream",
     "text": [
      "Product recommendations (products customer hasn't bought):\n",
      "shape: (12, 5)\n",
      "┌─────────────┬─────────┬──────────────┬────────┬─────────────┐\n",
      "│ customer_id ┆ name    ┆ product_name ┆ price  ┆ category    │\n",
      "│ ---         ┆ ---     ┆ ---          ┆ ---    ┆ ---         │\n",
      "│ i64         ┆ str     ┆ str          ┆ f64    ┆ str         │\n",
      "╞═════════════╪═════════╪══════════════╪════════╪═════════════╡\n",
      "│ 1           ┆ Alice   ┆ Keyboard     ┆ 75.0   ┆ Accessories │\n",
      "│ 2           ┆ Bob     ┆ Laptop       ┆ 1200.0 ┆ Electronics │\n",
      "│ 2           ┆ Bob     ┆ Mouse        ┆ 25.0   ┆ Accessories │\n",
      "│ 3           ┆ Charlie ┆ Keyboard     ┆ 75.0   ┆ Accessories │\n",
      "│ 3           ┆ Charlie ┆ Laptop       ┆ 1200.0 ┆ Electronics │\n",
      "│ …           ┆ …       ┆ …            ┆ …      ┆ …           │\n",
      "│ 4           ┆ Diana   ┆ Laptop       ┆ 1200.0 ┆ Electronics │\n",
      "│ 4           ┆ Diana   ┆ Mouse        ┆ 25.0   ┆ Accessories │\n",
      "│ 5           ┆ Eve     ┆ Keyboard     ┆ 75.0   ┆ Accessories │\n",
      "│ 5           ┆ Eve     ┆ Laptop       ┆ 1200.0 ┆ Electronics │\n",
      "│ 5           ┆ Eve     ┆ Mouse        ┆ 25.0   ┆ Accessories │\n",
      "└─────────────┴─────────┴──────────────┴────────┴─────────────┘\n"
     ]
    }
   ],
   "source": [
    "# Use cross join to create recommendation matrix\n",
    "# Then filter out products customer already bought\n",
    "\n",
    "all_combinations = customers.select(['customer_id', 'name']).join(products, how='cross')\n",
    "\n",
    "# Get products each customer already ordered\n",
    "purchased = orders.select(['customer_id', 'product']).unique()\n",
    "\n",
    "# Recommend products NOT yet purchased\n",
    "recommendations = all_combinations.join(\n",
    "    purchased,\n",
    "    left_on=['customer_id', 'product_name'],\n",
    "    right_on=['customer_id', 'product'],\n",
    "    how='anti'  # Keep only non-matches (see anti join below)\n",
    ")\n",
    "\n",
    "print(\"Product recommendations (products customer hasn't bought):\")\n",
    "print(recommendations.sort('customer_id', 'product_name'))"
   ]
  },
  {
   "cell_type": "code",
   "execution_count": null,
   "metadata": {},
   "outputs": [],
   "source": []
  },
  {
   "cell_type": "markdown",
   "metadata": {},
   "source": [
    "## 6. SEMI JOIN\n",
    "\n",
    "**Use Case**: When you want rows from LEFT table that have a match in RIGHT table, but you DON'T need columns from the right table.\n",
    "\n",
    "**Example**: Find customers who have placed orders (but we don't need order details)."
   ]
  },
  {
   "cell_type": "code",
   "execution_count": 33,
   "metadata": {},
   "outputs": [
    {
     "name": "stdout",
     "output_type": "stream",
     "text": [
      "SEMI JOIN - Customers who have placed orders:\n",
      "shape: (3, 4)\n",
      "┌─────────────┬─────────┬─────────────┬─────────────┐\n",
      "│ customer_id ┆ name    ┆ city        ┆ signup_date │\n",
      "│ ---         ┆ ---     ┆ ---         ┆ ---         │\n",
      "│ i64         ┆ str     ┆ str         ┆ str         │\n",
      "╞═════════════╪═════════╪═════════════╪═════════════╡\n",
      "│ 1           ┆ Alice   ┆ New York    ┆ 2023-01-15  │\n",
      "│ 2           ┆ Bob     ┆ Los Angeles ┆ 2023-02-20  │\n",
      "│ 3           ┆ Charlie ┆ Chicago     ┆ 2023-03-10  │\n",
      "└─────────────┴─────────┴─────────────┴─────────────┘\n",
      "\n",
      "Rows: 3\n",
      "\n",
      "Note: Only customer columns, no order details\n",
      "Note: Each customer appears once (even if they have multiple orders)\n"
     ]
    }
   ],
   "source": [
    "semi_result = customers.join(orders, on='customer_id', how='semi')\n",
    "\n",
    "print(\"SEMI JOIN - Customers who have placed orders:\")\n",
    "print(semi_result)\n",
    "print(f\"\\nRows: {len(semi_result)}\")\n",
    "print(\"\\nNote: Only customer columns, no order details\")\n",
    "print(\"Note: Each customer appears once (even if they have multiple orders)\")"
   ]
  },
  {
   "cell_type": "code",
   "execution_count": 35,
   "metadata": {},
   "outputs": [],
   "source": [
    "# customers.join(orders, on='customer_id', how='inner').select(customers.columns).unique()"
   ]
  },
  {
   "cell_type": "code",
   "execution_count": 37,
   "metadata": {},
   "outputs": [
    {
     "data": {
      "text/html": [
       "<div><style>\n",
       ".dataframe > thead > tr,\n",
       ".dataframe > tbody > tr {\n",
       "  text-align: right;\n",
       "  white-space: pre-wrap;\n",
       "}\n",
       "</style>\n",
       "<small>shape: (2, 5)</small><table border=\"1\" class=\"dataframe\"><thead><tr><th>order_id</th><th>customer_id</th><th>product</th><th>amount</th><th>order_date</th></tr><tr><td>i64</td><td>i64</td><td>str</td><td>f64</td><td>str</td></tr></thead><tbody><tr><td>105</td><td>6</td><td>&quot;Webcam&quot;</td><td>89.99</td><td>&quot;2023-06-10&quot;</td></tr><tr><td>106</td><td>7</td><td>&quot;Headset&quot;</td><td>120.0</td><td>&quot;2023-06-12&quot;</td></tr></tbody></table></div>"
      ],
      "text/plain": [
       "shape: (2, 5)\n",
       "┌──────────┬─────────────┬─────────┬────────┬────────────┐\n",
       "│ order_id ┆ customer_id ┆ product ┆ amount ┆ order_date │\n",
       "│ ---      ┆ ---         ┆ ---     ┆ ---    ┆ ---        │\n",
       "│ i64      ┆ i64         ┆ str     ┆ f64    ┆ str        │\n",
       "╞══════════╪═════════════╪═════════╪════════╪════════════╡\n",
       "│ 105      ┆ 6           ┆ Webcam  ┆ 89.99  ┆ 2023-06-10 │\n",
       "│ 106      ┆ 7           ┆ Headset ┆ 120.0  ┆ 2023-06-12 │\n",
       "└──────────┴─────────────┴─────────┴────────┴────────────┘"
      ]
     },
     "execution_count": 37,
     "metadata": {},
     "output_type": "execute_result"
    }
   ],
   "source": [
    "orders.join(customers, on=\"customer_id\", how=\"anti\")"
   ]
  },
  {
   "cell_type": "code",
   "execution_count": 38,
   "metadata": {},
   "outputs": [
    {
     "data": {
      "text/html": [
       "<div><style>\n",
       ".dataframe > thead > tr,\n",
       ".dataframe > tbody > tr {\n",
       "  text-align: right;\n",
       "  white-space: pre-wrap;\n",
       "}\n",
       "</style>\n",
       "<small>shape: (4, 5)</small><table border=\"1\" class=\"dataframe\"><thead><tr><th>order_id</th><th>customer_id</th><th>product</th><th>amount</th><th>order_date</th></tr><tr><td>i64</td><td>i64</td><td>str</td><td>f64</td><td>str</td></tr></thead><tbody><tr><td>101</td><td>1</td><td>&quot;Laptop&quot;</td><td>1200.0</td><td>&quot;2023-06-01&quot;</td></tr><tr><td>102</td><td>1</td><td>&quot;Mouse&quot;</td><td>25.0</td><td>&quot;2023-06-05&quot;</td></tr><tr><td>103</td><td>2</td><td>&quot;Keyboard&quot;</td><td>75.0</td><td>&quot;2023-06-03&quot;</td></tr><tr><td>104</td><td>3</td><td>&quot;Monitor&quot;</td><td>350.0</td><td>&quot;2023-06-07&quot;</td></tr></tbody></table></div>"
      ],
      "text/plain": [
       "shape: (4, 5)\n",
       "┌──────────┬─────────────┬──────────┬────────┬────────────┐\n",
       "│ order_id ┆ customer_id ┆ product  ┆ amount ┆ order_date │\n",
       "│ ---      ┆ ---         ┆ ---      ┆ ---    ┆ ---        │\n",
       "│ i64      ┆ i64         ┆ str      ┆ f64    ┆ str        │\n",
       "╞══════════╪═════════════╪══════════╪════════╪════════════╡\n",
       "│ 101      ┆ 1           ┆ Laptop   ┆ 1200.0 ┆ 2023-06-01 │\n",
       "│ 102      ┆ 1           ┆ Mouse    ┆ 25.0   ┆ 2023-06-05 │\n",
       "│ 103      ┆ 2           ┆ Keyboard ┆ 75.0   ┆ 2023-06-03 │\n",
       "│ 104      ┆ 3           ┆ Monitor  ┆ 350.0  ┆ 2023-06-07 │\n",
       "└──────────┴─────────────┴──────────┴────────┴────────────┘"
      ]
     },
     "execution_count": 38,
     "metadata": {},
     "output_type": "execute_result"
    }
   ],
   "source": [
    "orders.join(customers, on=\"customer_id\", how=\"semi\")"
   ]
  },
  {
   "cell_type": "code",
   "execution_count": 39,
   "metadata": {},
   "outputs": [
    {
     "data": {
      "text/html": [
       "<div><style>\n",
       ".dataframe > thead > tr,\n",
       ".dataframe > tbody > tr {\n",
       "  text-align: right;\n",
       "  white-space: pre-wrap;\n",
       "}\n",
       "</style>\n",
       "<small>shape: (6, 8)</small><table border=\"1\" class=\"dataframe\"><thead><tr><th>order_id</th><th>customer_id</th><th>product</th><th>amount</th><th>order_date</th><th>name</th><th>city</th><th>signup_date</th></tr><tr><td>i64</td><td>i64</td><td>str</td><td>f64</td><td>str</td><td>str</td><td>str</td><td>str</td></tr></thead><tbody><tr><td>101</td><td>1</td><td>&quot;Laptop&quot;</td><td>1200.0</td><td>&quot;2023-06-01&quot;</td><td>&quot;Alice&quot;</td><td>&quot;New York&quot;</td><td>&quot;2023-01-15&quot;</td></tr><tr><td>102</td><td>1</td><td>&quot;Mouse&quot;</td><td>25.0</td><td>&quot;2023-06-05&quot;</td><td>&quot;Alice&quot;</td><td>&quot;New York&quot;</td><td>&quot;2023-01-15&quot;</td></tr><tr><td>103</td><td>2</td><td>&quot;Keyboard&quot;</td><td>75.0</td><td>&quot;2023-06-03&quot;</td><td>&quot;Bob&quot;</td><td>&quot;Los Angeles&quot;</td><td>&quot;2023-02-20&quot;</td></tr><tr><td>104</td><td>3</td><td>&quot;Monitor&quot;</td><td>350.0</td><td>&quot;2023-06-07&quot;</td><td>&quot;Charlie&quot;</td><td>&quot;Chicago&quot;</td><td>&quot;2023-03-10&quot;</td></tr><tr><td>105</td><td>6</td><td>&quot;Webcam&quot;</td><td>89.99</td><td>&quot;2023-06-10&quot;</td><td>null</td><td>null</td><td>null</td></tr><tr><td>106</td><td>7</td><td>&quot;Headset&quot;</td><td>120.0</td><td>&quot;2023-06-12&quot;</td><td>null</td><td>null</td><td>null</td></tr></tbody></table></div>"
      ],
      "text/plain": [
       "shape: (6, 8)\n",
       "┌──────────┬─────────────┬──────────┬────────┬────────────┬─────────┬─────────────┬─────────────┐\n",
       "│ order_id ┆ customer_id ┆ product  ┆ amount ┆ order_date ┆ name    ┆ city        ┆ signup_date │\n",
       "│ ---      ┆ ---         ┆ ---      ┆ ---    ┆ ---        ┆ ---     ┆ ---         ┆ ---         │\n",
       "│ i64      ┆ i64         ┆ str      ┆ f64    ┆ str        ┆ str     ┆ str         ┆ str         │\n",
       "╞══════════╪═════════════╪══════════╪════════╪════════════╪═════════╪═════════════╪═════════════╡\n",
       "│ 101      ┆ 1           ┆ Laptop   ┆ 1200.0 ┆ 2023-06-01 ┆ Alice   ┆ New York    ┆ 2023-01-15  │\n",
       "│ 102      ┆ 1           ┆ Mouse    ┆ 25.0   ┆ 2023-06-05 ┆ Alice   ┆ New York    ┆ 2023-01-15  │\n",
       "│ 103      ┆ 2           ┆ Keyboard ┆ 75.0   ┆ 2023-06-03 ┆ Bob     ┆ Los Angeles ┆ 2023-02-20  │\n",
       "│ 104      ┆ 3           ┆ Monitor  ┆ 350.0  ┆ 2023-06-07 ┆ Charlie ┆ Chicago     ┆ 2023-03-10  │\n",
       "│ 105      ┆ 6           ┆ Webcam   ┆ 89.99  ┆ 2023-06-10 ┆ null    ┆ null        ┆ null        │\n",
       "│ 106      ┆ 7           ┆ Headset  ┆ 120.0  ┆ 2023-06-12 ┆ null    ┆ null        ┆ null        │\n",
       "└──────────┴─────────────┴──────────┴────────┴────────────┴─────────┴─────────────┴─────────────┘"
      ]
     },
     "execution_count": 39,
     "metadata": {},
     "output_type": "execute_result"
    }
   ],
   "source": [
    "orders.join(customers, on=\"customer_id\", how=\"left\")"
   ]
  },
  {
   "cell_type": "code",
   "execution_count": 40,
   "metadata": {},
   "outputs": [
    {
     "data": {
      "text/html": [
       "<div><style>\n",
       ".dataframe > thead > tr,\n",
       ".dataframe > tbody > tr {\n",
       "  text-align: right;\n",
       "  white-space: pre-wrap;\n",
       "}\n",
       "</style>\n",
       "<small>shape: (6, 8)</small><table border=\"1\" class=\"dataframe\"><thead><tr><th>order_id</th><th>product</th><th>amount</th><th>order_date</th><th>customer_id</th><th>name</th><th>city</th><th>signup_date</th></tr><tr><td>i64</td><td>str</td><td>f64</td><td>str</td><td>i64</td><td>str</td><td>str</td><td>str</td></tr></thead><tbody><tr><td>101</td><td>&quot;Laptop&quot;</td><td>1200.0</td><td>&quot;2023-06-01&quot;</td><td>1</td><td>&quot;Alice&quot;</td><td>&quot;New York&quot;</td><td>&quot;2023-01-15&quot;</td></tr><tr><td>102</td><td>&quot;Mouse&quot;</td><td>25.0</td><td>&quot;2023-06-05&quot;</td><td>1</td><td>&quot;Alice&quot;</td><td>&quot;New York&quot;</td><td>&quot;2023-01-15&quot;</td></tr><tr><td>103</td><td>&quot;Keyboard&quot;</td><td>75.0</td><td>&quot;2023-06-03&quot;</td><td>2</td><td>&quot;Bob&quot;</td><td>&quot;Los Angeles&quot;</td><td>&quot;2023-02-20&quot;</td></tr><tr><td>104</td><td>&quot;Monitor&quot;</td><td>350.0</td><td>&quot;2023-06-07&quot;</td><td>3</td><td>&quot;Charlie&quot;</td><td>&quot;Chicago&quot;</td><td>&quot;2023-03-10&quot;</td></tr><tr><td>null</td><td>null</td><td>null</td><td>null</td><td>4</td><td>&quot;Diana&quot;</td><td>&quot;Houston&quot;</td><td>&quot;2023-04-05&quot;</td></tr><tr><td>null</td><td>null</td><td>null</td><td>null</td><td>5</td><td>&quot;Eve&quot;</td><td>&quot;Phoenix&quot;</td><td>&quot;2023-05-12&quot;</td></tr></tbody></table></div>"
      ],
      "text/plain": [
       "shape: (6, 8)\n",
       "┌──────────┬──────────┬────────┬────────────┬─────────────┬─────────┬─────────────┬─────────────┐\n",
       "│ order_id ┆ product  ┆ amount ┆ order_date ┆ customer_id ┆ name    ┆ city        ┆ signup_date │\n",
       "│ ---      ┆ ---      ┆ ---    ┆ ---        ┆ ---         ┆ ---     ┆ ---         ┆ ---         │\n",
       "│ i64      ┆ str      ┆ f64    ┆ str        ┆ i64         ┆ str     ┆ str         ┆ str         │\n",
       "╞══════════╪══════════╪════════╪════════════╪═════════════╪═════════╪═════════════╪═════════════╡\n",
       "│ 101      ┆ Laptop   ┆ 1200.0 ┆ 2023-06-01 ┆ 1           ┆ Alice   ┆ New York    ┆ 2023-01-15  │\n",
       "│ 102      ┆ Mouse    ┆ 25.0   ┆ 2023-06-05 ┆ 1           ┆ Alice   ┆ New York    ┆ 2023-01-15  │\n",
       "│ 103      ┆ Keyboard ┆ 75.0   ┆ 2023-06-03 ┆ 2           ┆ Bob     ┆ Los Angeles ┆ 2023-02-20  │\n",
       "│ 104      ┆ Monitor  ┆ 350.0  ┆ 2023-06-07 ┆ 3           ┆ Charlie ┆ Chicago     ┆ 2023-03-10  │\n",
       "│ null     ┆ null     ┆ null   ┆ null       ┆ 4           ┆ Diana   ┆ Houston     ┆ 2023-04-05  │\n",
       "│ null     ┆ null     ┆ null   ┆ null       ┆ 5           ┆ Eve     ┆ Phoenix     ┆ 2023-05-12  │\n",
       "└──────────┴──────────┴────────┴────────────┴─────────────┴─────────┴─────────────┴─────────────┘"
      ]
     },
     "execution_count": 40,
     "metadata": {},
     "output_type": "execute_result"
    }
   ],
   "source": [
    "orders.join(customers, on=\"customer_id\", how=\"right\")"
   ]
  },
  {
   "cell_type": "code",
   "execution_count": 43,
   "metadata": {},
   "outputs": [],
   "source": [
    "# orders.join(customers, how=\"cross\")"
   ]
  },
  {
   "cell_type": "markdown",
   "metadata": {},
   "source": [
    "### Semi Join vs Inner Join"
   ]
  },
  {
   "cell_type": "code",
   "execution_count": 44,
   "metadata": {},
   "outputs": [
    {
     "name": "stdout",
     "output_type": "stream",
     "text": [
      "Comparison: Semi Join vs Inner Join\n",
      "\n",
      "Semi Join (customers who ordered):\n",
      "shape: (3, 4)\n",
      "┌─────────────┬─────────┬─────────────┬─────────────┐\n",
      "│ customer_id ┆ name    ┆ city        ┆ signup_date │\n",
      "│ ---         ┆ ---     ┆ ---         ┆ ---         │\n",
      "│ i64         ┆ str     ┆ str         ┆ str         │\n",
      "╞═════════════╪═════════╪═════════════╪═════════════╡\n",
      "│ 1           ┆ Alice   ┆ New York    ┆ 2023-01-15  │\n",
      "│ 2           ┆ Bob     ┆ Los Angeles ┆ 2023-02-20  │\n",
      "│ 3           ┆ Charlie ┆ Chicago     ┆ 2023-03-10  │\n",
      "└─────────────┴─────────┴─────────────┴─────────────┘\n",
      "Rows: 3\n",
      "\n",
      "Inner Join (customer-order pairs):\n",
      "shape: (4, 4)\n",
      "┌─────────────┬─────────┬─────────────┬─────────────┐\n",
      "│ customer_id ┆ name    ┆ city        ┆ signup_date │\n",
      "│ ---         ┆ ---     ┆ ---         ┆ ---         │\n",
      "│ i64         ┆ str     ┆ str         ┆ str         │\n",
      "╞═════════════╪═════════╪═════════════╪═════════════╡\n",
      "│ 1           ┆ Alice   ┆ New York    ┆ 2023-01-15  │\n",
      "│ 1           ┆ Alice   ┆ New York    ┆ 2023-01-15  │\n",
      "│ 2           ┆ Bob     ┆ Los Angeles ┆ 2023-02-20  │\n",
      "│ 3           ┆ Charlie ┆ Chicago     ┆ 2023-03-10  │\n",
      "└─────────────┴─────────┴─────────────┴─────────────┘\n",
      "Rows: 4\n",
      "\n",
      "Difference: Alice appears once in semi join, twice in inner join (she has 2 orders)\n"
     ]
    }
   ],
   "source": [
    "print(\"Comparison: Semi Join vs Inner Join\")\n",
    "print(\"\\nSemi Join (customers who ordered):\")\n",
    "print(semi_result)\n",
    "print(f\"Rows: {len(semi_result)}\")\n",
    "\n",
    "print(\"\\nInner Join (customer-order pairs):\")\n",
    "print(inner_result.select(customers.columns))  # Show only customer columns for comparison\n",
    "print(f\"Rows: {len(inner_result)}\")\n",
    "\n",
    "print(\"\\nDifference: Alice appears once in semi join, twice in inner join (she has 2 orders)\")"
   ]
  },
  {
   "cell_type": "markdown",
   "metadata": {},
   "source": [
    "### Semi Join - Practical Use Cases"
   ]
  },
  {
   "cell_type": "code",
   "execution_count": 45,
   "metadata": {},
   "outputs": [
    {
     "name": "stdout",
     "output_type": "stream",
     "text": [
      "Premium customers (bought items >$100):\n",
      "shape: (2, 4)\n",
      "┌─────────────┬─────────┬──────────┬─────────────┐\n",
      "│ customer_id ┆ name    ┆ city     ┆ signup_date │\n",
      "│ ---         ┆ ---     ┆ ---      ┆ ---         │\n",
      "│ i64         ┆ str     ┆ str      ┆ str         │\n",
      "╞═════════════╪═════════╪══════════╪═════════════╡\n",
      "│ 1           ┆ Alice   ┆ New York ┆ 2023-01-15  │\n",
      "│ 3           ┆ Charlie ┆ Chicago  ┆ 2023-03-10  │\n",
      "└─────────────┴─────────┴──────────┴─────────────┘\n",
      "\n",
      "Active customers (ordered after 2023-06-05):\n",
      "shape: (1, 4)\n",
      "┌─────────────┬─────────┬─────────┬─────────────┐\n",
      "│ customer_id ┆ name    ┆ city    ┆ signup_date │\n",
      "│ ---         ┆ ---     ┆ ---     ┆ ---         │\n",
      "│ i64         ┆ str     ┆ str     ┆ str         │\n",
      "╞═════════════╪═════════╪═════════╪═════════════╡\n",
      "│ 3           ┆ Charlie ┆ Chicago ┆ 2023-03-10  │\n",
      "└─────────────┴─────────┴─────────┴─────────────┘\n"
     ]
    }
   ],
   "source": [
    "# Example 1: Find customers who bought high-value items (>$100)\n",
    "high_value_orders = orders.filter(pl.col('amount') > 100)\n",
    "premium_customers = customers.join(high_value_orders, on='customer_id', how='semi')\n",
    "\n",
    "print(\"Premium customers (bought items >$100):\")\n",
    "print(premium_customers)\n",
    "\n",
    "# Example 2: Find active customers (ordered in last 7 days)\n",
    "recent_orders = orders.filter(pl.col('order_date') > '2023-06-05')\n",
    "active_customers = customers.join(recent_orders, on='customer_id', how='semi')\n",
    "\n",
    "print(\"\\nActive customers (ordered after 2023-06-05):\")\n",
    "print(active_customers)"
   ]
  },
  {
   "cell_type": "markdown",
   "metadata": {},
   "source": [
    "## 7. ANTI JOIN\n",
    "\n",
    "**Use Case**: When you want rows from LEFT table that DON'T have a match in RIGHT table.\n",
    "\n",
    "**Example**: Find customers who have NEVER placed an order."
   ]
  },
  {
   "cell_type": "code",
   "execution_count": 46,
   "metadata": {},
   "outputs": [
    {
     "name": "stdout",
     "output_type": "stream",
     "text": [
      "ANTI JOIN - Customers who have NOT placed any orders:\n",
      "shape: (2, 4)\n",
      "┌─────────────┬───────┬─────────┬─────────────┐\n",
      "│ customer_id ┆ name  ┆ city    ┆ signup_date │\n",
      "│ ---         ┆ ---   ┆ ---     ┆ ---         │\n",
      "│ i64         ┆ str   ┆ str     ┆ str         │\n",
      "╞═════════════╪═══════╪═════════╪═════════════╡\n",
      "│ 4           ┆ Diana ┆ Houston ┆ 2023-04-05  │\n",
      "│ 5           ┆ Eve   ┆ Phoenix ┆ 2023-05-12  │\n",
      "└─────────────┴───────┴─────────┴─────────────┘\n",
      "\n",
      "Rows: 2\n",
      "\n",
      "Note: Only Diana and Eve (no orders)\n",
      "Note: Only customer columns (like semi join)\n"
     ]
    }
   ],
   "source": [
    "anti_result = customers.join(orders, on='customer_id', how='anti')\n",
    "\n",
    "print(\"ANTI JOIN - Customers who have NOT placed any orders:\")\n",
    "print(anti_result)\n",
    "print(f\"\\nRows: {len(anti_result)}\")\n",
    "print(\"\\nNote: Only Diana and Eve (no orders)\")\n",
    "print(\"Note: Only customer columns (like semi join)\")"
   ]
  },
  {
   "cell_type": "markdown",
   "metadata": {},
   "source": [
    "### Anti Join - Practical Use Cases"
   ]
  },
  {
   "cell_type": "code",
   "execution_count": 47,
   "metadata": {},
   "outputs": [
    {
     "name": "stdout",
     "output_type": "stream",
     "text": [
      "Customers who haven't bought a laptop:\n",
      "shape: (4, 4)\n",
      "┌─────────────┬─────────┬─────────────┬─────────────┐\n",
      "│ customer_id ┆ name    ┆ city        ┆ signup_date │\n",
      "│ ---         ┆ ---     ┆ ---         ┆ ---         │\n",
      "│ i64         ┆ str     ┆ str         ┆ str         │\n",
      "╞═════════════╪═════════╪═════════════╪═════════════╡\n",
      "│ 2           ┆ Bob     ┆ Los Angeles ┆ 2023-02-20  │\n",
      "│ 3           ┆ Charlie ┆ Chicago     ┆ 2023-03-10  │\n",
      "│ 4           ┆ Diana   ┆ Houston     ┆ 2023-04-05  │\n",
      "│ 5           ┆ Eve     ┆ Phoenix     ┆ 2023-05-12  │\n",
      "└─────────────┴─────────┴─────────────┴─────────────┘\n",
      "\n",
      "Churned customers (ordered before but not recently):\n",
      "shape: (2, 4)\n",
      "┌─────────────┬───────┬─────────────┬─────────────┐\n",
      "│ customer_id ┆ name  ┆ city        ┆ signup_date │\n",
      "│ ---         ┆ ---   ┆ ---         ┆ ---         │\n",
      "│ i64         ┆ str   ┆ str         ┆ str         │\n",
      "╞═════════════╪═══════╪═════════════╪═════════════╡\n",
      "│ 1           ┆ Alice ┆ New York    ┆ 2023-01-15  │\n",
      "│ 2           ┆ Bob   ┆ Los Angeles ┆ 2023-02-20  │\n",
      "└─────────────┴───────┴─────────────┴─────────────┘\n"
     ]
    }
   ],
   "source": [
    "# Example 1: Find customers who haven't ordered specific products\n",
    "laptop_orders = orders.filter(pl.col('product') == 'Laptop')\n",
    "customers_without_laptop = customers.join(laptop_orders, on='customer_id', how='anti')\n",
    "\n",
    "print(\"Customers who haven't bought a laptop:\")\n",
    "print(customers_without_laptop)\n",
    "\n",
    "# Example 2: Find customers who ordered in the past but not recently\n",
    "recent_orders = orders.filter(pl.col('order_date') > '2023-06-05')\n",
    "customers_with_orders = customers.join(orders, on='customer_id', how='semi')\n",
    "churned_customers = customers_with_orders.join(recent_orders, on='customer_id', how='anti')\n",
    "\n",
    "print(\"\\nChurned customers (ordered before but not recently):\")\n",
    "print(churned_customers)"
   ]
  },
  {
   "cell_type": "markdown",
   "metadata": {},
   "source": [
    "## Advanced Join Scenarios\n",
    "\n",
    "### Multiple Join Keys"
   ]
  },
  {
   "cell_type": "code",
   "execution_count": 48,
   "metadata": {},
   "outputs": [
    {
     "name": "stdout",
     "output_type": "stream",
     "text": [
      "Sales Target vs Actual (multi-key join):\n",
      "shape: (5, 7)\n",
      "┌────────┬──────────────────┬────────┬──────────────┬────────────────────────┬────────┬──────────┐\n",
      "│ region ┆ product_category ┆ target ┆ region_right ┆ product_category_right ┆ actual ┆ variance │\n",
      "│ ---    ┆ ---              ┆ ---    ┆ ---          ┆ ---                    ┆ ---    ┆ ---      │\n",
      "│ str    ┆ str              ┆ i64    ┆ str          ┆ str                    ┆ i64    ┆ i64      │\n",
      "╞════════╪══════════════════╪════════╪══════════════╪════════════════════════╪════════╪══════════╡\n",
      "│ East   ┆ Electronics      ┆ 100000 ┆ East         ┆ Electronics            ┆ 105000 ┆ 5000     │\n",
      "│ East   ┆ Accessories      ┆ 50000  ┆ East         ┆ Accessories            ┆ 45000  ┆ -5000    │\n",
      "│ West   ┆ Electronics      ┆ 80000  ┆ West         ┆ Electronics            ┆ 75000  ┆ -5000    │\n",
      "│ null   ┆ null             ┆ null   ┆ South        ┆ Electronics            ┆ 60000  ┆ 60000    │\n",
      "│ West   ┆ Accessories      ┆ 40000  ┆ null         ┆ null                   ┆ null   ┆ -40000   │\n",
      "└────────┴──────────────────┴────────┴──────────────┴────────────────────────┴────────┴──────────┘\n"
     ]
    }
   ],
   "source": [
    "# Create sales data with region and product\n",
    "sales_target = pl.DataFrame({\n",
    "    'region': ['East', 'East', 'West', 'West'],\n",
    "    'product_category': ['Electronics', 'Accessories', 'Electronics', 'Accessories'],\n",
    "    'target': [100000, 50000, 80000, 40000]\n",
    "})\n",
    "\n",
    "sales_actual = pl.DataFrame({\n",
    "    'region': ['East', 'East', 'West', 'South'],\n",
    "    'product_category': ['Electronics', 'Accessories', 'Electronics', 'Electronics'],\n",
    "    'actual': [105000, 45000, 75000, 60000]\n",
    "})\n",
    "\n",
    "# Join on multiple columns\n",
    "sales_comparison = sales_target.join(\n",
    "    sales_actual,\n",
    "    on=['region', 'product_category'],\n",
    "    how='full'\n",
    ").with_columns([\n",
    "    (pl.col('actual').fill_null(0) - pl.col('target').fill_null(0)).alias('variance')\n",
    "])\n",
    "\n",
    "print(\"Sales Target vs Actual (multi-key join):\")\n",
    "print(sales_comparison)"
   ]
  },
  {
   "cell_type": "markdown",
   "metadata": {},
   "source": [
    "### Join with Different Column Names"
   ]
  },
  {
   "cell_type": "code",
   "execution_count": 49,
   "metadata": {},
   "outputs": [
    {
     "name": "stdout",
     "output_type": "stream",
     "text": [
      "Customers with preferences (different column names):\n",
      "shape: (5, 6)\n",
      "┌─────────────┬─────────┬─────────────┬─────────────┬────────────────────┬────────────┐\n",
      "│ customer_id ┆ name    ┆ city        ┆ signup_date ┆ preferred_category ┆ newsletter │\n",
      "│ ---         ┆ ---     ┆ ---         ┆ ---         ┆ ---                ┆ ---        │\n",
      "│ i64         ┆ str     ┆ str         ┆ str         ┆ str                ┆ bool       │\n",
      "╞═════════════╪═════════╪═════════════╪═════════════╪════════════════════╪════════════╡\n",
      "│ 1           ┆ Alice   ┆ New York    ┆ 2023-01-15  ┆ Electronics        ┆ true       │\n",
      "│ 2           ┆ Bob     ┆ Los Angeles ┆ 2023-02-20  ┆ Accessories        ┆ false      │\n",
      "│ 3           ┆ Charlie ┆ Chicago     ┆ 2023-03-10  ┆ Electronics        ┆ true       │\n",
      "│ 4           ┆ Diana   ┆ Houston     ┆ 2023-04-05  ┆ null               ┆ null       │\n",
      "│ 5           ┆ Eve     ┆ Phoenix     ┆ 2023-05-12  ┆ null               ┆ null       │\n",
      "└─────────────┴─────────┴─────────────┴─────────────┴────────────────────┴────────────┘\n"
     ]
    }
   ],
   "source": [
    "# Customer table uses 'customer_id', but another table uses 'cust_id'\n",
    "customer_preferences = pl.DataFrame({\n",
    "    'cust_id': [1, 2, 3],\n",
    "    'preferred_category': ['Electronics', 'Accessories', 'Electronics'],\n",
    "    'newsletter': [True, False, True]\n",
    "})\n",
    "\n",
    "# Join using left_on and right_on\n",
    "customer_with_prefs = customers.join(\n",
    "    customer_preferences,\n",
    "    left_on='customer_id',\n",
    "    right_on='cust_id',\n",
    "    how='left'\n",
    ")\n",
    "\n",
    "print(\"Customers with preferences (different column names):\")\n",
    "print(customer_with_prefs)"
   ]
  },
  {
   "cell_type": "markdown",
   "metadata": {},
   "source": [
    "### Handling Duplicate Column Names"
   ]
  },
  {
   "cell_type": "code",
   "execution_count": 50,
   "metadata": {},
   "outputs": [
    {
     "name": "stdout",
     "output_type": "stream",
     "text": [
      "Join with duplicate column names:\n",
      "shape: (3, 5)\n",
      "┌─────────────┬───────┬────────┬──────────┬──────────────┐\n",
      "│ customer_id ┆ name  ┆ status ┆ order_id ┆ status_order │\n",
      "│ ---         ┆ ---   ┆ ---    ┆ ---      ┆ ---          │\n",
      "│ i64         ┆ str   ┆ str    ┆ i64      ┆ str          │\n",
      "╞═════════════╪═══════╪════════╪══════════╪══════════════╡\n",
      "│ 1           ┆ Alice ┆ Gold   ┆ 101      ┆ Shipped      │\n",
      "│ 1           ┆ Alice ┆ Gold   ┆ 102      ┆ Delivered    │\n",
      "│ 2           ┆ Bob   ┆ Silver ┆ 103      ┆ Processing   │\n",
      "└─────────────┴───────┴────────┴──────────┴──────────────┘\n",
      "\n",
      "Note: 'status' from customer table, 'status_order' from order table\n"
     ]
    }
   ],
   "source": [
    "# When both tables have same column names (other than join key)\n",
    "customer_info = pl.DataFrame({\n",
    "    'customer_id': [1, 2, 3],\n",
    "    'name': ['Alice', 'Bob', 'Charlie'],\n",
    "    'status': ['Gold', 'Silver', 'Bronze']\n",
    "})\n",
    "\n",
    "order_info = pl.DataFrame({\n",
    "    'customer_id': [1, 1, 2],\n",
    "    'order_id': [101, 102, 103],\n",
    "    'status': ['Shipped', 'Delivered', 'Processing']  # Same column name!\n",
    "})\n",
    "\n",
    "# Polars adds suffix automatically\n",
    "joined = customer_info.join(order_info, on='customer_id', suffix='_order')\n",
    "\n",
    "print(\"Join with duplicate column names:\")\n",
    "print(joined)\n",
    "print(\"\\nNote: 'status' from customer table, 'status_order' from order table\")"
   ]
  },
  {
   "cell_type": "markdown",
   "metadata": {},
   "source": [
    "## Join Performance Tips"
   ]
  },
  {
   "cell_type": "code",
   "execution_count": 52,
   "metadata": {},
   "outputs": [
    {
     "name": "stdout",
     "output_type": "stream",
     "text": [
      "Left join + filter: 0.0042 seconds\n",
      "Semi join: 0.0014 seconds\n",
      "Semi join is 2.88x faster\n"
     ]
    }
   ],
   "source": [
    "# Create larger datasets for performance testing\n",
    "import time\n",
    "\n",
    "large_customers = pl.DataFrame({\n",
    "    'customer_id': range(100000),\n",
    "    'name': [f'Customer_{i}' for i in range(100000)],\n",
    "    'value': np.random.randn(100000)\n",
    "})\n",
    "\n",
    "large_orders = pl.DataFrame({\n",
    "    'order_id': range(50000),\n",
    "    'customer_id': np.random.randint(0, 100000, 50000),\n",
    "    'amount': np.random.uniform(10, 1000, 50000)\n",
    "})\n",
    "\n",
    "# Tip 1: Use semi/anti join instead of left join + filter when possible\n",
    "start = time.time()\n",
    "result1 = large_customers.join(large_orders, on='customer_id', how='left').filter(\n",
    "    pl.col('order_id').is_not_null()\n",
    ")\n",
    "time1 = time.time() - start\n",
    "\n",
    "start = time.time()\n",
    "result2 = large_customers.join(large_orders, on='customer_id', how='semi')\n",
    "time2 = time.time() - start\n",
    "\n",
    "print(f\"Left join + filter: {time1:.4f} seconds\")\n",
    "print(f\"Semi join: {time2:.4f} seconds\")\n",
    "print(f\"Semi join is {time1/time2:.2f}x faster\")"
   ]
  },
  {
   "cell_type": "markdown",
   "metadata": {},
   "source": [
    "## Summary: When to Use Each Join Type\n",
    "\n",
    "| Join Type | Use When | Keeps Columns From | Duplicate Rows |\n",
    "|-----------|----------|-------------------|----------------|\n",
    "| **INNER** | Only want matching rows from both sides | Both tables | Yes (if multiple matches) |\n",
    "| **LEFT** | Want all from left, with optional matches from right | Both tables | Yes (if multiple matches) |\n",
    "| **RIGHT** | Want all from right, with optional matches from left | Both tables | Yes (if multiple matches) |\n",
    "| **FULL** | Want all rows from both sides | Both tables | Yes (if multiple matches) |\n",
    "| **CROSS** | Need all possible combinations | Both tables | By design |\n",
    "| **SEMI** | Filter left table by existence in right table | Left only | No (deduplicates left) |\n",
    "| **ANTI** | Filter left table by NON-existence in right table | Left only | No (deduplicates left) |\n",
    "\n",
    "### Quick Decision Guide:\n",
    "- Need data from both tables? → **INNER/LEFT/RIGHT/FULL**\n",
    "- Just filtering one table by another? → **SEMI/ANTI**\n",
    "- Need all combinations? → **CROSS**"
   ]
  },
  {
   "cell_type": "markdown",
   "metadata": {},
   "source": [
    "## Practice Exercises"
   ]
  },
  {
   "cell_type": "code",
   "execution_count": 53,
   "metadata": {},
   "outputs": [
    {
     "name": "stdout",
     "output_type": "stream",
     "text": [
      "EMPLOYEES:\n",
      "shape: (5, 3)\n",
      "┌────────┬───────┬────────────┐\n",
      "│ emp_id ┆ name  ┆ department │\n",
      "│ ---    ┆ ---   ┆ ---        │\n",
      "│ i64    ┆ str   ┆ str        │\n",
      "╞════════╪═══════╪════════════╡\n",
      "│ 1      ┆ John  ┆ IT         │\n",
      "│ 2      ┆ Sarah ┆ HR         │\n",
      "│ 3      ┆ Mike  ┆ IT         │\n",
      "│ 4      ┆ Emma  ┆ Finance    │\n",
      "│ 5      ┆ David ┆ Marketing  │\n",
      "└────────┴───────┴────────────┘\n",
      "\n",
      "PROJECTS:\n",
      "shape: (4, 4)\n",
      "┌────────────┬────────┬──────────────┬───────┐\n",
      "│ project_id ┆ emp_id ┆ project_name ┆ hours │\n",
      "│ ---        ┆ ---    ┆ ---          ┆ ---   │\n",
      "│ i64        ┆ i64    ┆ str          ┆ i64   │\n",
      "╞════════════╪════════╪══════════════╪═══════╡\n",
      "│ 101        ┆ 1      ┆ Website      ┆ 120   │\n",
      "│ 102        ┆ 1      ┆ App          ┆ 80    │\n",
      "│ 103        ┆ 2      ┆ Recruitment  ┆ 40    │\n",
      "│ 104        ┆ 6      ┆ Mystery      ┆ 60    │\n",
      "└────────────┴────────┴──────────────┴───────┘\n"
     ]
    }
   ],
   "source": [
    "# Setup for exercises\n",
    "employees = pl.DataFrame({\n",
    "    'emp_id': [1, 2, 3, 4, 5],\n",
    "    'name': ['John', 'Sarah', 'Mike', 'Emma', 'David'],\n",
    "    'department': ['IT', 'HR', 'IT', 'Finance', 'Marketing']\n",
    "})\n",
    "\n",
    "projects = pl.DataFrame({\n",
    "    'project_id': [101, 102, 103, 104],\n",
    "    'emp_id': [1, 1, 2, 6],  # Note: emp_id 6 doesn't exist\n",
    "    'project_name': ['Website', 'App', 'Recruitment', 'Mystery'],\n",
    "    'hours': [120, 80, 40, 60]\n",
    "})\n",
    "\n",
    "print(\"EMPLOYEES:\")\n",
    "print(employees)\n",
    "print(\"\\nPROJECTS:\")\n",
    "print(projects)"
   ]
  },
  {
   "cell_type": "code",
   "execution_count": 61,
   "metadata": {},
   "outputs": [
    {
     "data": {
      "text/html": [
       "<div><style>\n",
       ".dataframe > thead > tr,\n",
       ".dataframe > tbody > tr {\n",
       "  text-align: right;\n",
       "  white-space: pre-wrap;\n",
       "}\n",
       "</style>\n",
       "<small>shape: (2, 3)</small><table border=\"1\" class=\"dataframe\"><thead><tr><th>emp_id</th><th>name</th><th>department</th></tr><tr><td>i64</td><td>str</td><td>str</td></tr></thead><tbody><tr><td>1</td><td>&quot;John&quot;</td><td>&quot;IT&quot;</td></tr><tr><td>2</td><td>&quot;Sarah&quot;</td><td>&quot;HR&quot;</td></tr></tbody></table></div>"
      ],
      "text/plain": [
       "shape: (2, 3)\n",
       "┌────────┬───────┬────────────┐\n",
       "│ emp_id ┆ name  ┆ department │\n",
       "│ ---    ┆ ---   ┆ ---        │\n",
       "│ i64    ┆ str   ┆ str        │\n",
       "╞════════╪═══════╪════════════╡\n",
       "│ 1      ┆ John  ┆ IT         │\n",
       "│ 2      ┆ Sarah ┆ HR         │\n",
       "└────────┴───────┴────────────┘"
      ]
     },
     "execution_count": 61,
     "metadata": {},
     "output_type": "execute_result"
    }
   ],
   "source": [
    "# Exercise 1: Find employees who are working on projects\n",
    "# Your code here:\n",
    "# employees.join(projects, on=\"emp_id\", how=\"left\")\n",
    "employees.join(projects, on=\"emp_id\", how=\"semi\")"
   ]
  },
  {
   "cell_type": "code",
   "execution_count": 62,
   "metadata": {},
   "outputs": [
    {
     "data": {
      "text/html": [
       "<div><style>\n",
       ".dataframe > thead > tr,\n",
       ".dataframe > tbody > tr {\n",
       "  text-align: right;\n",
       "  white-space: pre-wrap;\n",
       "}\n",
       "</style>\n",
       "<small>shape: (3, 3)</small><table border=\"1\" class=\"dataframe\"><thead><tr><th>emp_id</th><th>name</th><th>department</th></tr><tr><td>i64</td><td>str</td><td>str</td></tr></thead><tbody><tr><td>3</td><td>&quot;Mike&quot;</td><td>&quot;IT&quot;</td></tr><tr><td>4</td><td>&quot;Emma&quot;</td><td>&quot;Finance&quot;</td></tr><tr><td>5</td><td>&quot;David&quot;</td><td>&quot;Marketing&quot;</td></tr></tbody></table></div>"
      ],
      "text/plain": [
       "shape: (3, 3)\n",
       "┌────────┬───────┬────────────┐\n",
       "│ emp_id ┆ name  ┆ department │\n",
       "│ ---    ┆ ---   ┆ ---        │\n",
       "│ i64    ┆ str   ┆ str        │\n",
       "╞════════╪═══════╪════════════╡\n",
       "│ 3      ┆ Mike  ┆ IT         │\n",
       "│ 4      ┆ Emma  ┆ Finance    │\n",
       "│ 5      ┆ David ┆ Marketing  │\n",
       "└────────┴───────┴────────────┘"
      ]
     },
     "execution_count": 62,
     "metadata": {},
     "output_type": "execute_result"
    }
   ],
   "source": [
    "# Exercise 2: Find employees who are NOT working on any projects\n",
    "# Your code here:\n",
    "employees.join(projects, on=\"emp_id\", how=\"anti\")"
   ]
  },
  {
   "cell_type": "code",
   "execution_count": 63,
   "metadata": {},
   "outputs": [
    {
     "data": {
      "text/html": [
       "<div><style>\n",
       ".dataframe > thead > tr,\n",
       ".dataframe > tbody > tr {\n",
       "  text-align: right;\n",
       "  white-space: pre-wrap;\n",
       "}\n",
       "</style>\n",
       "<small>shape: (1, 4)</small><table border=\"1\" class=\"dataframe\"><thead><tr><th>project_id</th><th>emp_id</th><th>project_name</th><th>hours</th></tr><tr><td>i64</td><td>i64</td><td>str</td><td>i64</td></tr></thead><tbody><tr><td>104</td><td>6</td><td>&quot;Mystery&quot;</td><td>60</td></tr></tbody></table></div>"
      ],
      "text/plain": [
       "shape: (1, 4)\n",
       "┌────────────┬────────┬──────────────┬───────┐\n",
       "│ project_id ┆ emp_id ┆ project_name ┆ hours │\n",
       "│ ---        ┆ ---    ┆ ---          ┆ ---   │\n",
       "│ i64        ┆ i64    ┆ str          ┆ i64   │\n",
       "╞════════════╪════════╪══════════════╪═══════╡\n",
       "│ 104        ┆ 6      ┆ Mystery      ┆ 60    │\n",
       "└────────────┴────────┴──────────────┴───────┘"
      ]
     },
     "execution_count": 63,
     "metadata": {},
     "output_type": "execute_result"
    }
   ],
   "source": [
    "# Exercise 3: Find projects with invalid employee assignments\n",
    "# Your code here:\n",
    "projects.join(employees, on=\"emp_id\", how=\"anti\")"
   ]
  },
  {
   "cell_type": "code",
   "execution_count": 58,
   "metadata": {},
   "outputs": [
    {
     "data": {
      "text/html": [
       "<div><style>\n",
       ".dataframe > thead > tr,\n",
       ".dataframe > tbody > tr {\n",
       "  text-align: right;\n",
       "  white-space: pre-wrap;\n",
       "}\n",
       "</style>\n",
       "<small>shape: (7, 7)</small><table border=\"1\" class=\"dataframe\"><thead><tr><th>emp_id</th><th>name</th><th>department</th><th>project_id</th><th>emp_id_right</th><th>project_name</th><th>hours</th></tr><tr><td>i64</td><td>str</td><td>str</td><td>i64</td><td>i64</td><td>str</td><td>i64</td></tr></thead><tbody><tr><td>1</td><td>&quot;John&quot;</td><td>&quot;IT&quot;</td><td>101</td><td>1</td><td>&quot;Website&quot;</td><td>120</td></tr><tr><td>1</td><td>&quot;John&quot;</td><td>&quot;IT&quot;</td><td>102</td><td>1</td><td>&quot;App&quot;</td><td>80</td></tr><tr><td>2</td><td>&quot;Sarah&quot;</td><td>&quot;HR&quot;</td><td>103</td><td>2</td><td>&quot;Recruitment&quot;</td><td>40</td></tr><tr><td>3</td><td>&quot;Mike&quot;</td><td>&quot;IT&quot;</td><td>null</td><td>null</td><td>null</td><td>null</td></tr><tr><td>4</td><td>&quot;Emma&quot;</td><td>&quot;Finance&quot;</td><td>null</td><td>null</td><td>null</td><td>null</td></tr><tr><td>5</td><td>&quot;David&quot;</td><td>&quot;Marketing&quot;</td><td>null</td><td>null</td><td>null</td><td>null</td></tr><tr><td>null</td><td>null</td><td>null</td><td>104</td><td>6</td><td>&quot;Mystery&quot;</td><td>60</td></tr></tbody></table></div>"
      ],
      "text/plain": [
       "shape: (7, 7)\n",
       "┌────────┬───────┬────────────┬────────────┬──────────────┬──────────────┬───────┐\n",
       "│ emp_id ┆ name  ┆ department ┆ project_id ┆ emp_id_right ┆ project_name ┆ hours │\n",
       "│ ---    ┆ ---   ┆ ---        ┆ ---        ┆ ---          ┆ ---          ┆ ---   │\n",
       "│ i64    ┆ str   ┆ str        ┆ i64        ┆ i64          ┆ str          ┆ i64   │\n",
       "╞════════╪═══════╪════════════╪════════════╪══════════════╪══════════════╪═══════╡\n",
       "│ 1      ┆ John  ┆ IT         ┆ 101        ┆ 1            ┆ Website      ┆ 120   │\n",
       "│ 1      ┆ John  ┆ IT         ┆ 102        ┆ 1            ┆ App          ┆ 80    │\n",
       "│ 2      ┆ Sarah ┆ HR         ┆ 103        ┆ 2            ┆ Recruitment  ┆ 40    │\n",
       "│ 3      ┆ Mike  ┆ IT         ┆ null       ┆ null         ┆ null         ┆ null  │\n",
       "│ 4      ┆ Emma  ┆ Finance    ┆ null       ┆ null         ┆ null         ┆ null  │\n",
       "│ 5      ┆ David ┆ Marketing  ┆ null       ┆ null         ┆ null         ┆ null  │\n",
       "│ null   ┆ null  ┆ null       ┆ 104        ┆ 6            ┆ Mystery      ┆ 60    │\n",
       "└────────┴───────┴────────────┴────────────┴──────────────┴──────────────┴───────┘"
      ]
     },
     "execution_count": 58,
     "metadata": {},
     "output_type": "execute_result"
    }
   ],
   "source": [
    "# Exercise 4: Show all employees and all projects in one view\n",
    "# Your code here:\n",
    "employees.join(projects, on=\"emp_id\", how=\"full\")"
   ]
  }
 ],
 "metadata": {
  "kernelspec": {
   "display_name": "Python 3 (ipykernel)",
   "language": "python",
   "name": "python3"
  },
  "language_info": {
   "codemirror_mode": {
    "name": "ipython",
    "version": 3
   },
   "file_extension": ".py",
   "mimetype": "text/x-python",
   "name": "python",
   "nbconvert_exporter": "python",
   "pygments_lexer": "ipython3",
   "version": "3.12.3"
  }
 },
 "nbformat": 4,
 "nbformat_minor": 4
}
