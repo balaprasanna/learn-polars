{
 "cells": [
  {
   "cell_type": "markdown",
   "metadata": {},
   "source": [
    "# Polars Joins - Comprehensive Guide\n",
    "\n",
    "This notebook covers all 7 types of joins in Polars with practical examples.\n",
    "\n",
    "## Join Types:\n",
    "- **inner**: Returns rows that have matching values in both tables\n",
    "- **left**: Returns all rows from left table + matched rows from right\n",
    "- **right**: Returns all rows from right table + matched rows from left\n",
    "- **full/outer**: Returns all rows when there is a match in either table\n",
    "- **cross**: Returns the Cartesian product of rows from both tables\n",
    "- **semi**: Returns rows from left that have a match in right (no right columns)\n",
    "- **anti**: Returns rows from left that have NO match in right"
   ]
  },
  {
   "cell_type": "code",
   "execution_count": null,
   "metadata": {},
   "outputs": [],
   "source": [
    "import polars as pl\n",
    "import numpy as np\n",
    "from datetime import datetime, timedelta"
   ]
  },
  {
   "cell_type": "markdown",
   "metadata": {},
   "source": [
    "## Setup: Create Sample DataFrames\n",
    "\n",
    "We'll use a realistic e-commerce scenario with customers and orders."
   ]
  },
  {
   "cell_type": "code",
   "execution_count": null,
   "metadata": {},
   "outputs": [],
   "source": [
    "# Customers DataFrame\n",
    "customers = pl.DataFrame({\n",
    "    'customer_id': [1, 2, 3, 4, 5],\n",
    "    'name': ['Alice', 'Bob', 'Charlie', 'Diana', 'Eve'],\n",
    "    'city': ['New York', 'Los Angeles', 'Chicago', 'Houston', 'Phoenix'],\n",
    "    'signup_date': ['2023-01-15', '2023-02-20', '2023-03-10', '2023-04-05', '2023-05-12']\n",
    "})\n",
    "\n",
    "# Orders DataFrame (not all customers have orders, and some orders from customers not in our list)\n",
    "orders = pl.DataFrame({\n",
    "    'order_id': [101, 102, 103, 104, 105, 106],\n",
    "    'customer_id': [1, 1, 2, 3, 6, 7],  # Note: customer_id 6 and 7 don't exist in customers\n",
    "    'product': ['Laptop', 'Mouse', 'Keyboard', 'Monitor', 'Webcam', 'Headset'],\n",
    "    'amount': [1200.00, 25.00, 75.00, 350.00, 89.99, 120.00],\n",
    "    'order_date': ['2023-06-01', '2023-06-05', '2023-06-03', '2023-06-07', '2023-06-10', '2023-06-12']\n",
    "})\n",
    "\n",
    "print(\"CUSTOMERS:\")\n",
    "print(customers)\n",
    "print(\"\\nORDERS:\")\n",
    "print(orders)"
   ]
  },
  {
   "cell_type": "markdown",
   "metadata": {},
   "source": [
    "## 1. INNER JOIN\n",
    "\n",
    "**Use Case**: When you only want rows where there's a match in BOTH tables.\n",
    "\n",
    "**Example**: Find all customers who have placed orders (ignore customers without orders and orders without matching customers)"
   ]
  },
  {
   "cell_type": "code",
   "execution_count": null,
   "metadata": {},
   "outputs": [],
   "source": [
    "inner_result = customers.join(orders, on='customer_id', how='inner')\n",
    "\n",
    "print(\"INNER JOIN - Only customers with orders:\")\n",
    "print(inner_result)\n",
    "print(f\"\\nRows: {len(inner_result)}\")\n",
    "print(\"\\nNote: Diana (4) and Eve (5) are excluded (no orders)\")\n",
    "print(\"Note: Orders from customer_id 6 and 7 are excluded (customers don't exist)\")"
   ]
  },
  {
   "cell_type": "markdown",
   "metadata": {},
   "source": [
    "## 2. LEFT JOIN\n",
    "\n",
    "**Use Case**: When you want ALL rows from the left table, regardless of matches.\n",
    "\n",
    "**Example**: List all customers and their orders (if any). Customers without orders will have null values in order columns."
   ]
  },
  {
   "cell_type": "code",
   "execution_count": null,
   "metadata": {},
   "outputs": [],
   "source": [
    "left_result = customers.join(orders, on='customer_id', how='left')\n",
    "\n",
    "print(\"LEFT JOIN - All customers, with their orders if any:\")\n",
    "print(left_result)\n",
    "print(f\"\\nRows: {len(left_result)}\")\n",
    "print(\"\\nNote: Diana and Eve appear with null order values\")\n",
    "print(\"Note: Orders from customer_id 6 and 7 are still excluded\")"
   ]
  },
  {
   "cell_type": "markdown",
   "metadata": {},
   "source": [
    "### Left Join - Finding Customers Without Orders"
   ]
  },
  {
   "cell_type": "code",
   "execution_count": null,
   "metadata": {},
   "outputs": [],
   "source": [
    "# Practical use: Find customers who haven't ordered yet (for marketing campaign)\n",
    "customers_no_orders = left_result.filter(pl.col('order_id').is_null())\n",
    "\n",
    "print(\"Customers without orders (target for marketing):\")\n",
    "print(customers_no_orders.select(['customer_id', 'name', 'city']))"
   ]
  },
  {
   "cell_type": "markdown",
   "metadata": {},
   "source": [
    "## 3. RIGHT JOIN\n",
    "\n",
    "**Use Case**: When you want ALL rows from the right table, regardless of matches.\n",
    "\n",
    "**Example**: List all orders with customer information (if available). Orders without matching customers will have null customer values."
   ]
  },
  {
   "cell_type": "code",
   "execution_count": null,
   "metadata": {},
   "outputs": [],
   "source": [
    "right_result = customers.join(orders, on='customer_id', how='right')\n",
    "\n",
    "print(\"RIGHT JOIN - All orders, with customer info if available:\")\n",
    "print(right_result)\n",
    "print(f\"\\nRows: {len(right_result)}\")\n",
    "print(\"\\nNote: Orders from customer_id 6 and 7 appear with null customer info\")\n",
    "print(\"Note: Diana and Eve don't appear (they have no orders)\")"
   ]
  },
  {
   "cell_type": "markdown",
   "metadata": {},
   "source": [
    "### Right Join - Finding Orphaned Orders"
   ]
  },
  {
   "cell_type": "code",
   "execution_count": null,
   "metadata": {},
   "outputs": [],
   "source": [
    "# Practical use: Find orders with invalid customer_ids (data quality issue)\n",
    "orphaned_orders = right_result.filter(pl.col('name').is_null())\n",
    "\n",
    "print(\"Orders with invalid customer_ids (data issue):\")\n",
    "print(orphaned_orders.select(['order_id', 'customer_id', 'product', 'amount']))"
   ]
  },
  {
   "cell_type": "markdown",
   "metadata": {},
   "source": [
    "## 4. FULL/OUTER JOIN\n",
    "\n",
    "**Use Case**: When you want ALL rows from BOTH tables, with nulls where there's no match.\n",
    "\n",
    "**Example**: Complete view of customers and orders - see everyone and everything."
   ]
  },
  {
   "cell_type": "code",
   "execution_count": null,
   "metadata": {},
   "outputs": [],
   "source": [
    "full_result = customers.join(orders, on='customer_id', how='full')\n",
    "\n",
    "print(\"FULL/OUTER JOIN - All customers and all orders:\")\n",
    "print(full_result)\n",
    "print(f\"\\nRows: {len(full_result)}\")\n",
    "print(\"\\nNote: Includes customers without orders (Diana, Eve)\")\n",
    "print(\"Note: Includes orders without valid customers (customer_id 6, 7)\")"
   ]
  },
  {
   "cell_type": "markdown",
   "metadata": {},
   "source": [
    "### Full Join - Analysis"
   ]
  },
  {
   "cell_type": "code",
   "execution_count": null,
   "metadata": {},
   "outputs": [],
   "source": [
    "# Analyze the full join results\n",
    "print(\"Summary of Full Join:\")\n",
    "print(f\"Total rows: {len(full_result)}\")\n",
    "print(f\"Customers without orders: {full_result.filter(pl.col('order_id').is_null()).height}\")\n",
    "print(f\"Orders without valid customers: {full_result.filter(pl.col('name').is_null()).height}\")\n",
    "print(f\"Valid customer-order pairs: {full_result.filter(pl.col('name').is_not_null() & pl.col('order_id').is_not_null()).height}\")"
   ]
  },
  {
   "cell_type": "markdown",
   "metadata": {},
   "source": [
    "## 5. CROSS JOIN (Cartesian Product)\n",
    "\n",
    "**Use Case**: When you need every possible combination of rows from both tables.\n",
    "\n",
    "**Example**: Generate all possible customer-product combinations (for recommendation system)."
   ]
  },
  {
   "cell_type": "code",
   "execution_count": null,
   "metadata": {},
   "outputs": [],
   "source": [
    "# Create a products catalog\n",
    "products = pl.DataFrame({\n",
    "    'product_name': ['Laptop', 'Mouse', 'Keyboard'],\n",
    "    'price': [1200.00, 25.00, 75.00],\n",
    "    'category': ['Electronics', 'Accessories', 'Accessories']\n",
    "})\n",
    "\n",
    "# Create smaller customer list for cross join demo\n",
    "customers_small = customers.head(3).select(['customer_id', 'name'])\n",
    "\n",
    "print(\"Customers:\")\n",
    "print(customers_small)\n",
    "print(\"\\nProducts:\")\n",
    "print(products)"
   ]
  },
  {
   "cell_type": "code",
   "execution_count": null,
   "metadata": {},
   "outputs": [],
   "source": [
    "# Cross join: every customer with every product\n",
    "cross_result = customers_small.join(products, how='cross')\n",
    "\n",
    "print(\"\\nCROSS JOIN - All possible customer-product combinations:\")\n",
    "print(cross_result)\n",
    "print(f\"\\nRows: {len(cross_result)} = {len(customers_small)} customers × {len(products)} products\")"
   ]
  },
  {
   "cell_type": "markdown",
   "metadata": {},
   "source": [
    "### Cross Join - Practical Example: Product Recommendations"
   ]
  },
  {
   "cell_type": "code",
   "execution_count": null,
   "metadata": {},
   "outputs": [],
   "source": [
    "# Use cross join to create recommendation matrix\n",
    "# Then filter out products customer already bought\n",
    "\n",
    "all_combinations = customers.select(['customer_id', 'name']).join(products, how='cross')\n",
    "\n",
    "# Get products each customer already ordered\n",
    "purchased = orders.select(['customer_id', 'product']).unique()\n",
    "\n",
    "# Recommend products NOT yet purchased\n",
    "recommendations = all_combinations.join(\n",
    "    purchased,\n",
    "    left_on=['customer_id', 'product_name'],\n",
    "    right_on=['customer_id', 'product'],\n",
    "    how='anti'  # Keep only non-matches (see anti join below)\n",
    ")\n",
    "\n",
    "print(\"Product recommendations (products customer hasn't bought):\")\n",
    "print(recommendations.sort('customer_id', 'product_name'))"
   ]
  },
  {
   "cell_type": "markdown",
   "metadata": {},
   "source": [
    "## 6. SEMI JOIN\n",
    "\n",
    "**Use Case**: When you want rows from LEFT table that have a match in RIGHT table, but you DON'T need columns from the right table.\n",
    "\n",
    "**Example**: Find customers who have placed orders (but we don't need order details)."
   ]
  },
  {
   "cell_type": "code",
   "execution_count": null,
   "metadata": {},
   "outputs": [],
   "source": [
    "semi_result = customers.join(orders, on='customer_id', how='semi')\n",
    "\n",
    "print(\"SEMI JOIN - Customers who have placed orders:\")\n",
    "print(semi_result)\n",
    "print(f\"\\nRows: {len(semi_result)}\")\n",
    "print(\"\\nNote: Only customer columns, no order details\")\n",
    "print(\"Note: Each customer appears once (even if they have multiple orders)\")"
   ]
  },
  {
   "cell_type": "markdown",
   "metadata": {},
   "source": [
    "### Semi Join vs Inner Join"
   ]
  },
  {
   "cell_type": "code",
   "execution_count": null,
   "metadata": {},
   "outputs": [],
   "source": [
    "print(\"Comparison: Semi Join vs Inner Join\")\n",
    "print(\"\\nSemi Join (customers who ordered):\")\n",
    "print(semi_result)\n",
    "print(f\"Rows: {len(semi_result)}\")\n",
    "\n",
    "print(\"\\nInner Join (customer-order pairs):\")\n",
    "print(inner_result.select(customers.columns))  # Show only customer columns for comparison\n",
    "print(f\"Rows: {len(inner_result)}\")\n",
    "\n",
    "print(\"\\nDifference: Alice appears once in semi join, twice in inner join (she has 2 orders)\")"
   ]
  },
  {
   "cell_type": "markdown",
   "metadata": {},
   "source": [
    "### Semi Join - Practical Use Cases"
   ]
  },
  {
   "cell_type": "code",
   "execution_count": null,
   "metadata": {},
   "outputs": [],
   "source": [
    "# Example 1: Find customers who bought high-value items (>$100)\n",
    "high_value_orders = orders.filter(pl.col('amount') > 100)\n",
    "premium_customers = customers.join(high_value_orders, on='customer_id', how='semi')\n",
    "\n",
    "print(\"Premium customers (bought items >$100):\")\n",
    "print(premium_customers)\n",
    "\n",
    "# Example 2: Find active customers (ordered in last 7 days)\n",
    "recent_orders = orders.filter(pl.col('order_date') > '2023-06-05')\n",
    "active_customers = customers.join(recent_orders, on='customer_id', how='semi')\n",
    "\n",
    "print(\"\\nActive customers (ordered after 2023-06-05):\")\n",
    "print(active_customers)"
   ]
  },
  {
   "cell_type": "markdown",
   "metadata": {},
   "source": [
    "## 7. ANTI JOIN\n",
    "\n",
    "**Use Case**: When you want rows from LEFT table that DON'T have a match in RIGHT table.\n",
    "\n",
    "**Example**: Find customers who have NEVER placed an order."
   ]
  },
  {
   "cell_type": "code",
   "execution_count": null,
   "metadata": {},
   "outputs": [],
   "source": [
    "anti_result = customers.join(orders, on='customer_id', how='anti')\n",
    "\n",
    "print(\"ANTI JOIN - Customers who have NOT placed any orders:\")\n",
    "print(anti_result)\n",
    "print(f\"\\nRows: {len(anti_result)}\")\n",
    "print(\"\\nNote: Only Diana and Eve (no orders)\")\n",
    "print(\"Note: Only customer columns (like semi join)\")"
   ]
  },
  {
   "cell_type": "markdown",
   "metadata": {},
   "source": [
    "### Anti Join - Practical Use Cases"
   ]
  },
  {
   "cell_type": "code",
   "execution_count": null,
   "metadata": {},
   "outputs": [],
   "source": [
    "# Example 1: Find customers who haven't ordered specific products\n",
    "laptop_orders = orders.filter(pl.col('product') == 'Laptop')\n",
    "customers_without_laptop = customers.join(laptop_orders, on='customer_id', how='anti')\n",
    "\n",
    "print(\"Customers who haven't bought a laptop:\")\n",
    "print(customers_without_laptop)\n",
    "\n",
    "# Example 2: Find customers who ordered in the past but not recently\n",
    "recent_orders = orders.filter(pl.col('order_date') > '2023-06-05')\n",
    "customers_with_orders = customers.join(orders, on='customer_id', how='semi')\n",
    "churned_customers = customers_with_orders.join(recent_orders, on='customer_id', how='anti')\n",
    "\n",
    "print(\"\\nChurned customers (ordered before but not recently):\")\n",
    "print(churned_customers)"
   ]
  },
  {
   "cell_type": "markdown",
   "metadata": {},
   "source": [
    "## Advanced Join Scenarios\n",
    "\n",
    "### Multiple Join Keys"
   ]
  },
  {
   "cell_type": "code",
   "execution_count": null,
   "metadata": {},
   "outputs": [],
   "source": [
    "# Create sales data with region and product\n",
    "sales_target = pl.DataFrame({\n",
    "    'region': ['East', 'East', 'West', 'West'],\n",
    "    'product_category': ['Electronics', 'Accessories', 'Electronics', 'Accessories'],\n",
    "    'target': [100000, 50000, 80000, 40000]\n",
    "})\n",
    "\n",
    "sales_actual = pl.DataFrame({\n",
    "    'region': ['East', 'East', 'West', 'South'],\n",
    "    'product_category': ['Electronics', 'Accessories', 'Electronics', 'Electronics'],\n",
    "    'actual': [105000, 45000, 75000, 60000]\n",
    "})\n",
    "\n",
    "# Join on multiple columns\n",
    "sales_comparison = sales_target.join(\n",
    "    sales_actual,\n",
    "    on=['region', 'product_category'],\n",
    "    how='full'\n",
    ").with_columns([\n",
    "    (pl.col('actual').fill_null(0) - pl.col('target').fill_null(0)).alias('variance')\n",
    "])\n",
    "\n",
    "print(\"Sales Target vs Actual (multi-key join):\")\n",
    "print(sales_comparison)"
   ]
  },
  {
   "cell_type": "markdown",
   "metadata": {},
   "source": [
    "### Join with Different Column Names"
   ]
  },
  {
   "cell_type": "code",
   "execution_count": null,
   "metadata": {},
   "outputs": [],
   "source": [
    "# Customer table uses 'customer_id', but another table uses 'cust_id'\n",
    "customer_preferences = pl.DataFrame({\n",
    "    'cust_id': [1, 2, 3],\n",
    "    'preferred_category': ['Electronics', 'Accessories', 'Electronics'],\n",
    "    'newsletter': [True, False, True]\n",
    "})\n",
    "\n",
    "# Join using left_on and right_on\n",
    "customer_with_prefs = customers.join(\n",
    "    customer_preferences,\n",
    "    left_on='customer_id',\n",
    "    right_on='cust_id',\n",
    "    how='left'\n",
    ")\n",
    "\n",
    "print(\"Customers with preferences (different column names):\")\n",
    "print(customer_with_prefs)"
   ]
  },
  {
   "cell_type": "markdown",
   "metadata": {},
   "source": [
    "### Handling Duplicate Column Names"
   ]
  },
  {
   "cell_type": "code",
   "execution_count": null,
   "metadata": {},
   "outputs": [],
   "source": [
    "# When both tables have same column names (other than join key)\n",
    "customer_info = pl.DataFrame({\n",
    "    'customer_id': [1, 2, 3],\n",
    "    'name': ['Alice', 'Bob', 'Charlie'],\n",
    "    'status': ['Gold', 'Silver', 'Bronze']\n",
    "})\n",
    "\n",
    "order_info = pl.DataFrame({\n",
    "    'customer_id': [1, 1, 2],\n",
    "    'order_id': [101, 102, 103],\n",
    "    'status': ['Shipped', 'Delivered', 'Processing']  # Same column name!\n",
    "})\n",
    "\n",
    "# Polars adds suffix automatically\n",
    "joined = customer_info.join(order_info, on='customer_id', suffix='_order')\n",
    "\n",
    "print(\"Join with duplicate column names:\")\n",
    "print(joined)\n",
    "print(\"\\nNote: 'status' from customer table, 'status_order' from order table\")"
   ]
  },
  {
   "cell_type": "markdown",
   "metadata": {},
   "source": [
    "## Join Performance Tips"
   ]
  },
  {
   "cell_type": "code",
   "execution_count": null,
   "metadata": {},
   "outputs": [],
   "source": [
    "# Create larger datasets for performance testing\n",
    "import time\n",
    "\n",
    "large_customers = pl.DataFrame({\n",
    "    'customer_id': range(100000),\n",
    "    'name': [f'Customer_{i}' for i in range(100000)],\n",
    "    'value': np.random.randn(100000)\n",
    "})\n",
    "\n",
    "large_orders = pl.DataFrame({\n",
    "    'order_id': range(50000),\n",
    "    'customer_id': np.random.randint(0, 100000, 50000),\n",
    "    'amount': np.random.uniform(10, 1000, 50000)\n",
    "})\n",
    "\n",
    "# Tip 1: Use semi/anti join instead of left join + filter when possible\n",
    "start = time.time()\n",
    "result1 = large_customers.join(large_orders, on='customer_id', how='left').filter(\n",
    "    pl.col('order_id').is_not_null()\n",
    ")\n",
    "time1 = time.time() - start\n",
    "\n",
    "start = time.time()\n",
    "result2 = large_customers.join(large_orders, on='customer_id', how='semi')\n",
    "time2 = time.time() - start\n",
    "\n",
    "print(f\"Left join + filter: {time1:.4f} seconds\")\n",
    "print(f\"Semi join: {time2:.4f} seconds\")\n",
    "print(f\"Semi join is {time1/time2:.2f}x faster\")"
   ]
  },
  {
   "cell_type": "markdown",
   "metadata": {},
   "source": [
    "## Summary: When to Use Each Join Type\n",
    "\n",
    "| Join Type | Use When | Keeps Columns From | Duplicate Rows |\n",
    "|-----------|----------|-------------------|----------------|\n",
    "| **INNER** | Only want matching rows from both sides | Both tables | Yes (if multiple matches) |\n",
    "| **LEFT** | Want all from left, with optional matches from right | Both tables | Yes (if multiple matches) |\n",
    "| **RIGHT** | Want all from right, with optional matches from left | Both tables | Yes (if multiple matches) |\n",
    "| **FULL** | Want all rows from both sides | Both tables | Yes (if multiple matches) |\n",
    "| **CROSS** | Need all possible combinations | Both tables | By design |\n",
    "| **SEMI** | Filter left table by existence in right table | Left only | No (deduplicates left) |\n",
    "| **ANTI** | Filter left table by NON-existence in right table | Left only | No (deduplicates left) |\n",
    "\n",
    "### Quick Decision Guide:\n",
    "- Need data from both tables? → **INNER/LEFT/RIGHT/FULL**\n",
    "- Just filtering one table by another? → **SEMI/ANTI**\n",
    "- Need all combinations? → **CROSS**"
   ]
  },
  {
   "cell_type": "markdown",
   "metadata": {},
   "source": [
    "## Practice Exercises"
   ]
  },
  {
   "cell_type": "code",
   "execution_count": null,
   "metadata": {},
   "outputs": [],
   "source": [
    "# Setup for exercises\n",
    "employees = pl.DataFrame({\n",
    "    'emp_id': [1, 2, 3, 4, 5],\n",
    "    'name': ['John', 'Sarah', 'Mike', 'Emma', 'David'],\n",
    "    'department': ['IT', 'HR', 'IT', 'Finance', 'Marketing']\n",
    "})\n",
    "\n",
    "projects = pl.DataFrame({\n",
    "    'project_id': [101, 102, 103, 104],\n",
    "    'emp_id': [1, 1, 2, 6],  # Note: emp_id 6 doesn't exist\n",
    "    'project_name': ['Website', 'App', 'Recruitment', 'Mystery'],\n",
    "    'hours': [120, 80, 40, 60]\n",
    "})\n",
    "\n",
    "print(\"EMPLOYEES:\")\n",
    "print(employees)\n",
    "print(\"\\nPROJECTS:\")\n",
    "print(projects)"
   ]
  },
  {
   "cell_type": "code",
   "execution_count": null,
   "metadata": {},
   "outputs": [],
   "source": [
    "# Exercise 1: Find employees who are working on projects\n",
    "# Your code here:\n"
   ]
  },
  {
   "cell_type": "code",
   "execution_count": null,
   "metadata": {},
   "outputs": [],
   "source": [
    "# Exercise 2: Find employees who are NOT working on any projects\n",
    "# Your code here:\n"
   ]
  },
  {
   "cell_type": "code",
   "execution_count": null,
   "metadata": {},
   "outputs": [],
   "source": [
    "# Exercise 3: Find projects with invalid employee assignments\n",
    "# Your code here:\n"
   ]
  },
  {
   "cell_type": "code",
   "execution_count": null,
   "metadata": {},
   "outputs": [],
   "source": [
    "# Exercise 4: Show all employees and all projects in one view\n",
    "# Your code here:\n"
   ]
  }
 ],
 "metadata": {
  "kernelspec": {
   "display_name": "Python 3",
   "language": "python",
   "name": "python3"
  },
  "language_info": {
   "codemirror_mode": {
    "name": "ipython",
    "version": 3
   },
   "file_extension": ".py",
   "mimetype": "text/x-python",
   "name": "python",
   "nbconvert_exporter": "python",
   "pygments_lexer": "ipython3",
   "version": "3.8.0"
  }
 },
 "nbformat": 4,
 "nbformat_minor": 4
}
