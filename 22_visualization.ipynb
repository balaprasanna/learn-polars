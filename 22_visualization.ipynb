{
 "cells": [
  {
   "cell_type": "markdown",
   "metadata": {},
   "source": [
    "# Polars Data Visualization - Comprehensive Workshop\n",
    "\n",
    "Master data visualization with Polars using Matplotlib and Plotly.\n",
    "\n",
    "## What You'll Learn:\n",
    "- Converting Polars DataFrames for plotting\n",
    "- Matplotlib integration (static plots)\n",
    "- Plotly integration (interactive plots)\n",
    "- Line charts, bar charts, scatter plots, histograms\n",
    "- Time series visualization\n",
    "- Multi-panel plots and subplots\n",
    "- Customizing styles and themes\n",
    "- Real-world dashboard examples\n",
    "\n",
    "## Why Visualize with Polars?\n",
    "- ✅ Fast data preparation with Polars expressions\n",
    "- ✅ Efficient aggregation before plotting\n",
    "- ✅ Seamless integration with popular viz libraries\n",
    "- ✅ Handle large datasets efficiently\n",
    "\n",
    "## Libraries:\n",
    "- **Matplotlib**: Static plots, publication-quality graphics\n",
    "- **Plotly**: Interactive plots, web-ready visualizations"
   ]
  },
  {
   "cell_type": "code",
   "execution_count": null,
   "metadata": {},
   "outputs": [],
   "source": [
    "import polars as pl\n",
    "import numpy as np\n",
    "import matplotlib.pyplot as plt\n",
    "import plotly.express as px\n",
    "import plotly.graph_objects as go\n",
    "from datetime import date, datetime, timedelta\n",
    "\n",
    "# Set style for matplotlib\n",
    "plt.style.use('seaborn-v0_8-darkgrid')\n",
    "%matplotlib inline\n",
    "\n",
    "print(f\"Polars version: {pl.__version__}\")"
   ]
  },
  {
   "cell_type": "markdown",
   "metadata": {},
   "source": [
    "---\n",
    "# Part 1: Data Preparation for Plotting"
   ]
  },
  {
   "cell_type": "markdown",
   "metadata": {},
   "source": [
    "## 1.1 Creating Sample Data"
   ]
  },
  {
   "cell_type": "code",
   "execution_count": null,
   "metadata": {},
   "outputs": [],
   "source": [
    "# Create sample sales data\n",
    "np.random.seed(42)\n",
    "dates = [date(2024, 1, 1) + timedelta(days=i) for i in range(365)]\n",
    "\n",
    "df_sales = pl.DataFrame({\n",
    "    'date': dates,\n",
    "    'product': np.random.choice(['Laptop', 'Phone', 'Tablet', 'Headphones'], 365),\n",
    "    'region': np.random.choice(['North', 'South', 'East', 'West'], 365),\n",
    "    'revenue': np.random.randint(100, 2000, 365),\n",
    "    'units_sold': np.random.randint(1, 20, 365)\n",
    "})\n",
    "\n",
    "print(\"Sample data:\")\n",
    "print(df_sales.head(10))\n",
    "print(f\"\\nTotal rows: {len(df_sales)}\")"
   ]
  },
  {
   "cell_type": "markdown",
   "metadata": {},
   "source": [
    "## 1.2 Converting Polars to Plotting-Friendly Formats"
   ]
  },
  {
   "cell_type": "code",
   "execution_count": null,
   "metadata": {},
   "outputs": [],
   "source": [
    "# Method 1: Extract columns as Python lists (for matplotlib)\n",
    "dates_list = df_sales['date'].to_list()\n",
    "revenue_list = df_sales['revenue'].to_list()\n",
    "\n",
    "print(f\"As lists: {len(dates_list)} dates, {len(revenue_list)} revenue values\")\n",
    "\n",
    "# Method 2: Convert to NumPy arrays (faster for matplotlib)\n",
    "dates_np = df_sales['date'].to_numpy()\n",
    "revenue_np = df_sales['revenue'].to_numpy()\n",
    "\n",
    "print(f\"As NumPy: {dates_np.shape}, {revenue_np.shape}\")\n",
    "\n",
    "# Method 3: Use Polars directly (Plotly supports Polars DataFrames!)\n",
    "print(f\"\\nPlotly can use Polars DataFrames directly!\")"
   ]
  },
  {
   "cell_type": "markdown",
   "metadata": {},
   "source": [
    "---\n",
    "# Part 2: Matplotlib - Static Plots"
   ]
  },
  {
   "cell_type": "markdown",
   "metadata": {},
   "source": [
    "## 2.1 Line Charts"
   ]
  },
  {
   "cell_type": "code",
   "execution_count": null,
   "metadata": {},
   "outputs": [],
   "source": [
    "# Simple line chart\n",
    "plt.figure(figsize=(12, 6))\n",
    "plt.plot(df_sales['date'].to_list(), df_sales['revenue'].to_list())\n",
    "plt.title('Daily Revenue Over Time', fontsize=16, fontweight='bold')\n",
    "plt.xlabel('Date', fontsize=12)\n",
    "plt.ylabel('Revenue ($)', fontsize=12)\n",
    "plt.xticks(rotation=45)\n",
    "plt.tight_layout()\n",
    "plt.grid(True, alpha=0.3)\n",
    "plt.show()"
   ]
  },
  {
   "cell_type": "code",
   "execution_count": null,
   "metadata": {},
   "outputs": [],
   "source": [
    "# Multiple lines - Revenue by Product\n",
    "products = df_sales['product'].unique().to_list()\n",
    "\n",
    "plt.figure(figsize=(14, 7))\n",
    "\n",
    "for product in products:\n",
    "    product_data = df_sales.filter(pl.col('product') == product).sort('date')\n",
    "    \n",
    "    # Calculate 7-day moving average\n",
    "    product_data = product_data.with_columns(\n",
    "        pl.col('revenue').rolling_mean(window_size=7).alias('revenue_ma7')\n",
    "    )\n",
    "    \n",
    "    plt.plot(\n",
    "        product_data['date'].to_list(),\n",
    "        product_data['revenue_ma7'].to_list(),\n",
    "        label=product,\n",
    "        linewidth=2\n",
    "    )\n",
    "\n",
    "plt.title('Revenue Trend by Product (7-Day Moving Average)', fontsize=16, fontweight='bold')\n",
    "plt.xlabel('Date', fontsize=12)\n",
    "plt.ylabel('Revenue ($)', fontsize=12)\n",
    "plt.legend(loc='best', fontsize=10)\n",
    "plt.xticks(rotation=45)\n",
    "plt.tight_layout()\n",
    "plt.grid(True, alpha=0.3)\n",
    "plt.show()"
   ]
  },
  {
   "cell_type": "markdown",
   "metadata": {},
   "source": [
    "## 2.2 Bar Charts"
   ]
  },
  {
   "cell_type": "code",
   "execution_count": null,
   "metadata": {},
   "outputs": [],
   "source": [
    "# Total revenue by product\n",
    "product_revenue = (\n",
    "    df_sales\n",
    "    .group_by('product')\n",
    "    .agg(pl.col('revenue').sum().alias('total_revenue'))\n",
    "    .sort('total_revenue', descending=True)\n",
    ")\n",
    "\n",
    "plt.figure(figsize=(10, 6))\n",
    "plt.bar(\n",
    "    product_revenue['product'].to_list(),\n",
    "    product_revenue['total_revenue'].to_list(),\n",
    "    color=['#1f77b4', '#ff7f0e', '#2ca02c', '#d62728']\n",
    ")\n",
    "plt.title('Total Revenue by Product', fontsize=16, fontweight='bold')\n",
    "plt.xlabel('Product', fontsize=12)\n",
    "plt.ylabel('Total Revenue ($)', fontsize=12)\n",
    "plt.xticks(rotation=0)\n",
    "plt.tight_layout()\n",
    "plt.grid(axis='y', alpha=0.3)\n",
    "\n",
    "# Add value labels on bars\n",
    "for i, (product, revenue) in enumerate(zip(product_revenue['product'].to_list(), product_revenue['total_revenue'].to_list())):\n",
    "    plt.text(i, revenue + 1000, f'${revenue:,.0f}', ha='center', fontsize=10)\n",
    "\n",
    "plt.show()"
   ]
  },
  {
   "cell_type": "code",
   "execution_count": null,
   "metadata": {},
   "outputs": [],
   "source": [
    "# Grouped bar chart - Revenue by Product and Region\n",
    "product_region = (\n",
    "    df_sales\n",
    "    .group_by(['product', 'region'])\n",
    "    .agg(pl.col('revenue').sum().alias('total_revenue'))\n",
    "    .sort(['product', 'region'])\n",
    ")\n",
    "\n",
    "products = product_region['product'].unique().to_list()\n",
    "regions = product_region['region'].unique().to_list()\n",
    "\n",
    "fig, ax = plt.subplots(figsize=(12, 6))\n",
    "\n",
    "x = np.arange(len(products))\n",
    "width = 0.2\n",
    "\n",
    "for i, region in enumerate(regions):\n",
    "    region_data = product_region.filter(pl.col('region') == region)\n",
    "    revenues = []\n",
    "    \n",
    "    for product in products:\n",
    "        prod_revenue = region_data.filter(pl.col('product') == product)['total_revenue']\n",
    "        revenues.append(prod_revenue[0] if len(prod_revenue) > 0 else 0)\n",
    "    \n",
    "    ax.bar(x + i * width, revenues, width, label=region)\n",
    "\n",
    "ax.set_title('Revenue by Product and Region', fontsize=16, fontweight='bold')\n",
    "ax.set_xlabel('Product', fontsize=12)\n",
    "ax.set_ylabel('Total Revenue ($)', fontsize=12)\n",
    "ax.set_xticks(x + width * 1.5)\n",
    "ax.set_xticklabels(products)\n",
    "ax.legend()\n",
    "ax.grid(axis='y', alpha=0.3)\n",
    "plt.tight_layout()\n",
    "plt.show()"
   ]
  },
  {
   "cell_type": "markdown",
   "metadata": {},
   "source": [
    "## 2.3 Scatter Plots"
   ]
  },
  {
   "cell_type": "code",
   "execution_count": null,
   "metadata": {},
   "outputs": [],
   "source": [
    "# Scatter plot: Units Sold vs Revenue\n",
    "plt.figure(figsize=(10, 6))\n",
    "\n",
    "products = df_sales['product'].unique().to_list()\n",
    "colors = ['#1f77b4', '#ff7f0e', '#2ca02c', '#d62728']\n",
    "\n",
    "for product, color in zip(products, colors):\n",
    "    product_data = df_sales.filter(pl.col('product') == product)\n",
    "    plt.scatter(\n",
    "        product_data['units_sold'].to_list(),\n",
    "        product_data['revenue'].to_list(),\n",
    "        label=product,\n",
    "        alpha=0.6,\n",
    "        s=50,\n",
    "        color=color\n",
    "    )\n",
    "\n",
    "plt.title('Revenue vs Units Sold by Product', fontsize=16, fontweight='bold')\n",
    "plt.xlabel('Units Sold', fontsize=12)\n",
    "plt.ylabel('Revenue ($)', fontsize=12)\n",
    "plt.legend(loc='best')\n",
    "plt.grid(True, alpha=0.3)\n",
    "plt.tight_layout()\n",
    "plt.show()"
   ]
  },
  {
   "cell_type": "markdown",
   "metadata": {},
   "source": [
    "## 2.4 Histograms"
   ]
  },
  {
   "cell_type": "code",
   "execution_count": null,
   "metadata": {},
   "outputs": [],
   "source": [
    "# Distribution of revenue\n",
    "fig, axes = plt.subplots(1, 2, figsize=(14, 5))\n",
    "\n",
    "# Histogram\n",
    "axes[0].hist(df_sales['revenue'].to_list(), bins=30, color='skyblue', edgecolor='black')\n",
    "axes[0].set_title('Revenue Distribution', fontsize=14, fontweight='bold')\n",
    "axes[0].set_xlabel('Revenue ($)', fontsize=12)\n",
    "axes[0].set_ylabel('Frequency', fontsize=12)\n",
    "axes[0].grid(axis='y', alpha=0.3)\n",
    "\n",
    "# Box plot\n",
    "products = df_sales['product'].unique().to_list()\n",
    "data_by_product = [df_sales.filter(pl.col('product') == p)['revenue'].to_list() for p in products]\n",
    "\n",
    "axes[1].boxplot(data_by_product, labels=products)\n",
    "axes[1].set_title('Revenue Distribution by Product', fontsize=14, fontweight='bold')\n",
    "axes[1].set_xlabel('Product', fontsize=12)\n",
    "axes[1].set_ylabel('Revenue ($)', fontsize=12)\n",
    "axes[1].grid(axis='y', alpha=0.3)\n",
    "\n",
    "plt.tight_layout()\n",
    "plt.show()"
   ]
  },
  {
   "cell_type": "markdown",
   "metadata": {},
   "source": [
    "## 2.5 Pie Charts"
   ]
  },
  {
   "cell_type": "code",
   "execution_count": null,
   "metadata": {},
   "outputs": [],
   "source": [
    "# Market share by product\n",
    "product_revenue = (\n",
    "    df_sales\n",
    "    .group_by('product')\n",
    "    .agg(pl.col('revenue').sum().alias('total_revenue'))\n",
    "    .sort('total_revenue', descending=True)\n",
    ")\n",
    "\n",
    "plt.figure(figsize=(10, 8))\n",
    "plt.pie(\n",
    "    product_revenue['total_revenue'].to_list(),\n",
    "    labels=product_revenue['product'].to_list(),\n",
    "    autopct='%1.1f%%',\n",
    "    startangle=90,\n",
    "    colors=['#1f77b4', '#ff7f0e', '#2ca02c', '#d62728']\n",
    ")\n",
    "plt.title('Revenue Market Share by Product', fontsize=16, fontweight='bold')\n",
    "plt.axis('equal')\n",
    "plt.tight_layout()\n",
    "plt.show()"
   ]
  },
  {
   "cell_type": "markdown",
   "metadata": {},
   "source": [
    "## 2.6 Heatmaps"
   ]
  },
  {
   "cell_type": "code",
   "execution_count": null,
   "metadata": {},
   "outputs": [],
   "source": [
    "# Create month and product revenue heatmap\n",
    "monthly_product = (\n",
    "    df_sales\n",
    "    .with_columns(pl.col('date').dt.month().alias('month'))\n",
    "    .group_by(['month', 'product'])\n",
    "    .agg(pl.col('revenue').sum().alias('total_revenue'))\n",
    ")\n",
    "\n",
    "# Pivot for heatmap\n",
    "pivot = monthly_product.pivot(\n",
    "    values='total_revenue',\n",
    "    index='month',\n",
    "    columns='product'\n",
    ").sort('month')\n",
    "\n",
    "# Convert to numpy for heatmap\n",
    "products = [col for col in pivot.columns if col != 'month']\n",
    "data_matrix = pivot.select(products).to_numpy()\n",
    "\n",
    "plt.figure(figsize=(12, 6))\n",
    "plt.imshow(data_matrix, cmap='YlOrRd', aspect='auto')\n",
    "plt.colorbar(label='Revenue ($)')\n",
    "plt.title('Monthly Revenue Heatmap by Product', fontsize=16, fontweight='bold')\n",
    "plt.xlabel('Product', fontsize=12)\n",
    "plt.ylabel('Month', fontsize=12)\n",
    "plt.xticks(range(len(products)), products, rotation=45)\n",
    "plt.yticks(range(len(pivot)), pivot['month'].to_list())\n",
    "plt.tight_layout()\n",
    "plt.show()"
   ]
  },
  {
   "cell_type": "markdown",
   "metadata": {},
   "source": [
    "---\n",
    "# Part 3: Plotly - Interactive Plots"
   ]
  },
  {
   "cell_type": "markdown",
   "metadata": {},
   "source": [
    "## 3.1 Interactive Line Charts"
   ]
  },
  {
   "cell_type": "code",
   "execution_count": null,
   "metadata": {},
   "outputs": [],
   "source": [
    "# Simple interactive line chart\n",
    "# Plotly works directly with Polars DataFrames!\n",
    "\n",
    "# Daily revenue\n",
    "daily_revenue = df_sales.sort('date')\n",
    "\n",
    "fig = px.line(\n",
    "    daily_revenue,\n",
    "    x='date',\n",
    "    y='revenue',\n",
    "    title='Daily Revenue (Interactive)',\n",
    "    labels={'revenue': 'Revenue ($)', 'date': 'Date'}\n",
    ")\n",
    "fig.update_layout(hovermode='x unified')\n",
    "fig.show()"
   ]
  },
  {
   "cell_type": "code",
   "execution_count": null,
   "metadata": {},
   "outputs": [],
   "source": [
    "# Multiple lines by product\n",
    "# Calculate weekly aggregates for cleaner visualization\n",
    "weekly_revenue = (\n",
    "    df_sales\n",
    "    .sort('date')\n",
    "    .with_columns([\n",
    "        pl.col('date').dt.truncate('1w').alias('week')\n",
    "    ])\n",
    "    .group_by(['week', 'product'])\n",
    "    .agg(pl.col('revenue').sum().alias('revenue'))\n",
    "    .sort('week')\n",
    ")\n",
    "\n",
    "fig = px.line(\n",
    "    weekly_revenue,\n",
    "    x='week',\n",
    "    y='revenue',\n",
    "    color='product',\n",
    "    title='Weekly Revenue by Product',\n",
    "    labels={'revenue': 'Revenue ($)', 'week': 'Week', 'product': 'Product'}\n",
    ")\n",
    "fig.update_layout(hovermode='x unified')\n",
    "fig.show()"
   ]
  },
  {
   "cell_type": "markdown",
   "metadata": {},
   "source": [
    "## 3.2 Interactive Bar Charts"
   ]
  },
  {
   "cell_type": "code",
   "execution_count": null,
   "metadata": {},
   "outputs": [],
   "source": [
    "# Total revenue by product\n",
    "product_revenue = (\n",
    "    df_sales\n",
    "    .group_by('product')\n",
    "    .agg([\n",
    "        pl.col('revenue').sum().alias('total_revenue'),\n",
    "        pl.col('units_sold').sum().alias('total_units')\n",
    "    ])\n",
    "    .sort('total_revenue', descending=True)\n",
    ")\n",
    "\n",
    "fig = px.bar(\n",
    "    product_revenue,\n",
    "    x='product',\n",
    "    y='total_revenue',\n",
    "    title='Total Revenue by Product',\n",
    "    labels={'total_revenue': 'Total Revenue ($)', 'product': 'Product'},\n",
    "    color='total_revenue',\n",
    "    color_continuous_scale='Blues'\n",
    ")\n",
    "fig.show()"
   ]
  },
  {
   "cell_type": "code",
   "execution_count": null,
   "metadata": {},
   "outputs": [],
   "source": [
    "# Grouped bar chart\n",
    "product_region = (\n",
    "    df_sales\n",
    "    .group_by(['product', 'region'])\n",
    "    .agg(pl.col('revenue').sum().alias('total_revenue'))\n",
    ")\n",
    "\n",
    "fig = px.bar(\n",
    "    product_region,\n",
    "    x='product',\n",
    "    y='total_revenue',\n",
    "    color='region',\n",
    "    barmode='group',\n",
    "    title='Revenue by Product and Region',\n",
    "    labels={'total_revenue': 'Total Revenue ($)', 'product': 'Product', 'region': 'Region'}\n",
    ")\n",
    "fig.show()"
   ]
  },
  {
   "cell_type": "markdown",
   "metadata": {},
   "source": [
    "## 3.3 Interactive Scatter Plots"
   ]
  },
  {
   "cell_type": "code",
   "execution_count": null,
   "metadata": {},
   "outputs": [],
   "source": [
    "# Scatter plot with color and size\n",
    "fig = px.scatter(\n",
    "    df_sales,\n",
    "    x='units_sold',\n",
    "    y='revenue',\n",
    "    color='product',\n",
    "    size='revenue',\n",
    "    hover_data=['date', 'region'],\n",
    "    title='Revenue vs Units Sold (Interactive)',\n",
    "    labels={'units_sold': 'Units Sold', 'revenue': 'Revenue ($)'}\n",
    ")\n",
    "fig.show()"
   ]
  },
  {
   "cell_type": "markdown",
   "metadata": {},
   "source": [
    "## 3.4 Interactive Box Plots"
   ]
  },
  {
   "cell_type": "code",
   "execution_count": null,
   "metadata": {},
   "outputs": [],
   "source": [
    "# Box plot by product and region\n",
    "fig = px.box(\n",
    "    df_sales,\n",
    "    x='product',\n",
    "    y='revenue',\n",
    "    color='region',\n",
    "    title='Revenue Distribution by Product and Region',\n",
    "    labels={'revenue': 'Revenue ($)', 'product': 'Product'}\n",
    ")\n",
    "fig.show()"
   ]
  },
  {
   "cell_type": "markdown",
   "metadata": {},
   "source": [
    "## 3.5 Interactive Heatmaps"
   ]
  },
  {
   "cell_type": "code",
   "execution_count": null,
   "metadata": {},
   "outputs": [],
   "source": [
    "# Create heatmap data\n",
    "monthly_product = (\n",
    "    df_sales\n",
    "    .with_columns(pl.col('date').dt.month().alias('month'))\n",
    "    .group_by(['month', 'product'])\n",
    "    .agg(pl.col('revenue').sum().alias('total_revenue'))\n",
    ")\n",
    "\n",
    "# Pivot for heatmap\n",
    "pivot = monthly_product.pivot(\n",
    "    values='total_revenue',\n",
    "    index='month',\n",
    "    columns='product'\n",
    ").sort('month')\n",
    "\n",
    "# Create heatmap\n",
    "products = [col for col in pivot.columns if col != 'month']\n",
    "z_data = pivot.select(products).to_numpy()\n",
    "\n",
    "fig = go.Figure(data=go.Heatmap(\n",
    "    z=z_data,\n",
    "    x=products,\n",
    "    y=pivot['month'].to_list(),\n",
    "    colorscale='YlOrRd',\n",
    "    text=z_data,\n",
    "    texttemplate='$%{text:,.0f}',\n",
    "    textfont={\"size\": 10},\n",
    "    colorbar=dict(title=\"Revenue ($)\")\n",
    "))\n",
    "\n",
    "fig.update_layout(\n",
    "    title='Monthly Revenue Heatmap by Product',\n",
    "    xaxis_title='Product',\n",
    "    yaxis_title='Month'\n",
    ")\n",
    "fig.show()"
   ]
  },
  {
   "cell_type": "markdown",
   "metadata": {},
   "source": [
    "## 3.6 Sunburst Charts"
   ]
  },
  {
   "cell_type": "code",
   "execution_count": null,
   "metadata": {},
   "outputs": [],
   "source": [
    "# Hierarchical view: Region > Product\n",
    "hierarchy_data = (\n",
    "    df_sales\n",
    "    .group_by(['region', 'product'])\n",
    "    .agg(pl.col('revenue').sum().alias('total_revenue'))\n",
    ")\n",
    "\n",
    "fig = px.sunburst(\n",
    "    hierarchy_data,\n",
    "    path=['region', 'product'],\n",
    "    values='total_revenue',\n",
    "    title='Revenue Hierarchy: Region → Product',\n",
    "    color='total_revenue',\n",
    "    color_continuous_scale='RdYlGn'\n",
    ")\n",
    "fig.show()"
   ]
  },
  {
   "cell_type": "markdown",
   "metadata": {},
   "source": [
    "---\n",
    "# Part 4: Time Series Visualization"
   ]
  },
  {
   "cell_type": "markdown",
   "metadata": {},
   "source": [
    "## 4.1 Rolling Averages and Trends"
   ]
  },
  {
   "cell_type": "code",
   "execution_count": null,
   "metadata": {},
   "outputs": [],
   "source": [
    "# Calculate multiple rolling windows\n",
    "time_series = (\n",
    "    df_sales\n",
    "    .sort('date')\n",
    "    .group_by('date')\n",
    "    .agg(pl.col('revenue').sum().alias('revenue'))\n",
    "    .with_columns([\n",
    "        pl.col('revenue').rolling_mean(window_size=7).alias('ma_7day'),\n",
    "        pl.col('revenue').rolling_mean(window_size=30).alias('ma_30day')\n",
    "    ])\n",
    ")\n",
    "\n",
    "# Plotly for interactive time series\n",
    "fig = go.Figure()\n",
    "\n",
    "fig.add_trace(go.Scatter(\n",
    "    x=time_series['date'].to_list(),\n",
    "    y=time_series['revenue'].to_list(),\n",
    "    mode='lines',\n",
    "    name='Daily Revenue',\n",
    "    line=dict(color='lightgray', width=1),\n",
    "    opacity=0.5\n",
    "))\n",
    "\n",
    "fig.add_trace(go.Scatter(\n",
    "    x=time_series['date'].to_list(),\n",
    "    y=time_series['ma_7day'].to_list(),\n",
    "    mode='lines',\n",
    "    name='7-Day MA',\n",
    "    line=dict(color='blue', width=2)\n",
    "))\n",
    "\n",
    "fig.add_trace(go.Scatter(\n",
    "    x=time_series['date'].to_list(),\n",
    "    y=time_series['ma_30day'].to_list(),\n",
    "    mode='lines',\n",
    "    name='30-Day MA',\n",
    "    line=dict(color='red', width=2)\n",
    "))\n",
    "\n",
    "fig.update_layout(\n",
    "    title='Revenue with Moving Averages',\n",
    "    xaxis_title='Date',\n",
    "    yaxis_title='Revenue ($)',\n",
    "    hovermode='x unified'\n",
    ")\n",
    "fig.show()"
   ]
  },
  {
   "cell_type": "markdown",
   "metadata": {},
   "source": [
    "## 4.2 Seasonality and Patterns"
   ]
  },
  {
   "cell_type": "code",
   "execution_count": null,
   "metadata": {},
   "outputs": [],
   "source": [
    "# Day of week patterns\n",
    "dow_revenue = (\n",
    "    df_sales\n",
    "    .with_columns([\n",
    "        pl.col('date').dt.weekday().alias('day_of_week'),\n",
    "        pl.col('date').dt.strftime('%A').alias('day_name')\n",
    "    ])\n",
    "    .group_by(['day_of_week', 'day_name'])\n",
    "    .agg(pl.col('revenue').mean().alias('avg_revenue'))\n",
    "    .sort('day_of_week')\n",
    ")\n",
    "\n",
    "fig = px.bar(\n",
    "    dow_revenue,\n",
    "    x='day_name',\n",
    "    y='avg_revenue',\n",
    "    title='Average Revenue by Day of Week',\n",
    "    labels={'avg_revenue': 'Average Revenue ($)', 'day_name': 'Day of Week'},\n",
    "    color='avg_revenue',\n",
    "    color_continuous_scale='Viridis'\n",
    ")\n",
    "fig.show()"
   ]
  },
  {
   "cell_type": "markdown",
   "metadata": {},
   "source": [
    "---\n",
    "# Part 5: Multi-Panel Dashboards"
   ]
  },
  {
   "cell_type": "markdown",
   "metadata": {},
   "source": [
    "## 5.1 Matplotlib Subplots"
   ]
  },
  {
   "cell_type": "code",
   "execution_count": null,
   "metadata": {},
   "outputs": [],
   "source": [
    "# Create comprehensive dashboard\n",
    "fig, axes = plt.subplots(2, 2, figsize=(16, 12))\n",
    "fig.suptitle('Sales Dashboard', fontsize=20, fontweight='bold')\n",
    "\n",
    "# 1. Time series (top-left)\n",
    "daily = df_sales.group_by('date').agg(pl.col('revenue').sum().alias('revenue')).sort('date')\n",
    "daily = daily.with_columns(pl.col('revenue').rolling_mean(window_size=7).alias('ma7'))\n",
    "axes[0, 0].plot(daily['date'].to_list(), daily['ma7'].to_list(), linewidth=2, color='blue')\n",
    "axes[0, 0].set_title('Daily Revenue Trend (7-Day MA)', fontsize=14, fontweight='bold')\n",
    "axes[0, 0].set_xlabel('Date')\n",
    "axes[0, 0].set_ylabel('Revenue ($)')\n",
    "axes[0, 0].grid(True, alpha=0.3)\n",
    "axes[0, 0].tick_params(axis='x', rotation=45)\n",
    "\n",
    "# 2. Product revenue (top-right)\n",
    "product_rev = df_sales.group_by('product').agg(pl.col('revenue').sum().alias('revenue')).sort('revenue', descending=True)\n",
    "axes[0, 1].barh(product_rev['product'].to_list(), product_rev['revenue'].to_list(), color='skyblue')\n",
    "axes[0, 1].set_title('Total Revenue by Product', fontsize=14, fontweight='bold')\n",
    "axes[0, 1].set_xlabel('Revenue ($)')\n",
    "axes[0, 1].grid(axis='x', alpha=0.3)\n",
    "\n",
    "# 3. Regional distribution (bottom-left)\n",
    "region_rev = df_sales.group_by('region').agg(pl.col('revenue').sum().alias('revenue'))\n",
    "axes[1, 0].pie(\n",
    "    region_rev['revenue'].to_list(),\n",
    "    labels=region_rev['region'].to_list(),\n",
    "    autopct='%1.1f%%',\n",
    "    startangle=90\n",
    ")\n",
    "axes[1, 0].set_title('Revenue by Region', fontsize=14, fontweight='bold')\n",
    "\n",
    "# 4. Units distribution (bottom-right)\n",
    "axes[1, 1].hist(df_sales['units_sold'].to_list(), bins=20, color='coral', edgecolor='black')\n",
    "axes[1, 1].set_title('Units Sold Distribution', fontsize=14, fontweight='bold')\n",
    "axes[1, 1].set_xlabel('Units Sold')\n",
    "axes[1, 1].set_ylabel('Frequency')\n",
    "axes[1, 1].grid(axis='y', alpha=0.3)\n",
    "\n",
    "plt.tight_layout()\n",
    "plt.show()"
   ]
  },
  {
   "cell_type": "markdown",
   "metadata": {},
   "source": [
    "## 5.2 Plotly Subplots (Interactive Dashboard)"
   ]
  },
  {
   "cell_type": "code",
   "execution_count": null,
   "metadata": {},
   "outputs": [],
   "source": [
    "from plotly.subplots import make_subplots\n",
    "\n",
    "# Create subplots\n",
    "fig = make_subplots(\n",
    "    rows=2, cols=2,\n",
    "    subplot_titles=('Daily Revenue Trend', 'Revenue by Product', 'Revenue by Region', 'Units Distribution'),\n",
    "    specs=[[{\"type\": \"scatter\"}, {\"type\": \"bar\"}],\n",
    "           [{\"type\": \"pie\"}, {\"type\": \"histogram\"}]]\n",
    ")\n",
    "\n",
    "# 1. Time series\n",
    "daily = df_sales.group_by('date').agg(pl.col('revenue').sum().alias('revenue')).sort('date')\n",
    "daily = daily.with_columns(pl.col('revenue').rolling_mean(window_size=7).alias('ma7'))\n",
    "fig.add_trace(\n",
    "    go.Scatter(x=daily['date'].to_list(), y=daily['ma7'].to_list(), name='7-Day MA', line=dict(color='blue')),\n",
    "    row=1, col=1\n",
    ")\n",
    "\n",
    "# 2. Product revenue\n",
    "product_rev = df_sales.group_by('product').agg(pl.col('revenue').sum().alias('revenue')).sort('revenue', descending=True)\n",
    "fig.add_trace(\n",
    "    go.Bar(x=product_rev['product'].to_list(), y=product_rev['revenue'].to_list(), name='Product Revenue'),\n",
    "    row=1, col=2\n",
    ")\n",
    "\n",
    "# 3. Regional pie\n",
    "region_rev = df_sales.group_by('region').agg(pl.col('revenue').sum().alias('revenue'))\n",
    "fig.add_trace(\n",
    "    go.Pie(labels=region_rev['region'].to_list(), values=region_rev['revenue'].to_list(), name='Region'),\n",
    "    row=2, col=1\n",
    ")\n",
    "\n",
    "# 4. Units histogram\n",
    "fig.add_trace(\n",
    "    go.Histogram(x=df_sales['units_sold'].to_list(), name='Units', nbinsx=20),\n",
    "    row=2, col=2\n",
    ")\n",
    "\n",
    "fig.update_layout(height=800, showlegend=False, title_text=\"Interactive Sales Dashboard\")\n",
    "fig.show()"
   ]
  },
  {
   "cell_type": "markdown",
   "metadata": {},
   "source": [
    "---\n",
    "# Part 6: Advanced Customization"
   ]
  },
  {
   "cell_type": "markdown",
   "metadata": {},
   "source": [
    "## 6.1 Custom Themes and Styles"
   ]
  },
  {
   "cell_type": "code",
   "execution_count": null,
   "metadata": {},
   "outputs": [],
   "source": [
    "# Matplotlib: Custom style\n",
    "plt.style.use('seaborn-v0_8-darkgrid')\n",
    "\n",
    "custom_colors = ['#FF6B6B', '#4ECDC4', '#45B7D1', '#FFA07A']\n",
    "\n",
    "product_rev = df_sales.group_by('product').agg(pl.col('revenue').sum().alias('revenue')).sort('revenue', descending=True)\n",
    "\n",
    "fig, ax = plt.subplots(figsize=(12, 6))\n",
    "bars = ax.bar(product_rev['product'].to_list(), product_rev['revenue'].to_list(), color=custom_colors)\n",
    "\n",
    "# Customize\n",
    "ax.set_title('Custom Styled Bar Chart', fontsize=18, fontweight='bold', pad=20)\n",
    "ax.set_xlabel('Product', fontsize=14, fontweight='bold')\n",
    "ax.set_ylabel('Revenue ($)', fontsize=14, fontweight='bold')\n",
    "ax.spines['top'].set_visible(False)\n",
    "ax.spines['right'].set_visible(False)\n",
    "ax.grid(axis='y', alpha=0.3, linestyle='--')\n",
    "\n",
    "# Add value labels\n",
    "for bar in bars:\n",
    "    height = bar.get_height()\n",
    "    ax.text(bar.get_x() + bar.get_width()/2., height,\n",
    "            f'${height:,.0f}',\n",
    "            ha='center', va='bottom', fontsize=12, fontweight='bold')\n",
    "\n",
    "plt.tight_layout()\n",
    "plt.show()"
   ]
  },
  {
   "cell_type": "code",
   "execution_count": null,
   "metadata": {},
   "outputs": [],
   "source": [
    "# Plotly: Custom theme\n",
    "import plotly.graph_objects as go\n",
    "import plotly.io as pio\n",
    "\n",
    "# Set template\n",
    "pio.templates.default = \"plotly_dark\"\n",
    "\n",
    "weekly = (\n",
    "    df_sales\n",
    "    .with_columns(pl.col('date').dt.truncate('1w').alias('week'))\n",
    "    .group_by(['week', 'product'])\n",
    "    .agg(pl.col('revenue').sum().alias('revenue'))\n",
    "    .sort('week')\n",
    ")\n",
    "\n",
    "fig = px.line(\n",
    "    weekly,\n",
    "    x='week',\n",
    "    y='revenue',\n",
    "    color='product',\n",
    "    title='Dark Theme - Weekly Revenue',\n",
    "    template='plotly_dark'\n",
    ")\n",
    "\n",
    "fig.update_layout(\n",
    "    font=dict(size=14),\n",
    "    hovermode='x unified',\n",
    "    plot_bgcolor='rgba(0,0,0,0)',\n",
    "    paper_bgcolor='rgba(0,0,0,0)'\n",
    ")\n",
    "\n",
    "fig.show()\n",
    "\n",
    "# Reset to default\n",
    "pio.templates.default = \"plotly\""
   ]
  },
  {
   "cell_type": "markdown",
   "metadata": {},
   "source": [
    "---\n",
    "# Part 7: Performance Tips"
   ]
  },
  {
   "cell_type": "markdown",
   "metadata": {},
   "source": [
    "## 7.1 Aggregate Before Plotting"
   ]
  },
  {
   "cell_type": "code",
   "execution_count": null,
   "metadata": {},
   "outputs": [],
   "source": [
    "# ❌ BAD: Plotting raw data with millions of points\n",
    "# plt.plot(huge_df['date'].to_list(), huge_df['value'].to_list())\n",
    "\n",
    "# ✅ GOOD: Aggregate first, then plot\n",
    "# For time series, aggregate by hour/day/week\n",
    "aggregated = (\n",
    "    df_sales\n",
    "    .with_columns(pl.col('date').dt.truncate('1w').alias('week'))\n",
    "    .group_by('week')\n",
    "    .agg([\n",
    "        pl.col('revenue').sum().alias('revenue'),\n",
    "        pl.col('units_sold').sum().alias('units')\n",
    "    ])\n",
    "    .sort('week')\n",
    ")\n",
    "\n",
    "plt.figure(figsize=(12, 6))\n",
    "plt.plot(aggregated['week'].to_list(), aggregated['revenue'].to_list(), linewidth=2)\n",
    "plt.title('Weekly Aggregated Revenue (Efficient)', fontsize=14, fontweight='bold')\n",
    "plt.xlabel('Week')\n",
    "plt.ylabel('Revenue ($)')\n",
    "plt.xticks(rotation=45)\n",
    "plt.tight_layout()\n",
    "plt.grid(True, alpha=0.3)\n",
    "plt.show()\n",
    "\n",
    "print(f\"Reduced from {len(df_sales)} to {len(aggregated)} points!\")"
   ]
  },
  {
   "cell_type": "markdown",
   "metadata": {},
   "source": [
    "## 7.2 Use Lazy Evaluation"
   ]
  },
  {
   "cell_type": "code",
   "execution_count": null,
   "metadata": {},
   "outputs": [],
   "source": [
    "# Use lazy evaluation for large datasets\n",
    "lazy_result = (\n",
    "    df_sales.lazy()\n",
    "    .filter(pl.col('product') == 'Laptop')\n",
    "    .group_by('date')\n",
    "    .agg(pl.col('revenue').sum().alias('revenue'))\n",
    "    .sort('date')\n",
    "    .collect()  # Only collect when ready to plot\n",
    ")\n",
    "\n",
    "# Now plot\n",
    "fig = px.line(lazy_result, x='date', y='revenue', title='Laptop Revenue (Lazy Evaluation)')\n",
    "fig.show()"
   ]
  },
  {
   "cell_type": "markdown",
   "metadata": {},
   "source": [
    "---\n",
    "# Summary\n",
    "\n",
    "## Key Takeaways:\n",
    "\n",
    "### 1. **Choosing the Right Library**\n",
    "   - **Matplotlib**: Publication-quality static plots, full customization\n",
    "   - **Plotly**: Interactive plots, web dashboards, no backend needed\n",
    "\n",
    "### 2. **Data Preparation**\n",
    "   - Aggregate data before plotting (performance!)\n",
    "   - Use Polars expressions for efficient transformations\n",
    "   - Convert to lists/numpy for Matplotlib\n",
    "   - Plotly works directly with Polars DataFrames!\n",
    "\n",
    "### 3. **Common Plot Types**\n",
    "\n",
    "| Plot Type | Use Case | Matplotlib | Plotly |\n",
    "|-----------|----------|------------|--------|\n",
    "| **Line** | Time series, trends | `plt.plot()` | `px.line()` |\n",
    "| **Bar** | Categorical comparison | `plt.bar()` | `px.bar()` |\n",
    "| **Scatter** | Correlations | `plt.scatter()` | `px.scatter()` |\n",
    "| **Histogram** | Distributions | `plt.hist()` | `px.histogram()` |\n",
    "| **Box** | Statistical summary | `plt.boxplot()` | `px.box()` |\n",
    "| **Heatmap** | Matrix data | `plt.imshow()` | `go.Heatmap()` |\n",
    "| **Pie** | Part-to-whole | `plt.pie()` | `px.pie()` |\n",
    "\n",
    "### 4. **Best Practices**\n",
    "   - ✅ Aggregate large datasets before plotting\n",
    "   - ✅ Use meaningful titles and labels\n",
    "   - ✅ Choose appropriate plot types for your data\n",
    "   - ✅ Add legends for multiple series\n",
    "   - ✅ Use color purposefully\n",
    "   - ✅ Consider your audience (static vs interactive)\n",
    "\n",
    "### 5. **Performance Tips**\n",
    "   - Use lazy evaluation for large datasets\n",
    "   - Aggregate time series (hourly/daily/weekly)\n",
    "   - Sample data if appropriate (`.sample()`)\n",
    "   - Use NumPy arrays for Matplotlib (faster)\n",
    "\n",
    "### 6. **Common Patterns**\n",
    "\n",
    "```python\n",
    "# Matplotlib pattern\n",
    "fig, ax = plt.subplots(figsize=(12, 6))\n",
    "ax.plot(df['x'].to_list(), df['y'].to_list())\n",
    "ax.set_title('Title')\n",
    "plt.show()\n",
    "\n",
    "# Plotly pattern (works with Polars directly!)\n",
    "fig = px.line(df, x='x', y='y', title='Title')\n",
    "fig.show()\n",
    "```\n",
    "\n",
    "## Remember:\n",
    "> **Prepare data with Polars, visualize with Matplotlib/Plotly!**  \n",
    "> The best visualization is one that clearly communicates your insights!"
   ]
  },
  {
   "cell_type": "markdown",
   "metadata": {},
   "source": [
    "---\n",
    "# Practice Exercises"
   ]
  },
  {
   "cell_type": "code",
   "execution_count": null,
   "metadata": {},
   "outputs": [],
   "source": [
    "# Exercise data - E-commerce store\n",
    "np.random.seed(123)\n",
    "dates_exercise = [date(2024, 1, 1) + timedelta(days=i) for i in range(180)]\n",
    "\n",
    "df_exercise = pl.DataFrame({\n",
    "    'date': dates_exercise,\n",
    "    'category': np.random.choice(['Electronics', 'Clothing', 'Books', 'Home'], 180),\n",
    "    'sales': np.random.randint(50, 500, 180),\n",
    "    'customers': np.random.randint(1, 50, 180),\n",
    "    'returns': np.random.randint(0, 20, 180)\n",
    "})\n",
    "\n",
    "print(\"Exercise data:\")\n",
    "print(df_exercise.head(10))"
   ]
  },
  {
   "cell_type": "code",
   "execution_count": null,
   "metadata": {},
   "outputs": [],
   "source": [
    "# Exercise 1: Create a line chart showing total sales over time (weekly aggregation)\n",
    "# Use Matplotlib or Plotly\n",
    "# Your code here:\n"
   ]
  },
  {
   "cell_type": "code",
   "execution_count": null,
   "metadata": {},
   "outputs": [],
   "source": [
    "# Exercise 2: Create a grouped bar chart showing total sales by category\n",
    "# Your code here:\n"
   ]
  },
  {
   "cell_type": "code",
   "execution_count": null,
   "metadata": {},
   "outputs": [],
   "source": [
    "# Exercise 3: Create a scatter plot showing relationship between customers and sales\n",
    "# Color by category\n",
    "# Your code here:\n"
   ]
  },
  {
   "cell_type": "code",
   "execution_count": null,
   "metadata": {},
   "outputs": [],
   "source": [
    "# Exercise 4: Create a 2x2 dashboard showing:\n",
    "# - Time series of sales\n",
    "# - Bar chart of sales by category\n",
    "# - Box plot of return rates\n",
    "# - Histogram of daily customers\n",
    "# Your code here:\n"
   ]
  },
  {
   "cell_type": "code",
   "execution_count": null,
   "metadata": {},
   "outputs": [],
   "source": [
    "# Exercise 5: Create an interactive Plotly chart with:\n",
    "# - Line showing 7-day and 30-day moving averages of sales\n",
    "# - Dropdown to select category\n",
    "# Your code here:\n"
   ]
  }
 ],
 "metadata": {
  "kernelspec": {
   "display_name": "Python 3",
   "language": "python",
   "name": "python3"
  },
  "language_info": {
   "name": "python",
   "version": "3.11.0"
  }
 },
 "nbformat": 4,
 "nbformat_minor": 2
}
