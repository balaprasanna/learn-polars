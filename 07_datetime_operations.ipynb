{
 "cells": [
  {
   "cell_type": "markdown",
   "metadata": {},
   "source": [
    "# Polars DateTime Operations - Comprehensive Guide\n",
    "\n",
    "Master date and time manipulation in Polars.\n",
    "\n",
    "## Topics:\n",
    "- Date/DateTime/Duration types\n",
    "- Parsing dates from strings\n",
    "- Extracting date components\n",
    "- Date arithmetic\n",
    "- Time zones\n",
    "- Date ranges and sequences\n",
    "- Temporal aggregations\n",
    "- Real-world time series examples"
   ]
  },
  {
   "cell_type": "code",
   "execution_count": null,
   "metadata": {},
   "outputs": [],
   "source": [
    "import polars as pl\n",
    "from datetime import datetime, date, timedelta"
   ]
  },
  {
   "cell_type": "markdown",
   "metadata": {},
   "source": [
    "## Part 1: Creating Date/DateTime Columns"
   ]
  },
  {
   "cell_type": "markdown",
   "metadata": {},
   "source": [
    "### From Python objects"
   ]
  },
  {
   "cell_type": "code",
   "execution_count": null,
   "metadata": {},
   "outputs": [],
   "source": [
    "df = pl.DataFrame({\n",
    "    'date': [date(2023, 1, 1), date(2023, 1, 2), date(2023, 1, 3)],\n",
    "    'datetime': [datetime(2023, 1, 1, 10, 30), datetime(2023, 1, 2, 14, 45), datetime(2023, 1, 3, 9, 15)]\n",
    "})\n",
    "\n",
    "print(df)\n",
    "print(\"\\nSchema:\")\n",
    "print(df.schema)"
   ]
  },
  {
   "cell_type": "markdown",
   "metadata": {},
   "source": [
    "### Parsing from strings"
   ]
  },
  {
   "cell_type": "code",
   "execution_count": null,
   "metadata": {},
   "outputs": [],
   "source": [
    "df_str = pl.DataFrame({\n",
    "    'date_str': ['2023-01-01', '2023-01-02', '2023-01-03'],\n",
    "    'date_custom': ['01/15/2023', '02/20/2023', '03/10/2023'],\n",
    "    'datetime_str': ['2023-01-01 10:30:00', '2023-01-02 14:45:00', '2023-01-03 09:15:00']\n",
    "})\n",
    "\n",
    "parsed = df_str.select([\n",
    "    pl.col('date_str').str.to_date().alias('date'),\n",
    "    pl.col('date_custom').str.to_date('%m/%d/%Y').alias('date_parsed'),\n",
    "    pl.col('datetime_str').str.to_datetime().alias('datetime')\n",
    "])\n",
    "\n",
    "print(\"Parsed dates:\")\n",
    "print(parsed)"
   ]
  },
  {
   "cell_type": "markdown",
   "metadata": {},
   "source": [
    "### Creating date ranges"
   ]
  },
  {
   "cell_type": "code",
   "execution_count": null,
   "metadata": {},
   "outputs": [],
   "source": [
    "# Date range\n",
    "date_range = pl.date_range(\n",
    "    start=date(2023, 1, 1),\n",
    "    end=date(2023, 1, 10),\n",
    "    interval='1d',\n",
    "    eager=True\n",
    ")\n",
    "\n",
    "df_range = pl.DataFrame({\n",
    "    'date': date_range\n",
    "})\n",
    "\n",
    "print(\"Date range:\")\n",
    "print(df_range)"
   ]
  },
  {
   "cell_type": "markdown",
   "metadata": {},
   "source": [
    "## Part 2: Extracting Date Components"
   ]
  },
  {
   "cell_type": "code",
   "execution_count": null,
   "metadata": {},
   "outputs": [],
   "source": [
    "# Sample date data\n",
    "dates_df = pl.DataFrame({\n",
    "    'datetime': pl.datetime_range(\n",
    "        datetime(2023, 1, 1, 10, 30),\n",
    "        datetime(2023, 12, 31, 15, 45),\n",
    "        '30d',\n",
    "        eager=True\n",
    "    )\n",
    "})\n",
    "\n",
    "print(\"Sample datetimes:\")\n",
    "print(dates_df.head())"
   ]
  },
  {
   "cell_type": "markdown",
   "metadata": {},
   "source": [
    "### Extract year, month, day"
   ]
  },
  {
   "cell_type": "code",
   "execution_count": null,
   "metadata": {},
   "outputs": [],
   "source": [
    "components = dates_df.select([\n",
    "    pl.col('datetime'),\n",
    "    pl.col('datetime').dt.year().alias('year'),\n",
    "    pl.col('datetime').dt.month().alias('month'),\n",
    "    pl.col('datetime').dt.day().alias('day'),\n",
    "    pl.col('datetime').dt.hour().alias('hour'),\n",
    "    pl.col('datetime').dt.minute().alias('minute'),\n",
    "    pl.col('datetime').dt.second().alias('second')\n",
    "])\n",
    "\n",
    "print(\"Date components:\")\n",
    "print(components.head())"
   ]
  },
  {
   "cell_type": "markdown",
   "metadata": {},
   "source": [
    "### Weekday, week, quarter"
   ]
  },
  {
   "cell_type": "code",
   "execution_count": null,
   "metadata": {},
   "outputs": [],
   "source": [
    "temporal = dates_df.select([\n",
    "    pl.col('datetime'),\n",
    "    pl.col('datetime').dt.weekday().alias('weekday'),  # 0=Mon, 6=Sun\n",
    "    pl.col('datetime').dt.week().alias('week_of_year'),\n",
    "    pl.col('datetime').dt.quarter().alias('quarter'),\n",
    "    pl.col('datetime').dt.ordinal_day().alias('day_of_year')\n",
    "])\n",
    "\n",
    "print(\"Temporal components:\")\n",
    "print(temporal.head())"
   ]
  },
  {
   "cell_type": "markdown",
   "metadata": {},
   "source": [
    "## Part 3: Date Arithmetic"
   ]
  },
  {
   "cell_type": "markdown",
   "metadata": {},
   "source": [
    "### Adding/Subtracting durations"
   ]
  },
  {
   "cell_type": "code",
   "execution_count": null,
   "metadata": {},
   "outputs": [],
   "source": [
    "df_date = pl.DataFrame({\n",
    "    'date': [date(2023, 1, 1), date(2023, 2, 15), date(2023, 6, 30)]\n",
    "})\n",
    "\n",
    "arithmetic = df_date.select([\n",
    "    pl.col('date'),\n",
    "    (pl.col('date') + pl.duration(days=7)).alias('plus_7_days'),\n",
    "    (pl.col('date') + pl.duration(weeks=2)).alias('plus_2_weeks'),\n",
    "    (pl.col('date') + pl.duration(days=30)).alias('plus_30_days'),\n",
    "    (pl.col('date') - pl.duration(days=10)).alias('minus_10_days')\n",
    "])\n",
    "\n",
    "print(\"Date arithmetic:\")\n",
    "print(arithmetic)"
   ]
  },
  {
   "cell_type": "markdown",
   "metadata": {},
   "source": [
    "### Date differences"
   ]
  },
  {
   "cell_type": "code",
   "execution_count": null,
   "metadata": {},
   "outputs": [],
   "source": [
    "df_events = pl.DataFrame({\n",
    "    'event': ['Start', 'Milestone 1', 'Milestone 2', 'End'],\n",
    "    'date': [date(2023, 1, 1), date(2023, 3, 15), date(2023, 6, 30), date(2023, 12, 31)]\n",
    "})\n",
    "\n",
    "differences = df_events.with_columns([\n",
    "    (pl.col('date') - pl.col('date').first()).alias('days_from_start'),\n",
    "    (pl.col('date') - pl.col('date').shift(1)).alias('days_since_prev')\n",
    "])\n",
    "\n",
    "print(\"Date differences:\")\n",
    "print(differences)"
   ]
  },
  {
   "cell_type": "markdown",
   "metadata": {},
   "source": [
    "## Part 4: Truncating and Rounding"
   ]
  },
  {
   "cell_type": "code",
   "execution_count": null,
   "metadata": {},
   "outputs": [],
   "source": [
    "df_times = pl.DataFrame({\n",
    "    'datetime': [\n",
    "        datetime(2023, 1, 15, 10, 30, 45),\n",
    "        datetime(2023, 2, 20, 14, 45, 30),\n",
    "        datetime(2023, 3, 10, 9, 15, 20)\n",
    "    ]\n",
    "})\n",
    "\n",
    "truncated = df_times.select([\n",
    "    pl.col('datetime'),\n",
    "    pl.col('datetime').dt.truncate('1d').alias('day'),\n",
    "    pl.col('datetime').dt.truncate('1h').alias('hour'),\n",
    "    pl.col('datetime').dt.truncate('1mo').alias('month'),\n",
    "    pl.col('datetime').dt.truncate('1y').alias('year')\n",
    "])\n",
    "\n",
    "print(\"Truncated dates:\")\n",
    "print(truncated)"
   ]
  },
  {
   "cell_type": "markdown",
   "metadata": {},
   "source": [
    "## Part 5: Filtering by Dates"
   ]
  },
  {
   "cell_type": "code",
   "execution_count": null,
   "metadata": {},
   "outputs": [],
   "source": [
    "# Sample sales data\n",
    "sales_df = pl.DataFrame({\n",
    "    'date': pl.date_range(date(2023, 1, 1), date(2023, 12, 31), '1d', eager=True),\n",
    "    'sales': pl.Series([100 + i % 50 for i in range(365)])\n",
    "})\n",
    "\n",
    "print(f\"Total records: {len(sales_df)}\")"
   ]
  },
  {
   "cell_type": "markdown",
   "metadata": {},
   "source": [
    "### Filter by date range"
   ]
  },
  {
   "cell_type": "code",
   "execution_count": null,
   "metadata": {},
   "outputs": [],
   "source": [
    "# Q1 2023\n",
    "q1 = sales_df.filter(\n",
    "    (pl.col('date') >= date(2023, 1, 1)) & \n",
    "    (pl.col('date') < date(2023, 4, 1))\n",
    ")\n",
    "\n",
    "print(f\"Q1 records: {len(q1)}\")\n",
    "print(q1.head())"
   ]
  },
  {
   "cell_type": "markdown",
   "metadata": {},
   "source": [
    "### Filter by date components"
   ]
  },
  {
   "cell_type": "code",
   "execution_count": null,
   "metadata": {},
   "outputs": [],
   "source": [
    "# All Mondays in January\n",
    "mondays_jan = sales_df.filter(\n",
    "    (pl.col('date').dt.month() == 1) &\n",
    "    (pl.col('date').dt.weekday() == 0)\n",
    ")\n",
    "\n",
    "print(\"Mondays in January:\")\n",
    "print(mondays_jan)"
   ]
  },
  {
   "cell_type": "markdown",
   "metadata": {},
   "source": [
    "## Part 6: Temporal Aggregations"
   ]
  },
  {
   "cell_type": "markdown",
   "metadata": {},
   "source": [
    "### Group by date components"
   ]
  },
  {
   "cell_type": "code",
   "execution_count": null,
   "metadata": {},
   "outputs": [],
   "source": [
    "# Monthly aggregation\n",
    "monthly = sales_df.with_columns([\n",
    "    pl.col('date').dt.year().alias('year'),\n",
    "    pl.col('date').dt.month().alias('month')\n",
    "]).group_by(['year', 'month']).agg([\n",
    "    pl.col('sales').sum().alias('total_sales'),\n",
    "    pl.col('sales').mean().alias('avg_daily_sales'),\n",
    "    pl.len().alias('num_days')\n",
    "]).sort(['year', 'month'])\n",
    "\n",
    "print(\"Monthly sales:\")\n",
    "print(monthly)"
   ]
  },
  {
   "cell_type": "markdown",
   "metadata": {},
   "source": [
    "### Quarterly aggregation"
   ]
  },
  {
   "cell_type": "code",
   "execution_count": null,
   "metadata": {},
   "outputs": [],
   "source": [
    "quarterly = sales_df.with_columns([\n",
    "    pl.col('date').dt.quarter().alias('quarter')\n",
    "]).group_by('quarter').agg([\n",
    "    pl.col('sales').sum().alias('total_sales'),\n",
    "    pl.col('sales').mean().alias('avg_sales')\n",
    "]).sort('quarter')\n",
    "\n",
    "print(\"Quarterly sales:\")\n",
    "print(quarterly)"
   ]
  },
  {
   "cell_type": "markdown",
   "metadata": {},
   "source": [
    "### Weekday vs Weekend"
   ]
  },
  {
   "cell_type": "code",
   "execution_count": null,
   "metadata": {},
   "outputs": [],
   "source": [
    "weekday_analysis = sales_df.with_columns([\n",
    "    pl.when(pl.col('date').dt.weekday().is_in([5, 6]))\n",
    "      .then(pl.lit('Weekend'))\n",
    "      .otherwise(pl.lit('Weekday'))\n",
    "      .alias('day_type')\n",
    "]).group_by('day_type').agg([\n",
    "    pl.col('sales').mean().alias('avg_sales'),\n",
    "    pl.len().alias('num_days')\n",
    "])\n",
    "\n",
    "print(\"Weekday vs Weekend:\")\n",
    "print(weekday_analysis)"
   ]
  },
  {
   "cell_type": "markdown",
   "metadata": {},
   "source": [
    "## Part 7: group_by_dynamic (Time-based Grouping)"
   ]
  },
  {
   "cell_type": "code",
   "execution_count": null,
   "metadata": {},
   "outputs": [],
   "source": [
    "# Create hourly data\n",
    "hourly_df = pl.DataFrame({\n",
    "    'timestamp': pl.datetime_range(\n",
    "        datetime(2023, 1, 1, 0, 0),\n",
    "        datetime(2023, 1, 7, 23, 0),\n",
    "        '1h',\n",
    "        eager=True\n",
    "    ),\n",
    "    'value': pl.Series([10 + i % 20 for i in range(7 * 24)])\n",
    "})\n",
    "\n",
    "print(f\"Hourly data: {len(hourly_df)} records\")\n",
    "print(hourly_df.head())"
   ]
  },
  {
   "cell_type": "markdown",
   "metadata": {},
   "source": [
    "### Aggregate to daily"
   ]
  },
  {
   "cell_type": "code",
   "execution_count": null,
   "metadata": {},
   "outputs": [],
   "source": [
    "daily = hourly_df.group_by_dynamic('timestamp', every='1d').agg([\n",
    "    pl.col('value').sum().alias('daily_total'),\n",
    "    pl.col('value').mean().alias('daily_avg'),\n",
    "    pl.len().alias('num_hours')\n",
    "])\n",
    "\n",
    "print(\"Daily aggregation:\")\n",
    "print(daily)"
   ]
  },
  {
   "cell_type": "markdown",
   "metadata": {},
   "source": [
    "### Custom windows"
   ]
  },
  {
   "cell_type": "code",
   "execution_count": null,
   "metadata": {},
   "outputs": [],
   "source": [
    "# 6-hour windows\n",
    "six_hour = hourly_df.group_by_dynamic('timestamp', every='6h').agg([\n",
    "    pl.col('value').sum().alias('total'),\n",
    "    pl.len().alias('count')\n",
    "])\n",
    "\n",
    "print(\"6-hour windows:\")\n",
    "print(six_hour.head(10))"
   ]
  },
  {
   "cell_type": "markdown",
   "metadata": {},
   "source": [
    "## Part 8: Real-World Examples"
   ]
  },
  {
   "cell_type": "markdown",
   "metadata": {},
   "source": [
    "### Example 1: Business days calculation"
   ]
  },
  {
   "cell_type": "code",
   "execution_count": null,
   "metadata": {},
   "outputs": [],
   "source": [
    "# Count business days between dates\n",
    "date_range_df = pl.DataFrame({\n",
    "    'start_date': [date(2023, 1, 1), date(2023, 6, 1)],\n",
    "    'end_date': [date(2023, 1, 31), date(2023, 6, 30)]\n",
    "})\n",
    "\n",
    "# Expand to all dates and count weekdays\n",
    "business_days = date_range_df.select([\n",
    "    pl.col('start_date'),\n",
    "    pl.col('end_date'),\n",
    "    # Generate date range and count weekdays\n",
    "    pl.date_ranges(pl.col('start_date'), pl.col('end_date'), '1d')\n",
    "      .list.eval(pl.element().dt.weekday() < 5)\n",
    "      .list.sum()\n",
    "      .alias('business_days')\n",
    "])\n",
    "\n",
    "print(\"Business days calculation:\")\n",
    "print(business_days)"
   ]
  },
  {
   "cell_type": "markdown",
   "metadata": {},
   "source": [
    "### Example 2: Age calculation"
   ]
  },
  {
   "cell_type": "code",
   "execution_count": null,
   "metadata": {},
   "outputs": [],
   "source": [
    "people_df = pl.DataFrame({\n",
    "    'name': ['Alice', 'Bob', 'Charlie'],\n",
    "    'birth_date': [date(1990, 5, 15), date(1985, 10, 20), date(2000, 3, 8)]\n",
    "})\n",
    "\n",
    "today = date(2023, 11, 1)\n",
    "\n",
    "ages = people_df.with_columns([\n",
    "    ((pl.lit(today) - pl.col('birth_date')).dt.total_days() / 365.25).cast(pl.Int32).alias('age')\n",
    "])\n",
    "\n",
    "print(f\"Ages as of {today}:\")\n",
    "print(ages)"
   ]
  },
  {
   "cell_type": "markdown",
   "metadata": {},
   "source": [
    "### Example 3: Fiscal year handling"
   ]
  },
  {
   "cell_type": "code",
   "execution_count": null,
   "metadata": {},
   "outputs": [],
   "source": [
    "# Fiscal year starts in April\n",
    "fiscal_df = sales_df.with_columns([\n",
    "    pl.when(pl.col('date').dt.month() >= 4)\n",
    "      .then(pl.col('date').dt.year())\n",
    "      .otherwise(pl.col('date').dt.year() - 1)\n",
    "      .alias('fiscal_year'),\n",
    "    pl.when(pl.col('date').dt.month() >= 4)\n",
    "      .then(pl.col('date').dt.month() - 3)\n",
    "      .otherwise(pl.col('date').dt.month() + 9)\n",
    "      .alias('fiscal_month')\n",
    "])\n",
    "\n",
    "fiscal_summary = fiscal_df.group_by('fiscal_year').agg([\n",
    "    pl.col('sales').sum().alias('fy_sales')\n",
    "]).sort('fiscal_year')\n",
    "\n",
    "print(\"Fiscal year summary:\")\n",
    "print(fiscal_summary)"
   ]
  },
  {
   "cell_type": "markdown",
   "metadata": {},
   "source": [
    "### Example 4: Time since last event"
   ]
  },
  {
   "cell_type": "code",
   "execution_count": null,
   "metadata": {},
   "outputs": [],
   "source": [
    "events_df = pl.DataFrame({\n",
    "    'customer_id': [1, 1, 1, 2, 2, 3],\n",
    "    'event_date': [\n",
    "        date(2023, 1, 1),\n",
    "        date(2023, 1, 15),\n",
    "        date(2023, 2, 1),\n",
    "        date(2023, 1, 10),\n",
    "        date(2023, 3, 1),\n",
    "        date(2023, 1, 5)\n",
    "    ]\n",
    "}).sort(['customer_id', 'event_date'])\n",
    "\n",
    "with_gaps = events_df.with_columns([\n",
    "    (pl.col('event_date') - pl.col('event_date').shift(1).over('customer_id'))\n",
    "      .dt.total_days()\n",
    "      .alias('days_since_last')\n",
    "])\n",
    "\n",
    "print(\"Time since last event:\")\n",
    "print(with_gaps)"
   ]
  },
  {
   "cell_type": "markdown",
   "metadata": {},
   "source": [
    "## Summary\n",
    "\n",
    "### Key Operations:\n",
    "- **Creation**: date(), datetime(), date_range()\n",
    "- **Parsing**: str.to_date(), str.to_datetime()\n",
    "- **Components**: year(), month(), day(), weekday(), etc.\n",
    "- **Arithmetic**: + duration(), - duration(), differences\n",
    "- **Truncation**: dt.truncate() for rounding to periods\n",
    "- **Aggregation**: group_by date components, group_by_dynamic\n",
    "\n",
    "### Best Practices:\n",
    "- Use appropriate types (Date vs DateTime)\n",
    "- Parse strings with correct format\n",
    "- Extract components for grouping\n",
    "- Use group_by_dynamic for time-based windows\n",
    "- Consider time zones for global applications"
   ]
  }
 ],
 "metadata": {
  "kernelspec": {
   "display_name": "Python 3",
   "language": "python",
   "name": "python3"
  },
  "language_info": {
   "name": "python",
   "version": "3.8.0"
  }
 },
 "nbformat": 4,
 "nbformat_minor": 4
}
